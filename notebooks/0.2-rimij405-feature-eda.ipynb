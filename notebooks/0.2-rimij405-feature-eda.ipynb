{
 "cells": [
  {
   "cell_type": "markdown",
   "id": "56c8f7ec",
   "metadata": {},
   "source": [
    "# 0.2 - Feature Engineering & EDA\n",
    "\n",
    "**Actions**: This notebook will examine aspects of the dataset, engineer features from existing ones, and perform a perliminary analysis on the dataset.\n",
    "\n",
    "This notebook will accomplish the following tasks:\n",
    "\n",
    "- Rename feature names with whitespace-free identifiers.\n",
    "- `List Price`\n",
    "    - Perform EDA on the `List Price` feature.\n",
    "    - Obtain a histogram of the list price distribution across all records.\n",
    "    - Use binned ranges to determine response categories.\n",
    "    - Add `Price` feature with the labelled list price category.\n",
    "- `Sales Price`\n",
    "    - Verify that `Sales Price` <= `List Price` for each and every record in the dataset.\n",
    "    - Rows where this assumption does not hold will be dropped.\n",
    "    - If on sale, a `1` for `On Sale`. Otherwise sets a `0`.\n",
    "- `Product Name`\n",
    "    - Determine if any cleaning needs to occur at this stage.\n",
    "    - Generate a wordcloud visualization.\n",
    "    - Describe the distribution of words.\n",
    "- `Product Description`\n",
    "    - Remove the repeated disclaimer.\n",
    "    - Generate a wordcloud visualization.\n",
    "    - Describe the distribution of words.\n",
    "- `Primary Category`\n",
    "    - Engineer feature from the `Category` field. Pulls first category from series.\n",
    "    - Generate a wordcloud visualization.\n",
    "    - Describe the distribution of words.\n",
    "- `Keywords`\n",
    "    - Engineer feature from the `Category` field. Pulls all categories from series.\n",
    "    - Generate a wordcloud visualization.\n",
    "    - Describe the distribution of words.\n",
    "\n",
    "**Dependencies**: This notebook depends on the `data/interim/ecommerce_data-cleaned-0.1.csv` data file.\n",
    "\n",
    "**Targets**: This notebook outputs several interim data files:\n",
    "\n",
    "- `data/interim/ecommerce_data-cleaned-0.2.1.csv`\n",
    "- `data/interim/ecommerce_data-cleaned-0.2.2.csv`\n",
    "- `data/interim/ecommerce_data-cleaned-0.2.3.csv`\n",
    "- `data/interim/ecommerce_data-cleaned-0.2.4.csv`\n",
    "- `data/interim/ecommerce_data-cleaned-0.2.5.csv`\n",
    "- `data/interim/ecommerce_data-cleaned-0.2.6.csv`\n",
    "- `data/interim/ecommerce_data-cleaned-0.2.7.csv`"
   ]
  },
  {
   "cell_type": "code",
   "execution_count": 1,
   "id": "8190a00b",
   "metadata": {},
   "outputs": [],
   "source": [
    "# Import necessary libraries\n",
    "import os\n",
    "import pandas as pd"
   ]
  },
  {
   "cell_type": "code",
   "execution_count": 2,
   "id": "51bcec2f",
   "metadata": {},
   "outputs": [
    {
     "name": "stdout",
     "output_type": "stream",
     "text": [
      "./../data/interim/ecommerce_data-cleaned-0.2.1.csv\n",
      "./../data/interim/ecommerce_data-cleaned-0.2.2.csv\n",
      "./../data/interim/ecommerce_data-cleaned-0.2.3.csv\n",
      "./../data/interim/ecommerce_data-cleaned-0.2.4.csv\n",
      "./../data/interim/ecommerce_data-cleaned-0.2.5.csv\n",
      "./../data/interim/ecommerce_data-cleaned-0.2.6.csv\n",
      "./../data/interim/ecommerce_data-cleaned-0.2.7.csv\n"
     ]
    }
   ],
   "source": [
    "# Setup constants.\n",
    "DATA_DIR = \"./../data/interim/\"\n",
    "BASENAME = \"ecommerce_data-cleaned-0.2\"\n",
    "EXT = \"csv\"\n",
    "\n",
    "def determine_filepath(number):\n",
    "    filename = \"{v1}.{v2}.{v3}\".format(v1=BASENAME, v2=str(number), v3=EXT)\n",
    "    return os.path.join(DATA_DIR, filename)\n",
    "\n",
    "def save_interim(df, step):\n",
    "    print(\"Saving dataframe {v1} to {v2}.\".format(v1=df.shape, v2=FILEPATHS[step]))\n",
    "    df.to_csv(FILEPATHS[step])\n",
    "    print(\"File saved.\")\n",
    "\n",
    "# Show filepath constants.\n",
    "FILEPATHS = {\n",
    "    '0.2.1': determine_filepath(1),\n",
    "    '0.2.2': determine_filepath(2),\n",
    "    '0.2.3': determine_filepath(3),\n",
    "    '0.2.4': determine_filepath(4),\n",
    "    '0.2.5': determine_filepath(5),\n",
    "    '0.2.6': determine_filepath(6),\n",
    "    '0.2.7': determine_filepath(7),\n",
    "}\n",
    "\n",
    "# Display generated filepath constants.\n",
    "for path in FILEPATHS:\n",
    "    print(FILEPATHS[path])"
   ]
  },
  {
   "cell_type": "code",
   "execution_count": 3,
   "id": "2019201c",
   "metadata": {},
   "outputs": [
    {
     "name": "stdout",
     "output_type": "stream",
     "text": [
      "Loaded data (29604, 7).\n",
      "<class 'pandas.core.frame.DataFrame'>\n",
      "Int64Index: 29604 entries, 0 to 29999\n",
      "Data columns (total 7 columns):\n",
      " #   Column           Non-Null Count  Dtype              \n",
      "---  ------           --------------  -----              \n",
      " 0   Crawl Timestamp  29604 non-null  datetime64[ns, UTC]\n",
      " 1   Product Name     29604 non-null  object             \n",
      " 2   Description      29552 non-null  object             \n",
      " 3   List Price       29604 non-null  float64            \n",
      " 4   Sale Price       29604 non-null  float64            \n",
      " 5   Brand            29045 non-null  object             \n",
      " 6   Category         29588 non-null  object             \n",
      "dtypes: datetime64[ns, UTC](1), float64(2), object(4)\n",
      "memory usage: 1.8+ MB\n"
     ]
    },
    {
     "data": {
      "text/html": [
       "<div>\n",
       "<style scoped>\n",
       "    .dataframe tbody tr th:only-of-type {\n",
       "        vertical-align: middle;\n",
       "    }\n",
       "\n",
       "    .dataframe tbody tr th {\n",
       "        vertical-align: top;\n",
       "    }\n",
       "\n",
       "    .dataframe thead th {\n",
       "        text-align: right;\n",
       "    }\n",
       "</style>\n",
       "<table border=\"1\" class=\"dataframe\">\n",
       "  <thead>\n",
       "    <tr style=\"text-align: right;\">\n",
       "      <th></th>\n",
       "      <th>Crawl Timestamp</th>\n",
       "      <th>Product Name</th>\n",
       "      <th>Description</th>\n",
       "      <th>List Price</th>\n",
       "      <th>Sale Price</th>\n",
       "      <th>Brand</th>\n",
       "      <th>Category</th>\n",
       "    </tr>\n",
       "  </thead>\n",
       "  <tbody>\n",
       "    <tr>\n",
       "      <th>0</th>\n",
       "      <td>2019-12-18 10:20:52+00:00</td>\n",
       "      <td>La Costena Chipotle Peppers, 7 OZ (Pack of 12)</td>\n",
       "      <td>We aim to show you accurate product informati...</td>\n",
       "      <td>31.93</td>\n",
       "      <td>31.93</td>\n",
       "      <td>La Costeï¿½ï¿½a</td>\n",
       "      <td>Food | Meal Solutions, Grains &amp; Pasta | Canned...</td>\n",
       "    </tr>\n",
       "    <tr>\n",
       "      <th>1</th>\n",
       "      <td>2019-12-18 17:21:48+00:00</td>\n",
       "      <td>Equate Triamcinolone Acetonide Nasal Allergy S...</td>\n",
       "      <td>We aim to show you accurate product informati...</td>\n",
       "      <td>10.48</td>\n",
       "      <td>10.48</td>\n",
       "      <td>Equate</td>\n",
       "      <td>Health | Equate | Equate Allergy | Equate Sinu...</td>\n",
       "    </tr>\n",
       "    <tr>\n",
       "      <th>2</th>\n",
       "      <td>2019-12-18 17:46:41+00:00</td>\n",
       "      <td>AduroSmart ERIA Soft White Smart A19 Light Bul...</td>\n",
       "      <td>We aim to show you accurate product informati...</td>\n",
       "      <td>10.99</td>\n",
       "      <td>10.99</td>\n",
       "      <td>AduroSmart ERIA</td>\n",
       "      <td>Electronics | Smart Home | Smart Energy and Li...</td>\n",
       "    </tr>\n",
       "    <tr>\n",
       "      <th>3</th>\n",
       "      <td>2019-12-18 22:14:22+00:00</td>\n",
       "      <td>24\" Classic Adjustable Balloon Fender Set Chro...</td>\n",
       "      <td>We aim to show you accurate product informati...</td>\n",
       "      <td>38.59</td>\n",
       "      <td>38.59</td>\n",
       "      <td>lowrider</td>\n",
       "      <td>Sports &amp; Outdoors | Bikes | Bike Accessories |...</td>\n",
       "    </tr>\n",
       "    <tr>\n",
       "      <th>4</th>\n",
       "      <td>2019-12-18 06:56:02+00:00</td>\n",
       "      <td>Elephant Shape Silicone Drinkware Portable Sil...</td>\n",
       "      <td>We aim to show you accurate product informati...</td>\n",
       "      <td>5.81</td>\n",
       "      <td>5.81</td>\n",
       "      <td>Anself</td>\n",
       "      <td>Baby | Feeding | Sippy Cups: Alternatives to P...</td>\n",
       "    </tr>\n",
       "  </tbody>\n",
       "</table>\n",
       "</div>"
      ],
      "text/plain": [
       "            Crawl Timestamp  \\\n",
       "0 2019-12-18 10:20:52+00:00   \n",
       "1 2019-12-18 17:21:48+00:00   \n",
       "2 2019-12-18 17:46:41+00:00   \n",
       "3 2019-12-18 22:14:22+00:00   \n",
       "4 2019-12-18 06:56:02+00:00   \n",
       "\n",
       "                                        Product Name  \\\n",
       "0     La Costena Chipotle Peppers, 7 OZ (Pack of 12)   \n",
       "1  Equate Triamcinolone Acetonide Nasal Allergy S...   \n",
       "2  AduroSmart ERIA Soft White Smart A19 Light Bul...   \n",
       "3  24\" Classic Adjustable Balloon Fender Set Chro...   \n",
       "4  Elephant Shape Silicone Drinkware Portable Sil...   \n",
       "\n",
       "                                         Description  List Price  Sale Price  \\\n",
       "0   We aim to show you accurate product informati...       31.93       31.93   \n",
       "1   We aim to show you accurate product informati...       10.48       10.48   \n",
       "2   We aim to show you accurate product informati...       10.99       10.99   \n",
       "3   We aim to show you accurate product informati...       38.59       38.59   \n",
       "4   We aim to show you accurate product informati...        5.81        5.81   \n",
       "\n",
       "             Brand                                           Category  \n",
       "0  La Costeï¿½ï¿½a  Food | Meal Solutions, Grains & Pasta | Canned...  \n",
       "1           Equate  Health | Equate | Equate Allergy | Equate Sinu...  \n",
       "2  AduroSmart ERIA  Electronics | Smart Home | Smart Energy and Li...  \n",
       "3         lowrider  Sports & Outdoors | Bikes | Bike Accessories |...  \n",
       "4           Anself  Baby | Feeding | Sippy Cups: Alternatives to P...  "
      ]
     },
     "execution_count": 3,
     "metadata": {},
     "output_type": "execute_result"
    }
   ],
   "source": [
    "# Read the dataset into a pandas dataframe.\n",
    "data_df = pd.read_csv(\"./../data/interim/ecommerce_data-cleaned-0.1.csv\",\n",
    "                        index_col=0,\n",
    "                        parse_dates=[\"Crawl Timestamp\"])\n",
    "print('Loaded data {v1}.'.format(v1=data_df.shape))\n",
    "data_df.info()\n",
    "data_df.head()"
   ]
  },
  {
   "cell_type": "markdown",
   "id": "874ae070",
   "metadata": {},
   "source": [
    "## 0.2.1 - Fieldname Preprocessing\n",
    "\n",
    "Feature names should be renamed so that they can be referenced consistently. Additionally, they shoul be ordered intuitively."
   ]
  },
  {
   "cell_type": "code",
   "execution_count": 4,
   "id": "3199771d",
   "metadata": {},
   "outputs": [
    {
     "name": "stdout",
     "output_type": "stream",
     "text": [
      "Renamed columns to Index(['Crawl Timestamp', 'name', 'description', 'price_raw', 'discount_raw',\n",
      "       'brand', 'category_raw'],\n",
      "      dtype='object')\n",
      "Reordered columns to Index(['brand', 'name', 'description', 'category_raw', 'price_raw',\n",
      "       'discount_raw'],\n",
      "      dtype='object')\n",
      "<class 'pandas.core.frame.DataFrame'>\n",
      "Int64Index: 29604 entries, 0 to 29999\n",
      "Data columns (total 6 columns):\n",
      " #   Column        Non-Null Count  Dtype  \n",
      "---  ------        --------------  -----  \n",
      " 0   brand         29045 non-null  object \n",
      " 1   name          29604 non-null  object \n",
      " 2   description   29552 non-null  object \n",
      " 3   category_raw  29588 non-null  object \n",
      " 4   price_raw     29604 non-null  float64\n",
      " 5   discount_raw  29604 non-null  float64\n",
      "dtypes: float64(2), object(4)\n",
      "memory usage: 1.6+ MB\n"
     ]
    },
    {
     "data": {
      "text/html": [
       "<div>\n",
       "<style scoped>\n",
       "    .dataframe tbody tr th:only-of-type {\n",
       "        vertical-align: middle;\n",
       "    }\n",
       "\n",
       "    .dataframe tbody tr th {\n",
       "        vertical-align: top;\n",
       "    }\n",
       "\n",
       "    .dataframe thead th {\n",
       "        text-align: right;\n",
       "    }\n",
       "</style>\n",
       "<table border=\"1\" class=\"dataframe\">\n",
       "  <thead>\n",
       "    <tr style=\"text-align: right;\">\n",
       "      <th></th>\n",
       "      <th>brand</th>\n",
       "      <th>name</th>\n",
       "      <th>description</th>\n",
       "      <th>category_raw</th>\n",
       "      <th>price_raw</th>\n",
       "      <th>discount_raw</th>\n",
       "    </tr>\n",
       "  </thead>\n",
       "  <tbody>\n",
       "    <tr>\n",
       "      <th>0</th>\n",
       "      <td>La Costeï¿½ï¿½a</td>\n",
       "      <td>La Costena Chipotle Peppers, 7 OZ (Pack of 12)</td>\n",
       "      <td>We aim to show you accurate product informati...</td>\n",
       "      <td>Food | Meal Solutions, Grains &amp; Pasta | Canned...</td>\n",
       "      <td>31.93</td>\n",
       "      <td>31.93</td>\n",
       "    </tr>\n",
       "    <tr>\n",
       "      <th>1</th>\n",
       "      <td>Equate</td>\n",
       "      <td>Equate Triamcinolone Acetonide Nasal Allergy S...</td>\n",
       "      <td>We aim to show you accurate product informati...</td>\n",
       "      <td>Health | Equate | Equate Allergy | Equate Sinu...</td>\n",
       "      <td>10.48</td>\n",
       "      <td>10.48</td>\n",
       "    </tr>\n",
       "    <tr>\n",
       "      <th>2</th>\n",
       "      <td>AduroSmart ERIA</td>\n",
       "      <td>AduroSmart ERIA Soft White Smart A19 Light Bul...</td>\n",
       "      <td>We aim to show you accurate product informati...</td>\n",
       "      <td>Electronics | Smart Home | Smart Energy and Li...</td>\n",
       "      <td>10.99</td>\n",
       "      <td>10.99</td>\n",
       "    </tr>\n",
       "    <tr>\n",
       "      <th>3</th>\n",
       "      <td>lowrider</td>\n",
       "      <td>24\" Classic Adjustable Balloon Fender Set Chro...</td>\n",
       "      <td>We aim to show you accurate product informati...</td>\n",
       "      <td>Sports &amp; Outdoors | Bikes | Bike Accessories |...</td>\n",
       "      <td>38.59</td>\n",
       "      <td>38.59</td>\n",
       "    </tr>\n",
       "    <tr>\n",
       "      <th>4</th>\n",
       "      <td>Anself</td>\n",
       "      <td>Elephant Shape Silicone Drinkware Portable Sil...</td>\n",
       "      <td>We aim to show you accurate product informati...</td>\n",
       "      <td>Baby | Feeding | Sippy Cups: Alternatives to P...</td>\n",
       "      <td>5.81</td>\n",
       "      <td>5.81</td>\n",
       "    </tr>\n",
       "  </tbody>\n",
       "</table>\n",
       "</div>"
      ],
      "text/plain": [
       "             brand                                               name  \\\n",
       "0  La Costeï¿½ï¿½a     La Costena Chipotle Peppers, 7 OZ (Pack of 12)   \n",
       "1           Equate  Equate Triamcinolone Acetonide Nasal Allergy S...   \n",
       "2  AduroSmart ERIA  AduroSmart ERIA Soft White Smart A19 Light Bul...   \n",
       "3         lowrider  24\" Classic Adjustable Balloon Fender Set Chro...   \n",
       "4           Anself  Elephant Shape Silicone Drinkware Portable Sil...   \n",
       "\n",
       "                                         description  \\\n",
       "0   We aim to show you accurate product informati...   \n",
       "1   We aim to show you accurate product informati...   \n",
       "2   We aim to show you accurate product informati...   \n",
       "3   We aim to show you accurate product informati...   \n",
       "4   We aim to show you accurate product informati...   \n",
       "\n",
       "                                        category_raw  price_raw  discount_raw  \n",
       "0  Food | Meal Solutions, Grains & Pasta | Canned...      31.93         31.93  \n",
       "1  Health | Equate | Equate Allergy | Equate Sinu...      10.48         10.48  \n",
       "2  Electronics | Smart Home | Smart Energy and Li...      10.99         10.99  \n",
       "3  Sports & Outdoors | Bikes | Bike Accessories |...      38.59         38.59  \n",
       "4  Baby | Feeding | Sippy Cups: Alternatives to P...       5.81          5.81  "
      ]
     },
     "execution_count": 4,
     "metadata": {},
     "output_type": "execute_result"
    }
   ],
   "source": [
    "# Prepare map for field names.\n",
    "fieldnames = {\n",
    "    'Product Name': 'name',\n",
    "    'Description': 'description',\n",
    "    'List Price': 'price_raw',\n",
    "    'Sale Price': 'discount_raw',\n",
    "    'Brand': 'brand',\n",
    "    'Category': 'category_raw',\n",
    "}\n",
    "\n",
    "# Apply mapping.\n",
    "df_1 = data_df.rename(fieldnames, axis=1)\n",
    "print(\"Renamed columns to {v1}\".format(v1=df_1.columns))\n",
    "\n",
    "# Reorder columns.\n",
    "features = [\n",
    "    'brand',\n",
    "    'name',\n",
    "    'description',\n",
    "    'category_raw',\n",
    "    'price_raw',\n",
    "    'discount_raw',\n",
    "]\n",
    "\n",
    "# Apply new order.\n",
    "df_1 = df_1[features]\n",
    "print(\"Reordered columns to {v1}\".format(v1=df_1.columns))\n",
    "df_1.info()\n",
    "df_1.head()"
   ]
  },
  {
   "cell_type": "code",
   "execution_count": 5,
   "id": "57c6fa3b",
   "metadata": {},
   "outputs": [
    {
     "name": "stdout",
     "output_type": "stream",
     "text": [
      "Saving dataframe (29604, 6) to ./../data/interim/ecommerce_data-cleaned-0.2.1.csv.\n",
      "File saved.\n"
     ]
    }
   ],
   "source": [
    "# Save the interim data file.\n",
    "save_interim(df_1, '0.2.1')"
   ]
  },
  {
   "cell_type": "markdown",
   "id": "fd3293a7",
   "metadata": {},
   "source": [
    "## 0.2.2 - `List Price` EDA\n",
    "\n",
    "- Perform EDA on the `List Price` feature.\n",
    "- Obtain a histogram of the list price distribution across all records.\n",
    "- Use binned ranges to determine response categories.\n",
    "- Add `Price` feature with the labelled list price category."
   ]
  },
  {
   "cell_type": "code",
   "execution_count": 6,
   "id": "b2392485",
   "metadata": {},
   "outputs": [],
   "source": [
    "# Import plotting library.\n",
    "import matplotlib.pyplot as plt\n",
    "from matplotlib import colors\n",
    "from matplotlib.ticker import PercentFormatter\n",
    "plt.style.use('ggplot')"
   ]
  },
  {
   "cell_type": "code",
   "execution_count": 7,
   "id": "df557366",
   "metadata": {},
   "outputs": [
    {
     "data": {
      "text/plain": [
       "count    29604.000000\n",
       "mean        72.760576\n",
       "std        319.713464\n",
       "min          0.100000\n",
       "25%         11.120000\n",
       "50%         21.470000\n",
       "75%         46.020000\n",
       "max      13280.810000\n",
       "Name: price_raw, dtype: float64"
      ]
     },
     "execution_count": 7,
     "metadata": {},
     "output_type": "execute_result"
    }
   ],
   "source": [
    "list_price = df_1['price_raw']\n",
    "list_price.describe()"
   ]
  },
  {
   "cell_type": "code",
   "execution_count": 8,
   "id": "4fdb53ee",
   "metadata": {},
   "outputs": [
    {
     "name": "stdout",
     "output_type": "stream",
     "text": [
      "There are 0 records with missing list prices.\n"
     ]
    }
   ],
   "source": [
    "num_na = list_price.isna().sum()\n",
    "print(\"There are {v1} records with missing list prices.\".format(v1=num_na))"
   ]
  },
  {
   "cell_type": "code",
   "execution_count": 9,
   "id": "26714068",
   "metadata": {},
   "outputs": [
    {
     "name": "stdout",
     "output_type": "stream",
     "text": [
      "Quantiles: 0% [0.1], 25% [11.12], 50% [21.47], 75% [46.02], 100% [13280.81]\n",
      "Inter-quartile Range: 34.900000000000006\n",
      "Distance between Q4 and Q3: 13234.789999999999\n"
     ]
    }
   ],
   "source": [
    "Q0 = list_price.quantile(0.00)\n",
    "Q1 = list_price.quantile(0.25)\n",
    "Q2 = list_price.quantile(0.50)\n",
    "Q3 = list_price.quantile(0.75)\n",
    "Q4 = list_price.quantile(1.00)\n",
    "IQR = Q3 - Q1\n",
    "Q34 = Q4 -Q3\n",
    "print(\"Quantiles: 0% [{v1}], 25% [{v2}], 50% [{v3}], 75% [{v4}], 100% [{v5}]\".format(v1=Q0, v2=Q1, v3=Q2, v4=Q3, v5=Q4))\n",
    "print(\"Inter-quartile Range: {v1}\".format(v1=IQR))\n",
    "print(\"Distance between Q4 and Q3: {v1}\".format(v1=Q34))"
   ]
  },
  {
   "cell_type": "markdown",
   "id": "c46d8d36",
   "metadata": {},
   "source": [
    "The median price is `$21.47`, but there is a clear outlier in the maximum price at `$13280.81`. The distance between the 75% quartile and the max is `$13234.79` - several orders of magnitude larger than the IQR of `$34.90`."
   ]
  },
  {
   "cell_type": "code",
   "execution_count": 10,
   "id": "73d67045",
   "metadata": {},
   "outputs": [
    {
     "data": {
      "image/png": "[encoded data removed]",
      "text/plain": [
       "<Figure size 432x288 with 1 Axes>"
      ]
     },
     "metadata": {},
     "output_type": "display_data"
    }
   ],
   "source": [
    "fig, ax = plt.subplots(1, 1)\n",
    "ax.hist(list_price, bins=30)\n",
    "ax.set_title(\"Histogram of List Prices\")\n",
    "ax.set_xlabel(\"List Price\")\n",
    "ax.set_ylabel(\"Frequency\")\n",
    "plt.show()"
   ]
  },
  {
   "cell_type": "markdown",
   "id": "7422020b",
   "metadata": {},
   "source": [
    "We can see that an overwhelming amount of the data is roughly between `$0.00` and `$2000.00`. We can verify this with a box plot."
   ]
  },
  {
   "cell_type": "code",
   "execution_count": 11,
   "id": "5154edc8",
   "metadata": {},
   "outputs": [
    {
     "data": {
      "image/png": "[encoded data removed]",
      "text/plain": [
       "<Figure size 432x288 with 1 Axes>"
      ]
     },
     "metadata": {},
     "output_type": "display_data"
    }
   ],
   "source": [
    "fig, ax = plt.subplots(1, 1)\n",
    "ax.boxplot(list_price)\n",
    "ax.set_xlabel(\"List Price\")\n",
    "ax.set_ylabel(\"Frequency\")\n",
    "plt.show()"
   ]
  },
  {
   "cell_type": "code",
   "execution_count": 12,
   "id": "cd6d8590",
   "metadata": {},
   "outputs": [
    {
     "name": "stdout",
     "output_type": "stream",
     "text": [
      "There are 7406 products with prices less than or equal to 11.12.\n",
      "There are 7400 products with prices greater than 46.02.\n",
      "There are 157 products with prices greater than 2000.\n",
      "There are 2 products with prices greater than 10000.\n"
     ]
    }
   ],
   "source": [
    "def summary_above(s, value):\n",
    "    num_remaining = s[s > value].shape[0]\n",
    "    print(\"There are {v1} products with prices greater than {v2}.\".format(v1=num_remaining, v2=value))\n",
    "    \n",
    "def summary_below(s, value):\n",
    "    num_remaining = s[s <= value].shape[0]\n",
    "    print(\"There are {v1} products with prices less than or equal to {v2}.\".format(v1=num_remaining, v2=value))\n",
    "    \n",
    "summary_below(list_price, list_price.quantile(0.25))\n",
    "summary_above(list_price, list_price.quantile(0.75))\n",
    "summary_above(list_price, 2000)\n",
    "summary_above(list_price, 10000)"
   ]
  },
  {
   "cell_type": "code",
   "execution_count": 13,
   "id": "6e73c740",
   "metadata": {},
   "outputs": [
    {
     "name": "stdout",
     "output_type": "stream",
     "text": [
      "Removing 501 products from the dataset.\n"
     ]
    },
    {
     "data": {
      "text/html": [
       "<div>\n",
       "<style scoped>\n",
       "    .dataframe tbody tr th:only-of-type {\n",
       "        vertical-align: middle;\n",
       "    }\n",
       "\n",
       "    .dataframe tbody tr th {\n",
       "        vertical-align: top;\n",
       "    }\n",
       "\n",
       "    .dataframe thead th {\n",
       "        text-align: right;\n",
       "    }\n",
       "</style>\n",
       "<table border=\"1\" class=\"dataframe\">\n",
       "  <thead>\n",
       "    <tr style=\"text-align: right;\">\n",
       "      <th></th>\n",
       "      <th>brand</th>\n",
       "      <th>name</th>\n",
       "      <th>description</th>\n",
       "      <th>category_raw</th>\n",
       "      <th>price_raw</th>\n",
       "      <th>discount_raw</th>\n",
       "    </tr>\n",
       "  </thead>\n",
       "  <tbody>\n",
       "    <tr>\n",
       "      <th>25</th>\n",
       "      <td>Cimarron</td>\n",
       "      <td>Cimarron 50x12x10 #24 Batting Cage &amp; Complete ...</td>\n",
       "      <td>We aim to show you accurate product informati...</td>\n",
       "      <td>Sports &amp; Outdoors | Sports | Baseball Gear &amp; E...</td>\n",
       "      <td>1203.47</td>\n",
       "      <td>1203.47</td>\n",
       "    </tr>\n",
       "    <tr>\n",
       "      <th>35</th>\n",
       "      <td>Pogo Bounce House</td>\n",
       "      <td>Pogo 40 Inflatable Obstacle Course Bounce Hous...</td>\n",
       "      <td>We aim to show you accurate product informati...</td>\n",
       "      <td>Toys | Outdoor Play | Bounce Houses | Bounce H...</td>\n",
       "      <td>3999.99</td>\n",
       "      <td>3999.99</td>\n",
       "    </tr>\n",
       "    <tr>\n",
       "      <th>74</th>\n",
       "      <td>RAVE Sports</td>\n",
       "      <td>Rave Sports Aqua Slide Northwoods</td>\n",
       "      <td>We aim to show you accurate product informati...</td>\n",
       "      <td>Sports &amp; Outdoors | Outdoor Sports | Water Spo...</td>\n",
       "      <td>799.99</td>\n",
       "      <td>799.99</td>\n",
       "    </tr>\n",
       "    <tr>\n",
       "      <th>77</th>\n",
       "      <td>First Team</td>\n",
       "      <td>First Team Storm Pro Steel-Glass Portable Bask...</td>\n",
       "      <td>We aim to show you accurate product informati...</td>\n",
       "      <td>Sports &amp; Outdoors | Sports | Basketball | Port...</td>\n",
       "      <td>5700.00</td>\n",
       "      <td>5700.00</td>\n",
       "    </tr>\n",
       "    <tr>\n",
       "      <th>149</th>\n",
       "      <td>Pogo Bounce House</td>\n",
       "      <td>Pogo Rainbow Crossover Kids Jumper Inflatable ...</td>\n",
       "      <td>We aim to show you accurate product informati...</td>\n",
       "      <td>Toys | Outdoor Play | Bounce Houses | Indoor B...</td>\n",
       "      <td>999.99</td>\n",
       "      <td>999.99</td>\n",
       "    </tr>\n",
       "    <tr>\n",
       "      <th>...</th>\n",
       "      <td>...</td>\n",
       "      <td>...</td>\n",
       "      <td>...</td>\n",
       "      <td>...</td>\n",
       "      <td>...</td>\n",
       "      <td>...</td>\n",
       "    </tr>\n",
       "    <tr>\n",
       "      <th>29546</th>\n",
       "      <td>Athletic Connection</td>\n",
       "      <td>Champion Half Rack with Platform</td>\n",
       "      <td>We aim to show you accurate product informati...</td>\n",
       "      <td>Sports &amp; Outdoors | Exercise &amp; Fitness | Stren...</td>\n",
       "      <td>1785.54</td>\n",
       "      <td>1785.54</td>\n",
       "    </tr>\n",
       "    <tr>\n",
       "      <th>29547</th>\n",
       "      <td>Jaypro Sports</td>\n",
       "      <td>Jaypro Sports BLCH-421 4 Row 21 ft. Standard B...</td>\n",
       "      <td>We aim to show you accurate product informati...</td>\n",
       "      <td>Sports &amp; Outdoors | Sports | Baseball Gear &amp; E...</td>\n",
       "      <td>2174.99</td>\n",
       "      <td>2174.99</td>\n",
       "    </tr>\n",
       "    <tr>\n",
       "      <th>29758</th>\n",
       "      <td>First Team</td>\n",
       "      <td>First Team RollaJam Select Steel-Acrylic Porta...</td>\n",
       "      <td>We aim to show you accurate product informati...</td>\n",
       "      <td>Sports &amp; Outdoors | Sports | Basketball | Port...</td>\n",
       "      <td>2414.00</td>\n",
       "      <td>2414.00</td>\n",
       "    </tr>\n",
       "    <tr>\n",
       "      <th>29877</th>\n",
       "      <td>Minn Kota</td>\n",
       "      <td>The Amazing Quality \"Minn Kota Riptide SF 112/...</td>\n",
       "      <td>We aim to show you accurate product informati...</td>\n",
       "      <td>Sports &amp; Outdoors | Outdoor Sports | Boats &amp; M...</td>\n",
       "      <td>1775.99</td>\n",
       "      <td>1775.99</td>\n",
       "    </tr>\n",
       "    <tr>\n",
       "      <th>29922</th>\n",
       "      <td>First Team</td>\n",
       "      <td>First Team Frontier Complete-SBS Steel Competi...</td>\n",
       "      <td>We aim to show you accurate product informati...</td>\n",
       "      <td>Sports &amp; Outdoors | Sports | Volleyball | Voll...</td>\n",
       "      <td>4592.00</td>\n",
       "      <td>4592.00</td>\n",
       "    </tr>\n",
       "  </tbody>\n",
       "</table>\n",
       "<p>501 rows × 6 columns</p>\n",
       "</div>"
      ],
      "text/plain": [
       "                     brand                                               name  \\\n",
       "25                Cimarron  Cimarron 50x12x10 #24 Batting Cage & Complete ...   \n",
       "35       Pogo Bounce House  Pogo 40 Inflatable Obstacle Course Bounce Hous...   \n",
       "74             RAVE Sports                  Rave Sports Aqua Slide Northwoods   \n",
       "77              First Team  First Team Storm Pro Steel-Glass Portable Bask...   \n",
       "149      Pogo Bounce House  Pogo Rainbow Crossover Kids Jumper Inflatable ...   \n",
       "...                    ...                                                ...   \n",
       "29546  Athletic Connection                   Champion Half Rack with Platform   \n",
       "29547        Jaypro Sports  Jaypro Sports BLCH-421 4 Row 21 ft. Standard B...   \n",
       "29758           First Team  First Team RollaJam Select Steel-Acrylic Porta...   \n",
       "29877            Minn Kota  The Amazing Quality \"Minn Kota Riptide SF 112/...   \n",
       "29922           First Team  First Team Frontier Complete-SBS Steel Competi...   \n",
       "\n",
       "                                             description  \\\n",
       "25      We aim to show you accurate product informati...   \n",
       "35      We aim to show you accurate product informati...   \n",
       "74      We aim to show you accurate product informati...   \n",
       "77      We aim to show you accurate product informati...   \n",
       "149     We aim to show you accurate product informati...   \n",
       "...                                                  ...   \n",
       "29546   We aim to show you accurate product informati...   \n",
       "29547   We aim to show you accurate product informati...   \n",
       "29758   We aim to show you accurate product informati...   \n",
       "29877   We aim to show you accurate product informati...   \n",
       "29922   We aim to show you accurate product informati...   \n",
       "\n",
       "                                            category_raw  price_raw  \\\n",
       "25     Sports & Outdoors | Sports | Baseball Gear & E...    1203.47   \n",
       "35     Toys | Outdoor Play | Bounce Houses | Bounce H...    3999.99   \n",
       "74     Sports & Outdoors | Outdoor Sports | Water Spo...     799.99   \n",
       "77     Sports & Outdoors | Sports | Basketball | Port...    5700.00   \n",
       "149    Toys | Outdoor Play | Bounce Houses | Indoor B...     999.99   \n",
       "...                                                  ...        ...   \n",
       "29546  Sports & Outdoors | Exercise & Fitness | Stren...    1785.54   \n",
       "29547  Sports & Outdoors | Sports | Baseball Gear & E...    2174.99   \n",
       "29758  Sports & Outdoors | Sports | Basketball | Port...    2414.00   \n",
       "29877  Sports & Outdoors | Outdoor Sports | Boats & M...    1775.99   \n",
       "29922  Sports & Outdoors | Sports | Volleyball | Voll...    4592.00   \n",
       "\n",
       "       discount_raw  \n",
       "25          1203.47  \n",
       "35          3999.99  \n",
       "74           799.99  \n",
       "77          5700.00  \n",
       "149          999.99  \n",
       "...             ...  \n",
       "29546       1785.54  \n",
       "29547       2174.99  \n",
       "29758       2414.00  \n",
       "29877       1775.99  \n",
       "29922       4592.00  \n",
       "\n",
       "[501 rows x 6 columns]"
      ]
     },
     "execution_count": 13,
     "metadata": {},
     "output_type": "execute_result"
    }
   ],
   "source": [
    "# Filter out the outliers.\n",
    "mask = list_price > 500\n",
    "num_outliers = df_1[mask].shape[0]\n",
    "print(\"Removing {v1} products from the dataset.\".format(v1=num_outliers))\n",
    "\n",
    "# Show outliers.\n",
    "df_1[mask]"
   ]
  },
  {
   "cell_type": "markdown",
   "id": "263af0ff",
   "metadata": {},
   "source": [
    "These seem like very atypical products. We think we'll get better results by removing this brand (for now) to determine accurate list price categories."
   ]
  },
  {
   "cell_type": "code",
   "execution_count": 14,
   "id": "97deccef",
   "metadata": {},
   "outputs": [
    {
     "name": "stdout",
     "output_type": "stream",
     "text": [
      "Applied filtering mask. Dataset shape: (29103, 6).\n"
     ]
    },
    {
     "data": {
      "text/html": [
       "<div>\n",
       "<style scoped>\n",
       "    .dataframe tbody tr th:only-of-type {\n",
       "        vertical-align: middle;\n",
       "    }\n",
       "\n",
       "    .dataframe tbody tr th {\n",
       "        vertical-align: top;\n",
       "    }\n",
       "\n",
       "    .dataframe thead th {\n",
       "        text-align: right;\n",
       "    }\n",
       "</style>\n",
       "<table border=\"1\" class=\"dataframe\">\n",
       "  <thead>\n",
       "    <tr style=\"text-align: right;\">\n",
       "      <th></th>\n",
       "      <th>brand</th>\n",
       "      <th>name</th>\n",
       "      <th>description</th>\n",
       "      <th>category_raw</th>\n",
       "      <th>price_raw</th>\n",
       "      <th>discount_raw</th>\n",
       "    </tr>\n",
       "  </thead>\n",
       "  <tbody>\n",
       "    <tr>\n",
       "      <th>0</th>\n",
       "      <td>La Costeï¿½ï¿½a</td>\n",
       "      <td>La Costena Chipotle Peppers, 7 OZ (Pack of 12)</td>\n",
       "      <td>We aim to show you accurate product informati...</td>\n",
       "      <td>Food | Meal Solutions, Grains &amp; Pasta | Canned...</td>\n",
       "      <td>31.93</td>\n",
       "      <td>31.93</td>\n",
       "    </tr>\n",
       "    <tr>\n",
       "      <th>1</th>\n",
       "      <td>Equate</td>\n",
       "      <td>Equate Triamcinolone Acetonide Nasal Allergy S...</td>\n",
       "      <td>We aim to show you accurate product informati...</td>\n",
       "      <td>Health | Equate | Equate Allergy | Equate Sinu...</td>\n",
       "      <td>10.48</td>\n",
       "      <td>10.48</td>\n",
       "    </tr>\n",
       "    <tr>\n",
       "      <th>2</th>\n",
       "      <td>AduroSmart ERIA</td>\n",
       "      <td>AduroSmart ERIA Soft White Smart A19 Light Bul...</td>\n",
       "      <td>We aim to show you accurate product informati...</td>\n",
       "      <td>Electronics | Smart Home | Smart Energy and Li...</td>\n",
       "      <td>10.99</td>\n",
       "      <td>10.99</td>\n",
       "    </tr>\n",
       "    <tr>\n",
       "      <th>3</th>\n",
       "      <td>lowrider</td>\n",
       "      <td>24\" Classic Adjustable Balloon Fender Set Chro...</td>\n",
       "      <td>We aim to show you accurate product informati...</td>\n",
       "      <td>Sports &amp; Outdoors | Bikes | Bike Accessories |...</td>\n",
       "      <td>38.59</td>\n",
       "      <td>38.59</td>\n",
       "    </tr>\n",
       "    <tr>\n",
       "      <th>4</th>\n",
       "      <td>Anself</td>\n",
       "      <td>Elephant Shape Silicone Drinkware Portable Sil...</td>\n",
       "      <td>We aim to show you accurate product informati...</td>\n",
       "      <td>Baby | Feeding | Sippy Cups: Alternatives to P...</td>\n",
       "      <td>5.81</td>\n",
       "      <td>5.81</td>\n",
       "    </tr>\n",
       "  </tbody>\n",
       "</table>\n",
       "</div>"
      ],
      "text/plain": [
       "             brand                                               name  \\\n",
       "0  La Costeï¿½ï¿½a     La Costena Chipotle Peppers, 7 OZ (Pack of 12)   \n",
       "1           Equate  Equate Triamcinolone Acetonide Nasal Allergy S...   \n",
       "2  AduroSmart ERIA  AduroSmart ERIA Soft White Smart A19 Light Bul...   \n",
       "3         lowrider  24\" Classic Adjustable Balloon Fender Set Chro...   \n",
       "4           Anself  Elephant Shape Silicone Drinkware Portable Sil...   \n",
       "\n",
       "                                         description  \\\n",
       "0   We aim to show you accurate product informati...   \n",
       "1   We aim to show you accurate product informati...   \n",
       "2   We aim to show you accurate product informati...   \n",
       "3   We aim to show you accurate product informati...   \n",
       "4   We aim to show you accurate product informati...   \n",
       "\n",
       "                                        category_raw  price_raw  discount_raw  \n",
       "0  Food | Meal Solutions, Grains & Pasta | Canned...      31.93         31.93  \n",
       "1  Health | Equate | Equate Allergy | Equate Sinu...      10.48         10.48  \n",
       "2  Electronics | Smart Home | Smart Energy and Li...      10.99         10.99  \n",
       "3  Sports & Outdoors | Bikes | Bike Accessories |...      38.59         38.59  \n",
       "4  Baby | Feeding | Sippy Cups: Alternatives to P...       5.81          5.81  "
      ]
     },
     "execution_count": 14,
     "metadata": {},
     "output_type": "execute_result"
    }
   ],
   "source": [
    "# Display the filtered results.\n",
    "df_2 = df_1[~mask]\n",
    "print(\"Applied filtering mask. Dataset shape: {v1}.\".format(v1=df_2.shape))\n",
    "df_2.head()"
   ]
  },
  {
   "cell_type": "code",
   "execution_count": 15,
   "id": "e67084da",
   "metadata": {},
   "outputs": [
    {
     "data": {
      "text/plain": [
       "count    29103.000000\n",
       "mean        42.735288\n",
       "std         62.936122\n",
       "min          0.100000\n",
       "25%         10.990000\n",
       "50%         20.950000\n",
       "75%         44.000000\n",
       "max        500.000000\n",
       "Name: price_raw, dtype: float64"
      ]
     },
     "execution_count": 15,
     "metadata": {},
     "output_type": "execute_result"
    }
   ],
   "source": [
    "# Filtered dataset\n",
    "list_price2 = df_2['price_raw']\n",
    "list_price2.describe()"
   ]
  },
  {
   "cell_type": "code",
   "execution_count": 16,
   "id": "9e42d286",
   "metadata": {},
   "outputs": [
    {
     "data": {
      "image/png": "[encoded data removed]",
      "text/plain": [
       "<Figure size 432x288 with 1 Axes>"
      ]
     },
     "metadata": {},
     "output_type": "display_data"
    }
   ],
   "source": [
    "fig, ax = plt.subplots(1, 1)\n",
    "ax.hist(list_price2, bins=15)\n",
    "ax.set_title(\"Histogram of List Prices\")\n",
    "ax.set_xlabel(\"List Price\")\n",
    "ax.set_ylabel(\"Frequency\")\n",
    "plt.show()"
   ]
  },
  {
   "cell_type": "markdown",
   "id": "1c06b19f",
   "metadata": {},
   "source": [
    "A great majority of the price differences are between `$0` and `$200`. This is where we should focus our categories."
   ]
  },
  {
   "cell_type": "code",
   "execution_count": 17,
   "id": "010249b8",
   "metadata": {},
   "outputs": [
    {
     "data": {
      "image/png": "[encoded data removed]",
      "text/plain": [
       "<Figure size 432x288 with 1 Axes>"
      ]
     },
     "metadata": {},
     "output_type": "display_data"
    }
   ],
   "source": [
    "fig, ax = plt.subplots(1, 1)\n",
    "ax.hist(list_price2, bins=20, range=(0, 200))\n",
    "ax.set_title(\"Histogram of List Prices\")\n",
    "ax.set_xlabel(\"List Price\")\n",
    "ax.set_ylabel(\"Frequency\")\n",
    "plt.show()"
   ]
  },
  {
   "cell_type": "code",
   "execution_count": 18,
   "id": "1803ee06",
   "metadata": {},
   "outputs": [
    {
     "data": {
      "text/plain": [
       "[20.0, 10.0, 15.0, 13.0, 25.0, 12.0, 9.0, 30.0, 7.0, 8.0]"
      ]
     },
     "execution_count": 18,
     "metadata": {},
     "output_type": "execute_result"
    }
   ],
   "source": [
    "# Get the 10 most frequent list prices (rounded).\n",
    "n = 10\n",
    "list_price2.round(1).value_counts().sort_values(ascending=False).index[:n].tolist()"
   ]
  },
  {
   "cell_type": "markdown",
   "id": "d6dd4d7c",
   "metadata": {},
   "source": [
    "The top 10 most frequent list prices."
   ]
  },
  {
   "cell_type": "markdown",
   "id": "58f9f785",
   "metadata": {},
   "source": [
    "With consideration of the explored dataset, a good starting point is to consider the following 10 price ranges as possible classes for our data:"
   ]
  },
  {
   "cell_type": "code",
   "execution_count": 19,
   "id": "e642cb33",
   "metadata": {},
   "outputs": [
    {
     "name": "stdout",
     "output_type": "stream",
     "text": [
      "(0.00, 10.00]\n",
      "(10.00, 20.00]\n",
      "(30.00, 35.00]\n",
      "(100.00+]\n"
     ]
    }
   ],
   "source": [
    "# Import numpy.\n",
    "import numpy as np\n",
    "\n",
    "# Prepare categories.\n",
    "import numpy as np\n",
    "def get_range_label(price):\n",
    "    value = np.round(price, decimals=1)\n",
    "    if value <= 10:\n",
    "        return \"(0.00, 10.00]\"\n",
    "    elif value > 10 and value <= 20:\n",
    "        return \"(10.00, 20.00]\"\n",
    "    elif value > 20 and value <= 25:\n",
    "        return \"(10.00, 25.00]\"\n",
    "    elif value > 25 and value <= 30:\n",
    "        return \"(25.00, 30.00]\"\n",
    "    elif value > 30 and value <= 35:\n",
    "        return \"(30.00, 35.00]\"    \n",
    "    elif value > 35 and value <= 40:\n",
    "        return \"(30.00, 40.00]\"\n",
    "    elif value > 40 and value <= 45:\n",
    "        return \"(40.00, 45.00]\"\n",
    "    elif value > 45 and value <= 50:\n",
    "        return \"(45.00, 50.00]\"\n",
    "    elif value > 50 and value <= 100:\n",
    "        return \"(50.00, 100.00]\"\n",
    "    else:\n",
    "        return \"(100.00+]\"\n",
    "\n",
    "# Example execution:\n",
    "print(get_range_label(1.00))\n",
    "print(get_range_label(13.00))\n",
    "print(get_range_label(31.00))\n",
    "print(get_range_label(13130.00))"
   ]
  },
  {
   "cell_type": "code",
   "execution_count": 20,
   "id": "0e59d6df",
   "metadata": {},
   "outputs": [
    {
     "data": {
      "text/plain": [
       "0"
      ]
     },
     "execution_count": 20,
     "metadata": {},
     "output_type": "execute_result"
    }
   ],
   "source": [
    "PRICE_BINS = [0, 10, 20, 25, 30, 35, 40, 45, 50, 15000]\n",
    "ranged = pd.cut(df_1['price_raw'], PRICE_BINS, right=True)\n",
    "ranged.isna().sum()"
   ]
  },
  {
   "cell_type": "markdown",
   "id": "0be6e221",
   "metadata": {},
   "source": [
    "## 0.2.3 - `Sales Price` Validation\n",
    "\n",
    "We want to ensure any discounted price is less than or equal to the list price."
   ]
  },
  {
   "cell_type": "code",
   "execution_count": 21,
   "id": "48c7e23a",
   "metadata": {},
   "outputs": [],
   "source": [
    "# Import math library.\n",
    "import numpy as np"
   ]
  },
  {
   "cell_type": "code",
   "execution_count": 22,
   "id": "77518b00",
   "metadata": {},
   "outputs": [
    {
     "data": {
      "text/plain": [
       "(count    29604.000000\n",
       " mean        71.885462\n",
       " std        319.388609\n",
       " min          0.100000\n",
       " 25%         10.990000\n",
       " 50%         20.990000\n",
       " 75%         45.232500\n",
       " max      13280.810000\n",
       " Name: discount_raw, dtype: float64,\n",
       " count    29604.000000\n",
       " mean        72.760576\n",
       " std        319.713464\n",
       " min          0.100000\n",
       " 25%         11.120000\n",
       " 50%         21.470000\n",
       " 75%         46.020000\n",
       " max      13280.810000\n",
       " Name: price_raw, dtype: float64)"
      ]
     },
     "execution_count": 22,
     "metadata": {},
     "output_type": "execute_result"
    }
   ],
   "source": [
    "a = df_1['discount_raw']\n",
    "b = df_1['price_raw']\n",
    "a.describe(), b.describe()"
   ]
  },
  {
   "cell_type": "markdown",
   "id": "958b7d77",
   "metadata": {},
   "source": [
    "The above shows there are no negative values. There are slight differences between discount and list price (compare the medians)."
   ]
  },
  {
   "cell_type": "code",
   "execution_count": 23,
   "id": "d5df7ea9",
   "metadata": {},
   "outputs": [
    {
     "name": "stdout",
     "output_type": "stream",
     "text": [
      "<class 'pandas.core.frame.DataFrame'>\n",
      "Int64Index: 1551 entries, 10 to 29999\n",
      "Data columns (total 2 columns):\n",
      " #   Column        Non-Null Count  Dtype  \n",
      "---  ------        --------------  -----  \n",
      " 0   discount_raw  1551 non-null   float64\n",
      " 1   price_raw     1551 non-null   float64\n",
      "dtypes: float64(2)\n",
      "memory usage: 36.4 KB\n"
     ]
    }
   ],
   "source": [
    "df_check = df_1[['discount_raw', 'price_raw']][a < b]\n",
    "df_check.info()"
   ]
  },
  {
   "cell_type": "markdown",
   "id": "cc834ba7",
   "metadata": {},
   "source": [
    "No missing values. There's one discount price for every listed price."
   ]
  },
  {
   "cell_type": "code",
   "execution_count": 24,
   "id": "c7968fd5",
   "metadata": {},
   "outputs": [
    {
     "name": "stdout",
     "output_type": "stream",
     "text": [
      "There are 1551 records that are discounted.\n",
      "There are 28051 records that are not discounted.\n",
      "There are 2 records that have an error state.\n"
     ]
    }
   ],
   "source": [
    "# Filter discount states\n",
    "mask1 = (df_1.loc[:, 'discount_raw'] < df_1.loc[:, 'price_raw'])\n",
    "num_discounted = df_1[mask1].shape[0]\n",
    "print(\"There are {v1} records that are discounted.\".format(v1=num_discounted))\n",
    "\n",
    "mask2 = (df_1.loc[:, 'discount_raw'].round(1) == df_1.loc[:, 'price_raw'].round(1))\n",
    "num_same = df_1[mask2].shape[0]\n",
    "print(\"There are {v1} records that are not discounted.\".format(v1=num_same))\n",
    "\n",
    "mask3 = (df_1.loc[:, 'discount_raw'] > df_1.loc[:, 'price_raw'])\n",
    "num_error = df_1[mask3].shape[0]\n",
    "print(\"There are {v1} records that have an error state.\".format(v1=num_error))"
   ]
  },
  {
   "cell_type": "code",
   "execution_count": 25,
   "id": "e53b80a0",
   "metadata": {},
   "outputs": [
    {
     "name": "stdout",
     "output_type": "stream",
     "text": [
      "2 record(s) have been removed for an error discount greater than the list price. Result shape: (29602, 6).\n"
     ]
    },
    {
     "data": {
      "text/html": [
       "<div>\n",
       "<style scoped>\n",
       "    .dataframe tbody tr th:only-of-type {\n",
       "        vertical-align: middle;\n",
       "    }\n",
       "\n",
       "    .dataframe tbody tr th {\n",
       "        vertical-align: top;\n",
       "    }\n",
       "\n",
       "    .dataframe thead th {\n",
       "        text-align: right;\n",
       "    }\n",
       "</style>\n",
       "<table border=\"1\" class=\"dataframe\">\n",
       "  <thead>\n",
       "    <tr style=\"text-align: right;\">\n",
       "      <th></th>\n",
       "      <th>brand</th>\n",
       "      <th>name</th>\n",
       "      <th>description</th>\n",
       "      <th>category_raw</th>\n",
       "      <th>price_raw</th>\n",
       "      <th>discount_raw</th>\n",
       "    </tr>\n",
       "  </thead>\n",
       "  <tbody>\n",
       "    <tr>\n",
       "      <th>0</th>\n",
       "      <td>La Costeï¿½ï¿½a</td>\n",
       "      <td>La Costena Chipotle Peppers, 7 OZ (Pack of 12)</td>\n",
       "      <td>We aim to show you accurate product informati...</td>\n",
       "      <td>Food | Meal Solutions, Grains &amp; Pasta | Canned...</td>\n",
       "      <td>31.93</td>\n",
       "      <td>31.93</td>\n",
       "    </tr>\n",
       "    <tr>\n",
       "      <th>1</th>\n",
       "      <td>Equate</td>\n",
       "      <td>Equate Triamcinolone Acetonide Nasal Allergy S...</td>\n",
       "      <td>We aim to show you accurate product informati...</td>\n",
       "      <td>Health | Equate | Equate Allergy | Equate Sinu...</td>\n",
       "      <td>10.48</td>\n",
       "      <td>10.48</td>\n",
       "    </tr>\n",
       "    <tr>\n",
       "      <th>2</th>\n",
       "      <td>AduroSmart ERIA</td>\n",
       "      <td>AduroSmart ERIA Soft White Smart A19 Light Bul...</td>\n",
       "      <td>We aim to show you accurate product informati...</td>\n",
       "      <td>Electronics | Smart Home | Smart Energy and Li...</td>\n",
       "      <td>10.99</td>\n",
       "      <td>10.99</td>\n",
       "    </tr>\n",
       "    <tr>\n",
       "      <th>3</th>\n",
       "      <td>lowrider</td>\n",
       "      <td>24\" Classic Adjustable Balloon Fender Set Chro...</td>\n",
       "      <td>We aim to show you accurate product informati...</td>\n",
       "      <td>Sports &amp; Outdoors | Bikes | Bike Accessories |...</td>\n",
       "      <td>38.59</td>\n",
       "      <td>38.59</td>\n",
       "    </tr>\n",
       "    <tr>\n",
       "      <th>4</th>\n",
       "      <td>Anself</td>\n",
       "      <td>Elephant Shape Silicone Drinkware Portable Sil...</td>\n",
       "      <td>We aim to show you accurate product informati...</td>\n",
       "      <td>Baby | Feeding | Sippy Cups: Alternatives to P...</td>\n",
       "      <td>5.81</td>\n",
       "      <td>5.81</td>\n",
       "    </tr>\n",
       "  </tbody>\n",
       "</table>\n",
       "</div>"
      ],
      "text/plain": [
       "             brand                                               name  \\\n",
       "0  La Costeï¿½ï¿½a     La Costena Chipotle Peppers, 7 OZ (Pack of 12)   \n",
       "1           Equate  Equate Triamcinolone Acetonide Nasal Allergy S...   \n",
       "2  AduroSmart ERIA  AduroSmart ERIA Soft White Smart A19 Light Bul...   \n",
       "3         lowrider  24\" Classic Adjustable Balloon Fender Set Chro...   \n",
       "4           Anself  Elephant Shape Silicone Drinkware Portable Sil...   \n",
       "\n",
       "                                         description  \\\n",
       "0   We aim to show you accurate product informati...   \n",
       "1   We aim to show you accurate product informati...   \n",
       "2   We aim to show you accurate product informati...   \n",
       "3   We aim to show you accurate product informati...   \n",
       "4   We aim to show you accurate product informati...   \n",
       "\n",
       "                                        category_raw  price_raw  discount_raw  \n",
       "0  Food | Meal Solutions, Grains & Pasta | Canned...      31.93         31.93  \n",
       "1  Health | Equate | Equate Allergy | Equate Sinu...      10.48         10.48  \n",
       "2  Electronics | Smart Home | Smart Energy and Li...      10.99         10.99  \n",
       "3  Sports & Outdoors | Bikes | Bike Accessories |...      38.59         38.59  \n",
       "4  Baby | Feeding | Sippy Cups: Alternatives to P...       5.81          5.81  "
      ]
     },
     "execution_count": 25,
     "metadata": {},
     "output_type": "execute_result"
    }
   ],
   "source": [
    "# Remove records with error state.\n",
    "df_3 = df_1[~mask3]\n",
    "num_removed = df_1[mask3].shape[0]\n",
    "print(\"{v1} record(s) have been removed for an error discount greater than the list price. Result shape: {v2}.\".format(v1=num_removed, v2=df_3.shape))\n",
    "df_3.head()"
   ]
  },
  {
   "cell_type": "code",
   "execution_count": 26,
   "id": "4d5afd2a",
   "metadata": {},
   "outputs": [
    {
     "name": "stdout",
     "output_type": "stream",
     "text": [
      "Saving dataframe (29602, 6) to ./../data/interim/ecommerce_data-cleaned-0.2.3.csv.\n",
      "File saved.\n"
     ]
    }
   ],
   "source": [
    "# Save as interim file.\n",
    "save_interim(df_3, '0.2.3')"
   ]
  },
  {
   "cell_type": "markdown",
   "id": "e9c1ddfa",
   "metadata": {},
   "source": [
    "## 0.2.4 - `Product Name` Cleaning"
   ]
  },
  {
   "cell_type": "markdown",
   "id": "234cca4f",
   "metadata": {},
   "source": [
    "## 0.2.5 - `Product Description` EDA"
   ]
  },
  {
   "cell_type": "markdown",
   "id": "ca6f3239",
   "metadata": {},
   "source": [
    "## 0.2.6 - `Primary Category` Feature Engineering"
   ]
  },
  {
   "cell_type": "markdown",
   "id": "3ee9deda",
   "metadata": {},
   "source": [
    "## 0.2.7 - `Keywords` Feature Engineering"
   ]
  }
 ],
 "metadata": {
  "kernelspec": {
   "display_name": "Python 3 (ipykernel)",
   "language": "python",
   "name": "python3"
  },
  "language_info": {
   "codemirror_mode": {
    "name": "ipython",
    "version": 3
   },
   "file_extension": ".py",
   "mimetype": "text/x-python",
   "name": "python",
   "nbconvert_exporter": "python",
   "pygments_lexer": "ipython3",
   "version": "3.9.7"
  },
  "pycharm": {
   "stem_cell": {
    "cell_type": "raw",
    "metadata": {
     "collapsed": false
    },
    "source": []
   }
  }
 },
 "nbformat": 4,
 "nbformat_minor": 5
}
