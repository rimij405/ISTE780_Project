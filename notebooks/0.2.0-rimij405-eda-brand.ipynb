{
 "cells": [
  {
   "cell_type": "markdown",
   "id": "be5e0fa2-2ae2-4662-b2bc-69721ab7b245",
   "metadata": {},
   "source": [
    "# 0.2.0 - EDA: Brand Statistics\n",
    "\n",
    "**Overview**: This notebook is responsible for exploring the dataset.\n",
    "\n",
    "**Actions**: This notebook performs the following actions:\n",
    "\n",
    "- Perform EDA on the `brand` feature.\n",
    "\n",
    "**Dependencies**: This notebook depends on the following dependenc(y/ies):\n",
    "\n",
    "- `data/interim/ecommerce_data-cleaned-0.1.4.csv`\n",
    "\n",
    "**Targets**: This notebook outputs no artifact(s)."
   ]
  },
  {
   "cell_type": "markdown",
   "id": "08c76db1-9b7f-4769-9270-e798fdb59b80",
   "metadata": {},
   "source": [
    "## Setup\n",
    "\n",
    "The following cells import required libraries for python analysis, import the module path to access the project's `src/` module scripts, and enable autoreloading for the hot-reloading of source files outside of the notebook. These are all optional and should be included if needed for development."
   ]
  },
  {
   "cell_type": "code",
   "execution_count": 1,
   "id": "1828056e-7fa7-4913-8ef2-57205c1d055d",
   "metadata": {},
   "outputs": [
    {
     "name": "stdout",
     "output_type": "stream",
     "text": [
      "D:\\Repositories\\rit\\ISTE780\\Project\n"
     ]
    }
   ],
   "source": [
    "# Enable hot-reloading of external scripts.\n",
    "%load_ext autoreload\n",
    "%autoreload 2\n",
    "\n",
    "# Set project directory to project root.\n",
    "from pathlib import Path\n",
    "PROJECT_DIR = Path.cwd().resolve().parents[0]\n",
    "%cd {PROJECT_DIR}\n",
    "\n",
    "# Import utilities.\n",
    "from src.data import *\n",
    "from src.features import *"
   ]
  },
  {
   "cell_type": "code",
   "execution_count": 2,
   "id": "042de018-3e05-4c3c-a5f9-2401306ecbdb",
   "metadata": {},
   "outputs": [
    {
     "name": "stdout",
     "output_type": "stream",
     "text": [
      "<class 'pandas.core.frame.DataFrame'>\n",
      "Int64Index: 29604 entries, 0 to 29999\n",
      "Data columns (total 10 columns):\n",
      " #   Column        Non-Null Count  Dtype  \n",
      "---  ------        --------------  -----  \n",
      " 0   brand         29041 non-null  object \n",
      " 1   name          29604 non-null  object \n",
      " 2   description   29552 non-null  object \n",
      " 3   category_1    29604 non-null  object \n",
      " 4   category_2    29604 non-null  object \n",
      " 5   category_3    29604 non-null  object \n",
      " 6   keywords      29604 non-null  object \n",
      " 7   price_raw     29604 non-null  float64\n",
      " 8   discount_raw  29604 non-null  float64\n",
      " 9   price_range   29604 non-null  object \n",
      "dtypes: float64(2), object(8)\n",
      "memory usage: 2.5+ MB\n"
     ]
    },
    {
     "data": {
      "text/html": [
       "<div>\n",
       "<style scoped>\n",
       "    .dataframe tbody tr th:only-of-type {\n",
       "        vertical-align: middle;\n",
       "    }\n",
       "\n",
       "    .dataframe tbody tr th {\n",
       "        vertical-align: top;\n",
       "    }\n",
       "\n",
       "    .dataframe thead th {\n",
       "        text-align: right;\n",
       "    }\n",
       "</style>\n",
       "<table border=\"1\" class=\"dataframe\">\n",
       "  <thead>\n",
       "    <tr style=\"text-align: right;\">\n",
       "      <th></th>\n",
       "      <th>brand</th>\n",
       "      <th>name</th>\n",
       "      <th>description</th>\n",
       "      <th>category_1</th>\n",
       "      <th>category_2</th>\n",
       "      <th>category_3</th>\n",
       "      <th>keywords</th>\n",
       "      <th>price_raw</th>\n",
       "      <th>discount_raw</th>\n",
       "      <th>price_range</th>\n",
       "    </tr>\n",
       "  </thead>\n",
       "  <tbody>\n",
       "    <tr>\n",
       "      <th>0</th>\n",
       "      <td>la cost</td>\n",
       "      <td>la costena chipotl pepper 7 oz pack 12</td>\n",
       "      <td>we aim show accur product inform manufactur su...</td>\n",
       "      <td>food</td>\n",
       "      <td>meal solut grain pasta</td>\n",
       "      <td>can good</td>\n",
       "      <td>can veget</td>\n",
       "      <td>31.93</td>\n",
       "      <td>31.93</td>\n",
       "      <td>(25, 50]</td>\n",
       "    </tr>\n",
       "    <tr>\n",
       "      <th>1</th>\n",
       "      <td>equat</td>\n",
       "      <td>equat triamcinolon acetonid nasal allergi spra...</td>\n",
       "      <td>we aim show accur product inform manufactur su...</td>\n",
       "      <td>health</td>\n",
       "      <td>equat</td>\n",
       "      <td>equat allergi</td>\n",
       "      <td>equat sinu congest nasal care</td>\n",
       "      <td>10.48</td>\n",
       "      <td>10.48</td>\n",
       "      <td>(0, 25]</td>\n",
       "    </tr>\n",
       "    <tr>\n",
       "      <th>2</th>\n",
       "      <td>adurosmart eria</td>\n",
       "      <td>adurosmart eria soft white smart a19 light bul...</td>\n",
       "      <td>we aim show accur product inform manufactur su...</td>\n",
       "      <td>electron</td>\n",
       "      <td>smart home</td>\n",
       "      <td>smart energi light</td>\n",
       "      <td>smart light smart light bulb</td>\n",
       "      <td>10.99</td>\n",
       "      <td>10.99</td>\n",
       "      <td>(0, 25]</td>\n",
       "    </tr>\n",
       "    <tr>\n",
       "      <th>3</th>\n",
       "      <td>lowrid</td>\n",
       "      <td>24 classic adjust balloon fender set chrome bi...</td>\n",
       "      <td>we aim show accur product inform manufactur su...</td>\n",
       "      <td>sport outdoor</td>\n",
       "      <td>bike</td>\n",
       "      <td>bike accessori</td>\n",
       "      <td>bike fender</td>\n",
       "      <td>38.59</td>\n",
       "      <td>38.59</td>\n",
       "      <td>(25, 50]</td>\n",
       "    </tr>\n",
       "    <tr>\n",
       "      <th>4</th>\n",
       "      <td>anself</td>\n",
       "      <td>eleph shape silicon drinkwar portabl silicon c...</td>\n",
       "      <td>we aim show accur product inform manufactur su...</td>\n",
       "      <td>babi</td>\n",
       "      <td>feed</td>\n",
       "      <td>sippi cup altern plastic</td>\n",
       "      <td>unknown</td>\n",
       "      <td>5.81</td>\n",
       "      <td>5.81</td>\n",
       "      <td>(0, 25]</td>\n",
       "    </tr>\n",
       "  </tbody>\n",
       "</table>\n",
       "</div>"
      ],
      "text/plain": [
       "             brand                                               name  \\\n",
       "0          la cost             la costena chipotl pepper 7 oz pack 12   \n",
       "1            equat  equat triamcinolon acetonid nasal allergi spra...   \n",
       "2  adurosmart eria  adurosmart eria soft white smart a19 light bul...   \n",
       "3           lowrid  24 classic adjust balloon fender set chrome bi...   \n",
       "4           anself  eleph shape silicon drinkwar portabl silicon c...   \n",
       "\n",
       "                                         description     category_1  \\\n",
       "0  we aim show accur product inform manufactur su...           food   \n",
       "1  we aim show accur product inform manufactur su...         health   \n",
       "2  we aim show accur product inform manufactur su...       electron   \n",
       "3  we aim show accur product inform manufactur su...  sport outdoor   \n",
       "4  we aim show accur product inform manufactur su...           babi   \n",
       "\n",
       "               category_2                category_3  \\\n",
       "0  meal solut grain pasta                  can good   \n",
       "1                   equat             equat allergi   \n",
       "2              smart home        smart energi light   \n",
       "3                    bike            bike accessori   \n",
       "4                    feed  sippi cup altern plastic   \n",
       "\n",
       "                        keywords  price_raw  discount_raw price_range  \n",
       "0                      can veget      31.93         31.93    (25, 50]  \n",
       "1  equat sinu congest nasal care      10.48         10.48     (0, 25]  \n",
       "2   smart light smart light bulb      10.99         10.99     (0, 25]  \n",
       "3                    bike fender      38.59         38.59    (25, 50]  \n",
       "4                        unknown       5.81          5.81     (0, 25]  "
      ]
     },
     "execution_count": 2,
     "metadata": {},
     "output_type": "execute_result"
    }
   ],
   "source": [
    "# Get the dependency.\n",
    "input_filepath = get_interim_filepath(\"0.1.4\", tag=\"cleaned\")\n",
    "df_input = pd.read_csv(input_filepath, index_col = 0)\n",
    "df_input.info()\n",
    "df_input.head()"
   ]
  },
  {
   "cell_type": "markdown",
   "id": "8e0129b4-b1d2-4631-8cc2-e1ae9165cf3b",
   "metadata": {},
   "source": [
    "We can see that $\\approx \\$70$ is the threshold for where values start to become outliers."
   ]
  },
  {
   "cell_type": "markdown",
   "id": "5d8e764a-ff50-4e6e-9d51-c4ab6fc0ff50",
   "metadata": {},
   "source": [
    "A vast majority ($n = 26325$) of the dataset is above $\\$100$."
   ]
  },
  {
   "cell_type": "code",
   "execution_count": 10,
   "id": "741ea8ed-b44c-4445-86ad-12b916d03fa2",
   "metadata": {},
   "outputs": [],
   "source": [
    "# Import plotting library.\n",
    "import matplotlib.pyplot as plt\n",
    "from matplotlib import colors\n",
    "from matplotlib.ticker import PercentFormatter\n",
    "plt.style.use('ggplot')"
   ]
  },
  {
   "cell_type": "code",
   "execution_count": 15,
   "id": "cf669742-8a20-4326-8b84-09bb363acc6d",
   "metadata": {},
   "outputs": [
    {
     "data": {
      "image/png": "[encoded data removed]",
      "text/plain": [
       "<Figure size 1080x720 with 1 Axes>"
      ]
     },
     "metadata": {},
     "output_type": "display_data"
    }
   ],
   "source": [
    "# Plot of 10 most common brands.\n",
    "fig = plt.figure(figsize=(15,10))\n",
    "ax = df_input.brand.value_counts().nlargest(10).plot.bar(ylim=0)\n",
    "ax.set_title(\"10 Most Frequent Brands\")\n",
    "ax.set_xlabel(\"Brand\")\n",
    "ax.set_ylabel(\"Frequency\")\n",
    "plt.show()"
   ]
  },
  {
   "cell_type": "code",
   "execution_count": 19,
   "id": "05f83b4e-6a82-4a8a-96e2-37cb15aed71a",
   "metadata": {},
   "outputs": [
    {
     "data": {
      "image/png": "[encoded data removed]",
      "text/plain": [
       "<Figure size 1080x720 with 1 Axes>"
      ]
     },
     "metadata": {},
     "output_type": "display_data"
    }
   ],
   "source": [
    "fig = plt.figure(figsize=(15,10))\n",
    "ax = df_input.groupby([\"category_1\"]).brand.count().nlargest(5).plot.bar(ylim=0)\n",
    "ax.set_title(\"Top 5 Brand Categories\")\n",
    "ax.set_xlabel(\"Category\")\n",
    "ax.set_ylabel(\"Frequency\")\n",
    "plt.show()"
   ]
  },
  {
   "cell_type": "code",
   "execution_count": 25,
   "id": "f36cbb66-55a7-498d-9397-0413ad6a9461",
   "metadata": {},
   "outputs": [
    {
     "data": {
      "text/html": [
       "<div>\n",
       "<style scoped>\n",
       "    .dataframe tbody tr th:only-of-type {\n",
       "        vertical-align: middle;\n",
       "    }\n",
       "\n",
       "    .dataframe tbody tr th {\n",
       "        vertical-align: top;\n",
       "    }\n",
       "\n",
       "    .dataframe thead th {\n",
       "        text-align: right;\n",
       "    }\n",
       "</style>\n",
       "<table border=\"1\" class=\"dataframe\">\n",
       "  <thead>\n",
       "    <tr style=\"text-align: right;\">\n",
       "      <th></th>\n",
       "      <th>brand</th>\n",
       "    </tr>\n",
       "  </thead>\n",
       "  <tbody>\n",
       "    <tr>\n",
       "      <th>0</th>\n",
       "      <td>la cost</td>\n",
       "    </tr>\n",
       "    <tr>\n",
       "      <th>1</th>\n",
       "      <td>equat</td>\n",
       "    </tr>\n",
       "    <tr>\n",
       "      <th>2</th>\n",
       "      <td>adurosmart eria</td>\n",
       "    </tr>\n",
       "    <tr>\n",
       "      <th>3</th>\n",
       "      <td>lowrid</td>\n",
       "    </tr>\n",
       "    <tr>\n",
       "      <th>4</th>\n",
       "      <td>anself</td>\n",
       "    </tr>\n",
       "    <tr>\n",
       "      <th>...</th>\n",
       "      <td>...</td>\n",
       "    </tr>\n",
       "    <tr>\n",
       "      <th>29994</th>\n",
       "      <td>ninechef</td>\n",
       "    </tr>\n",
       "    <tr>\n",
       "      <th>29996</th>\n",
       "      <td>shock sox</td>\n",
       "    </tr>\n",
       "    <tr>\n",
       "      <th>29997</th>\n",
       "      <td>princ</td>\n",
       "    </tr>\n",
       "    <tr>\n",
       "      <th>29998</th>\n",
       "      <td>creat ion</td>\n",
       "    </tr>\n",
       "    <tr>\n",
       "      <th>29999</th>\n",
       "      <td>takuminowaza</td>\n",
       "    </tr>\n",
       "  </tbody>\n",
       "</table>\n",
       "<p>29604 rows × 1 columns</p>\n",
       "</div>"
      ],
      "text/plain": [
       "                 brand\n",
       "0              la cost\n",
       "1                equat\n",
       "2      adurosmart eria\n",
       "3               lowrid\n",
       "4               anself\n",
       "...                ...\n",
       "29994         ninechef\n",
       "29996        shock sox\n",
       "29997            princ\n",
       "29998        creat ion\n",
       "29999     takuminowaza\n",
       "\n",
       "[29604 rows x 1 columns]"
      ]
     },
     "metadata": {},
     "output_type": "display_data"
    },
    {
     "ename": "AttributeError",
     "evalue": "'DataFrame' object has no attribute 'description'",
     "output_type": "error",
     "traceback": [
      "\u001b[1;31m---------------------------------------------------------------------------\u001b[0m",
      "\u001b[1;31mAttributeError\u001b[0m                            Traceback (most recent call last)",
      "\u001b[1;32m~\\AppData\\Local\\Temp/ipykernel_22216/4168907856.py\u001b[0m in \u001b[0;36m<module>\u001b[1;34m\u001b[0m\n\u001b[0;32m      1\u001b[0m \u001b[0mdf_terms\u001b[0m \u001b[1;33m=\u001b[0m \u001b[0mdf_input\u001b[0m\u001b[1;33m[\u001b[0m\u001b[1;33m[\u001b[0m\u001b[1;34m\"brand\"\u001b[0m\u001b[1;33m]\u001b[0m\u001b[1;33m]\u001b[0m\u001b[1;33m\u001b[0m\u001b[1;33m\u001b[0m\u001b[0m\n\u001b[0;32m      2\u001b[0m \u001b[0mdisplay\u001b[0m\u001b[1;33m(\u001b[0m\u001b[0mdf_terms\u001b[0m\u001b[1;33m)\u001b[0m\u001b[1;33m\u001b[0m\u001b[1;33m\u001b[0m\u001b[0m\n\u001b[1;32m----> 3\u001b[1;33m \u001b[0mterm_frequency\u001b[0m \u001b[1;33m=\u001b[0m \u001b[0mdf_terms\u001b[0m\u001b[1;33m.\u001b[0m\u001b[0mdescription\u001b[0m\u001b[1;33m.\u001b[0m\u001b[0mstr\u001b[0m\u001b[1;33m.\u001b[0m\u001b[0msplit\u001b[0m\u001b[1;33m(\u001b[0m\u001b[0mexpand\u001b[0m\u001b[1;33m=\u001b[0m\u001b[1;32mTrue\u001b[0m\u001b[1;33m)\u001b[0m\u001b[1;33m.\u001b[0m\u001b[0mstack\u001b[0m\u001b[1;33m(\u001b[0m\u001b[1;33m)\u001b[0m\u001b[1;33m.\u001b[0m\u001b[0mvalue_counts\u001b[0m\u001b[1;33m(\u001b[0m\u001b[1;33m)\u001b[0m\u001b[1;33m\u001b[0m\u001b[1;33m\u001b[0m\u001b[0m\n\u001b[0m\u001b[0;32m      4\u001b[0m \u001b[0mdisplay\u001b[0m\u001b[1;33m(\u001b[0m\u001b[0mterm_frequency\u001b[0m\u001b[1;33m)\u001b[0m\u001b[1;33m\u001b[0m\u001b[1;33m\u001b[0m\u001b[0m\n",
      "\u001b[1;32m~\\.conda\\envs\\iste780\\lib\\site-packages\\pandas\\core\\generic.py\u001b[0m in \u001b[0;36m__getattr__\u001b[1;34m(self, name)\u001b[0m\n\u001b[0;32m   5485\u001b[0m         ):\n\u001b[0;32m   5486\u001b[0m             \u001b[1;32mreturn\u001b[0m \u001b[0mself\u001b[0m\u001b[1;33m[\u001b[0m\u001b[0mname\u001b[0m\u001b[1;33m]\u001b[0m\u001b[1;33m\u001b[0m\u001b[1;33m\u001b[0m\u001b[0m\n\u001b[1;32m-> 5487\u001b[1;33m         \u001b[1;32mreturn\u001b[0m \u001b[0mobject\u001b[0m\u001b[1;33m.\u001b[0m\u001b[0m__getattribute__\u001b[0m\u001b[1;33m(\u001b[0m\u001b[0mself\u001b[0m\u001b[1;33m,\u001b[0m \u001b[0mname\u001b[0m\u001b[1;33m)\u001b[0m\u001b[1;33m\u001b[0m\u001b[1;33m\u001b[0m\u001b[0m\n\u001b[0m\u001b[0;32m   5488\u001b[0m \u001b[1;33m\u001b[0m\u001b[0m\n\u001b[0;32m   5489\u001b[0m     \u001b[1;32mdef\u001b[0m \u001b[0m__setattr__\u001b[0m\u001b[1;33m(\u001b[0m\u001b[0mself\u001b[0m\u001b[1;33m,\u001b[0m \u001b[0mname\u001b[0m\u001b[1;33m:\u001b[0m \u001b[0mstr\u001b[0m\u001b[1;33m,\u001b[0m \u001b[0mvalue\u001b[0m\u001b[1;33m)\u001b[0m \u001b[1;33m->\u001b[0m \u001b[1;32mNone\u001b[0m\u001b[1;33m:\u001b[0m\u001b[1;33m\u001b[0m\u001b[1;33m\u001b[0m\u001b[0m\n",
      "\u001b[1;31mAttributeError\u001b[0m: 'DataFrame' object has no attribute 'description'"
     ]
    }
   ],
   "source": [
    "df_terms = df_input[[\"brand\"]]\n",
    "display(df_terms)\n",
    "term_frequency = df_terms.description.str.split(expand=True).stack().value_counts()\n",
    "display(term_frequency)"
   ]
  },
  {
   "cell_type": "code",
   "execution_count": 24,
   "id": "91dc233f-c821-43f1-8907-519e3657f7d5",
   "metadata": {},
   "outputs": [
    {
     "ename": "NameError",
     "evalue": "name 'df_terms' is not defined",
     "output_type": "error",
     "traceback": [
      "\u001b[1;31m---------------------------------------------------------------------------\u001b[0m",
      "\u001b[1;31mNameError\u001b[0m                                 Traceback (most recent call last)",
      "\u001b[1;32m~\\AppData\\Local\\Temp/ipykernel_22216/1181667050.py\u001b[0m in \u001b[0;36m<module>\u001b[1;34m\u001b[0m\n\u001b[0;32m      1\u001b[0m \u001b[1;31m# Plot of 20 most common terms in the `brand` feature.\u001b[0m\u001b[1;33m\u001b[0m\u001b[1;33m\u001b[0m\u001b[0m\n\u001b[0;32m      2\u001b[0m \u001b[0mfig\u001b[0m \u001b[1;33m=\u001b[0m \u001b[0mplt\u001b[0m\u001b[1;33m.\u001b[0m\u001b[0mfigure\u001b[0m\u001b[1;33m(\u001b[0m\u001b[0mfigsize\u001b[0m\u001b[1;33m=\u001b[0m\u001b[1;33m(\u001b[0m\u001b[1;36m15\u001b[0m\u001b[1;33m,\u001b[0m\u001b[1;36m10\u001b[0m\u001b[1;33m)\u001b[0m\u001b[1;33m)\u001b[0m\u001b[1;33m\u001b[0m\u001b[1;33m\u001b[0m\u001b[0m\n\u001b[1;32m----> 3\u001b[1;33m \u001b[0max\u001b[0m \u001b[1;33m=\u001b[0m \u001b[0mdf_terms\u001b[0m\u001b[1;33m.\u001b[0m\u001b[0mbrand\u001b[0m\u001b[1;33m.\u001b[0m\u001b[0mstr\u001b[0m\u001b[1;33m.\u001b[0m\u001b[0msplit\u001b[0m\u001b[1;33m(\u001b[0m\u001b[0mexpand\u001b[0m\u001b[1;33m=\u001b[0m\u001b[1;32mTrue\u001b[0m\u001b[1;33m)\u001b[0m\u001b[1;33m.\u001b[0m\u001b[0mstack\u001b[0m\u001b[1;33m(\u001b[0m\u001b[1;33m)\u001b[0m\u001b[1;33m.\u001b[0m\u001b[0mvalue_counts\u001b[0m\u001b[1;33m(\u001b[0m\u001b[1;33m)\u001b[0m\u001b[1;33m.\u001b[0m\u001b[0mnlargest\u001b[0m\u001b[1;33m(\u001b[0m\u001b[1;36m20\u001b[0m\u001b[1;33m)\u001b[0m\u001b[1;33m.\u001b[0m\u001b[0mplot\u001b[0m\u001b[1;33m.\u001b[0m\u001b[0mbar\u001b[0m\u001b[1;33m(\u001b[0m\u001b[0mylim\u001b[0m\u001b[1;33m=\u001b[0m\u001b[1;36m0\u001b[0m\u001b[1;33m)\u001b[0m\u001b[1;33m\u001b[0m\u001b[1;33m\u001b[0m\u001b[0m\n\u001b[0m\u001b[0;32m      4\u001b[0m \u001b[0max\u001b[0m\u001b[1;33m.\u001b[0m\u001b[0mset_title\u001b[0m\u001b[1;33m(\u001b[0m\u001b[1;34m\"20 Most Frequent Terms\"\u001b[0m\u001b[1;33m)\u001b[0m\u001b[1;33m\u001b[0m\u001b[1;33m\u001b[0m\u001b[0m\n\u001b[0;32m      5\u001b[0m \u001b[0max\u001b[0m\u001b[1;33m.\u001b[0m\u001b[0mset_xlabel\u001b[0m\u001b[1;33m(\u001b[0m\u001b[1;34m\"Terms in `brand`\"\u001b[0m\u001b[1;33m)\u001b[0m\u001b[1;33m\u001b[0m\u001b[1;33m\u001b[0m\u001b[0m\n",
      "\u001b[1;31mNameError\u001b[0m: name 'df_terms' is not defined"
     ]
    },
    {
     "data": {
      "text/plain": [
       "<Figure size 1080x720 with 0 Axes>"
      ]
     },
     "metadata": {},
     "output_type": "display_data"
    }
   ],
   "source": [
    "# Plot of 20 most common terms in the `brand` feature.\n",
    "fig = plt.figure(figsize=(15,10))\n",
    "ax = df_terms.brand.str.split(expand=True).stack().value_counts().nlargest(20).plot.bar(ylim=0)\n",
    "ax.set_title(\"20 Most Frequent Terms\")\n",
    "ax.set_xlabel(\"Terms in `brand`\")\n",
    "ax.set_ylabel(\"Frequency\")\n",
    "plt.gcf().autofmt_xdate()\n",
    "plt.show()"
   ]
  },
  {
   "cell_type": "code",
   "execution_count": null,
   "id": "66b0f83d-c524-4952-b8b6-a67df5ab0f6e",
   "metadata": {},
   "outputs": [],
   "source": [
    "from wordcloud import WordCloud\n",
    "\n",
    "frequency_terms = term_frequency.to_frame()\n",
    "frequency_terms['term'] = frequency_terms.index\n",
    "frequency_terms['frequency'] = frequency_terms[0]\n",
    "frequency_terms = frequency_terms.iloc[: , 1:]\n",
    "# frequency_terms.rename(columns={'0': 'frequency', 'term':'term'})\n",
    "print(frequency_terms)\n",
    "\n",
    "data = dict(zip(frequency_terms['term'].tolist(), frequency_terms['frequency'].tolist()))\n",
    "wordcloud = WordCloud(max_font_size=50, max_words=200, background_color=\"white\").generate_from_frequencies(data)\n",
    "plt.figure(figsize=(15, 10))\n",
    "plt.imshow(wordcloud, interpolation='bilinear')\n",
    "plt.axis(\"off\")\n",
    "plt.show()"
   ]
  },
  {
   "cell_type": "code",
   "execution_count": 6,
   "id": "4d6d9cb1-c6a9-4c5d-ac0f-8eda35be31a7",
   "metadata": {},
   "outputs": [
    {
     "ename": "NameError",
     "evalue": "name 'df_labelled' is not defined",
     "output_type": "error",
     "traceback": [
      "\u001b[1;31m---------------------------------------------------------------------------\u001b[0m",
      "\u001b[1;31mNameError\u001b[0m                                 Traceback (most recent call last)",
      "\u001b[1;32m~\\AppData\\Local\\Temp/ipykernel_22216/2999382554.py\u001b[0m in \u001b[0;36m<module>\u001b[1;34m\u001b[0m\n\u001b[0;32m      1\u001b[0m \u001b[1;31m# Save the file\u001b[0m\u001b[1;33m\u001b[0m\u001b[1;33m\u001b[0m\u001b[0m\n\u001b[1;32m----> 2\u001b[1;33m \u001b[0mdf_output\u001b[0m \u001b[1;33m=\u001b[0m \u001b[0mdf_labelled\u001b[0m\u001b[1;33m\u001b[0m\u001b[1;33m\u001b[0m\u001b[0m\n\u001b[0m\u001b[0;32m      3\u001b[0m \u001b[0msave_interim\u001b[0m\u001b[1;33m(\u001b[0m\u001b[0mdf_output\u001b[0m\u001b[1;33m,\u001b[0m \u001b[1;34m\"0.1.4\"\u001b[0m\u001b[1;33m)\u001b[0m\u001b[1;33m\u001b[0m\u001b[1;33m\u001b[0m\u001b[0m\n",
      "\u001b[1;31mNameError\u001b[0m: name 'df_labelled' is not defined"
     ]
    }
   ],
   "source": [
    "# Save the file\n",
    "df_output = df_labelled\n",
    "save_interim(df_output, \"0.1.4\")"
   ]
  }
 ],
 "metadata": {
  "kernelspec": {
   "display_name": "Python 3 (ipykernel)",
   "language": "python",
   "name": "python3"
  },
  "language_info": {
   "codemirror_mode": {
    "name": "ipython",
    "version": 3
   },
   "file_extension": ".py",
   "mimetype": "text/x-python",
   "name": "python",
   "nbconvert_exporter": "python",
   "pygments_lexer": "ipython3",
   "version": "3.9.7"
  }
 },
 "nbformat": 4,
 "nbformat_minor": 5
}
