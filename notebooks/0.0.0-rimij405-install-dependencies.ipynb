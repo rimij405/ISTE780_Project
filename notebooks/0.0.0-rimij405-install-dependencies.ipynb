{
 "cells": [
  {
   "cell_type": "markdown",
   "id": "60462dd1-07f4-46c2-9606-f0f4b4d75dea",
   "metadata": {
    "tags": []
   },
   "source": [
    "# 0.0.0 - Install Dependencies\n",
    "\n",
    "## Overview\n",
    "\n",
    "<!-- *This section details the *actions*, *dependencies*, and *targets* of a possible notebook. Reading this section ought to give a total summary of what's contained within the notebook.* -->\n",
    "\n",
    "### Actions\n",
    "\n",
    "**Actions**: This notebook shows how to use the `doit` command to update the conda environment's packages using the project's `environment.yaml`.\n"
   ]
  },
  {
   "cell_type": "code",
   "execution_count": 1,
   "id": "a7a880bf-f2e4-48ea-be7d-882c250cb3a7",
   "metadata": {},
   "outputs": [
    {
     "name": "stdout",
     "output_type": "stream",
     "text": [
      "\n",
      "     active environment : iste780\n",
      "    active env location : C:\\Users\\effen\\.conda\\envs\\iste780\n",
      "            shell level : 2\n",
      "       user config file : C:\\Users\\effen\\.condarc\n",
      " populated config files : C:\\Users\\effen\\mambaforge\\.condarc\n",
      "          conda version : 4.10.3\n",
      "    conda-build version : not installed\n",
      "         python version : 3.9.7.final.0\n",
      "       virtual packages : __cuda=11.5=0\n",
      "                          __win=0=0\n",
      "                          __archspec=1=x86_64\n",
      "       base environment : C:\\Users\\effen\\mambaforge  (writable)\n",
      "      conda av data dir : C:\\Users\\effen\\mambaforge\\etc\\conda\n",
      "  conda av metadata url : None\n",
      "           channel URLs : https://conda.anaconda.org/conda-forge/win-64\n",
      "                          https://conda.anaconda.org/conda-forge/noarch\n",
      "          package cache : C:\\Users\\effen\\mambaforge\\pkgs\n",
      "                          C:\\Users\\effen\\.conda\\pkgs\n",
      "                          C:\\Users\\effen\\AppData\\Local\\conda\\conda\\pkgs\n",
      "       envs directories : C:\\Users\\effen\\mambaforge\\envs\n",
      "                          C:\\Users\\effen\\.conda\\envs\n",
      "                          C:\\Users\\effen\\AppData\\Local\\conda\\conda\\envs\n",
      "               platform : win-64\n",
      "             user-agent : conda/4.10.3 requests/2.26.0 CPython/3.9.7 Windows/10 Windows/10.0.19042\n",
      "          administrator : False\n",
      "             netrc file : None\n",
      "           offline mode : False\n",
      "\n"
     ]
    }
   ],
   "source": [
    "# Verify your conda details.\n",
    "!conda info"
   ]
  },
  {
   "cell_type": "code",
   "execution_count": 2,
   "id": "015e5381-539e-4354-bb34-09b27a79113e",
   "metadata": {},
   "outputs": [
    {
     "name": "stdout",
     "output_type": "stream",
     "text": [
      "D:\\Repositories\\rit\\ISTE780\\Project\n"
     ]
    }
   ],
   "source": [
    "# Get the project directory.\n",
    "from pathlib import Path\n",
    "PROJECT_DIR = Path.cwd().resolve().parents[0]\n",
    "\n",
    "# Change into the project directory.\n",
    "%cd {PROJECT_DIR}"
   ]
  },
  {
   "cell_type": "code",
   "execution_count": 3,
   "id": "b0f7a046-3529-4406-be2d-82740ae4d5cf",
   "metadata": {},
   "outputs": [
    {
     "name": "stdout",
     "output_type": "stream",
     "text": [
      "clean_data        Clean the raw dataset (.csv) and place in the interim folder.\n",
      "create_data_dir   Create the data directory.\n",
      "create_env        Create new conda environment using 'environment.yaml'.\n",
      "download_data     Download the dataset from Kaggle.\n",
      "unpack_data       Unpack the raw dataset (.zip) as the (.csv) file.\n",
      "update_env        Update existing conda environment using 'environment.yaml'.\n"
     ]
    }
   ],
   "source": [
    "# View list of doit tasks.\n",
    "!doit -f \"dodo.py\" list"
   ]
  },
  {
   "cell_type": "code",
   "execution_count": 5,
   "id": "0eb47518-1818-4529-8c29-d296677fbec9",
   "metadata": {},
   "outputs": [
    {
     "name": "stdout",
     "output_type": "stream",
     "text": [
      "-- create_env\n",
      "-- update_env\n"
     ]
    }
   ],
   "source": [
    "# Update the conda environment.\n",
    "!doit -f \"dodo.py\" update_env"
   ]
  }
 ],
 "metadata": {
  "kernelspec": {
   "display_name": "Python 3 (ipykernel)",
   "language": "python",
   "name": "python3"
  },
  "language_info": {
   "codemirror_mode": {
    "name": "ipython",
    "version": 3
   },
   "file_extension": ".py",
   "mimetype": "text/x-python",
   "name": "python",
   "nbconvert_exporter": "python",
   "pygments_lexer": "ipython3",
   "version": "3.9.7"
  }
 },
 "nbformat": 4,
 "nbformat_minor": 5
}
