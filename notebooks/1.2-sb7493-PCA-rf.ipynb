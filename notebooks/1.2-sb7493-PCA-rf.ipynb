{
 "cells": [
  {
   "cell_type": "markdown",
   "metadata": {
    "collapsed": true,
    "pycharm": {
     "name": "#%% md\n"
    }
   },
   "source": [
    "# 1.2 - Multi-Class Classification using Random Forest"
   ]
  },
  {
   "cell_type": "code",
   "execution_count": 20,
   "metadata": {
    "pycharm": {
     "is_executing": false,
     "name": "#%%\n"
    }
   },
   "outputs": [
    {
     "data": {
      "text/plain": "             brand                                               name  \\\n0  La Costeï¿½ï¿½a     La Costena Chipotle Peppers, 7 OZ (Pack of 12)   \n1           Equate  Equate Triamcinolone Acetonide Nasal Allergy S...   \n2  AduroSmart ERIA  AduroSmart ERIA Soft White Smart A19 Light Bul...   \n3         lowrider  24\" Classic Adjustable Balloon Fender Set Chro...   \n4           Anself  Elephant Shape Silicone Drinkware Portable Sil...   \n\n                                         description  \\\n0   We aim to show you accurate product informati...   \n1   We aim to show you accurate product informati...   \n2   We aim to show you accurate product informati...   \n3   We aim to show you accurate product informati...   \n4   We aim to show you accurate product informati...   \n\n                                        category_raw  price_raw  discount_raw  \n0  Food | Meal Solutions, Grains & Pasta | Canned...      31.93         31.93  \n1  Health | Equate | Equate Allergy | Equate Sinu...      10.48         10.48  \n2  Electronics | Smart Home | Smart Energy and Li...      10.99         10.99  \n3  Sports & Outdoors | Bikes | Bike Accessories |...      38.59         38.59  \n4  Baby | Feeding | Sippy Cups: Alternatives to P...       5.81          5.81  ",
      "text/html": "<div>\n<style scoped>\n    .dataframe tbody tr th:only-of-type {\n        vertical-align: middle;\n    }\n\n    .dataframe tbody tr th {\n        vertical-align: top;\n    }\n\n    .dataframe thead th {\n        text-align: right;\n    }\n</style>\n<table border=\"1\" class=\"dataframe\">\n  <thead>\n    <tr style=\"text-align: right;\">\n      <th></th>\n      <th>brand</th>\n      <th>name</th>\n      <th>description</th>\n      <th>category_raw</th>\n      <th>price_raw</th>\n      <th>discount_raw</th>\n    </tr>\n  </thead>\n  <tbody>\n    <tr>\n      <th>0</th>\n      <td>La Costeï¿½ï¿½a</td>\n      <td>La Costena Chipotle Peppers, 7 OZ (Pack of 12)</td>\n      <td>We aim to show you accurate product informati...</td>\n      <td>Food | Meal Solutions, Grains &amp; Pasta | Canned...</td>\n      <td>31.93</td>\n      <td>31.93</td>\n    </tr>\n    <tr>\n      <th>1</th>\n      <td>Equate</td>\n      <td>Equate Triamcinolone Acetonide Nasal Allergy S...</td>\n      <td>We aim to show you accurate product informati...</td>\n      <td>Health | Equate | Equate Allergy | Equate Sinu...</td>\n      <td>10.48</td>\n      <td>10.48</td>\n    </tr>\n    <tr>\n      <th>2</th>\n      <td>AduroSmart ERIA</td>\n      <td>AduroSmart ERIA Soft White Smart A19 Light Bul...</td>\n      <td>We aim to show you accurate product informati...</td>\n      <td>Electronics | Smart Home | Smart Energy and Li...</td>\n      <td>10.99</td>\n      <td>10.99</td>\n    </tr>\n    <tr>\n      <th>3</th>\n      <td>lowrider</td>\n      <td>24\" Classic Adjustable Balloon Fender Set Chro...</td>\n      <td>We aim to show you accurate product informati...</td>\n      <td>Sports &amp; Outdoors | Bikes | Bike Accessories |...</td>\n      <td>38.59</td>\n      <td>38.59</td>\n    </tr>\n    <tr>\n      <th>4</th>\n      <td>Anself</td>\n      <td>Elephant Shape Silicone Drinkware Portable Sil...</td>\n      <td>We aim to show you accurate product informati...</td>\n      <td>Baby | Feeding | Sippy Cups: Alternatives to P...</td>\n      <td>5.81</td>\n      <td>5.81</td>\n    </tr>\n  </tbody>\n</table>\n</div>"
     },
     "metadata": {},
     "output_type": "execute_result",
     "execution_count": 20
    }
   ],
   "source": [
    "import pandas as pd\n",
    "import regex\n",
    "from IPython.core.display import display\n",
    "df = pd.read_csv('../data/interim/ecommerce_data-cleaned-0.2.3.csv', index_col=0)\n",
    "df.head()"
   ]
  },
  {
   "cell_type": "code",
   "execution_count": 21,
   "metadata": {
    "pycharm": {
     "is_executing": false,
     "name": "#%%\n"
    }
   },
   "outputs": [],
   "source": [
    "# Setup constants.\n",
    "DATA_DIR = \"./../data/interim/\"\n",
    "BASENAME = \"ecommerce_data-cleaned-0.2.3\"\n",
    "EXT = \"csv\""
   ]
  },
  {
   "cell_type": "markdown",
   "metadata": {},
   "source": [
    "## 1.2.1 - Finding the predictors for classification\n",
    "\n",
    "Based on the features described in the dataframe above, we need to select the appropriate features for classification\n",
    "of a Walmart product into the appropriate list price label. Currently, let us consider the feature (or column) - \n",
    "'name' for the classification. The 'name' of the Walmart product will act as our output that needs to be classified.\n",
    "\n",
    "First, we need to remove the missing values from the column 'name' and add a column for the output category. As \n",
    "described in the notebook - \"0.2-rimij405-feature-eda.ipynb\", we can consider the following range labels as list price \n",
    "categories, and assign them an integer label between 0-9. \n",
    "\n",
    "**List Price Range** | **Class**\n",
    ":--------------------:|:-------------:\n",
    "*price <= 10*        | 0\n",
    "*10 < price <= 20*  | 1\n",
    "*20 < price <= 25* | 2\n",
    "*25 < price <= 30* | 3\n",
    "*30 < price <= 35* | 4\n",
    "*35 < price <= 40* | 5\n",
    "*40 < price <= 45* | 6\n",
    "*45 < price <= 50* | 7\n",
    "*50 < price <= 100* | 8\n",
    "*price > 100* | 9"
   ]
  },
  {
   "cell_type": "markdown",
   "metadata": {
    "pycharm": {
     "name": "#%% md\n"
    }
   },
   "source": [
    "## 1.2.2 - Text Preprocessing and adding Classification Labels\n",
    "\n",
    "Now we will remove punctuation, numbers and special characters from the name column as\n",
    "we need to use the keywords from it in our classifier. All the words will be converted into lower-case for uniformity \n",
    "and stemmed using NLTK package's Porter Stemmer. This is done to reduce the size of vocabulary space and improve volume\n",
    "of feature space. \n",
    "\n",
    "Additionally, we will add a column with the integer labels for list price classification to the data frame."
   ]
  },
  {
   "cell_type": "code",
   "execution_count": 22,
   "metadata": {
    "pycharm": {
     "is_executing": false,
     "name": "#%%\n"
    },
    "scrolled": true
   },
   "outputs": [
    {
     "name": "stderr",
     "text": [
      "[nltk_data] Downloading package stopwords to\n[nltk_data]     /Users/sheenambhatia/nltk_data...\n[nltk_data]   Package stopwords is already up-to-date!\n"
     ],
     "output_type": "stream"
    },
    {
     "data": {
      "text/plain": "                 brand                                               name  \\\n0      La Costeï¿½ï¿½a     La Costena Chipotle Peppers, 7 OZ (Pack of 12)   \n1               Equate  Equate Triamcinolone Acetonide Nasal Allergy S...   \n2      AduroSmart ERIA  AduroSmart ERIA Soft White Smart A19 Light Bul...   \n3             lowrider  24\" Classic Adjustable Balloon Fender Set Chro...   \n4               Anself  Elephant Shape Silicone Drinkware Portable Sil...   \n...                ...                                                ...   \n29994         NineChef  Sheng Xiang Zhen (ShengXiangZhen) Snack + OneN...   \n29996        Shock Sox  Shock Sox Fork Seal Guards 29-36mm Fork Tube 4...   \n29997          Princes                          Princes Gooseberries 300g   \n29998       Create Ion  Create Ion Grace 3/4 Inches Straight Hair Iron...   \n29999     Takuminowaza  Green Bell Takuminowaza Two Way Ear Pick Brass...   \n\n                                             description  \\\n0       We aim to show you accurate product informati...   \n1       We aim to show you accurate product informati...   \n2       We aim to show you accurate product informati...   \n3       We aim to show you accurate product informati...   \n4       We aim to show you accurate product informati...   \n...                                                  ...   \n29994   We aim to show you accurate product informati...   \n29996   We aim to show you accurate product informati...   \n29997   We aim to show you accurate product informati...   \n29998   We aim to show you accurate product informati...   \n29999   We aim to show you accurate product informati...   \n\n                                            category_raw  price_raw  \\\n0      Food | Meal Solutions, Grains & Pasta | Canned...      31.93   \n1      Health | Equate | Equate Allergy | Equate Sinu...      10.48   \n2      Electronics | Smart Home | Smart Energy and Li...      10.99   \n3      Sports & Outdoors | Bikes | Bike Accessories |...      38.59   \n4      Baby | Feeding | Sippy Cups: Alternatives to P...       5.81   \n...                                                  ...        ...   \n29994  Food | Snacks, Cookies & Chips | Chips & Crisp...      45.99   \n29996  Sports & Outdoors | Bikes | Bike Components | ...      33.25   \n29997  Food | Meal Solutions, Grains & Pasta | Canned...       8.88   \n29998  Beauty | Hair Care | Hair Styling Tools | Flat...      50.00   \n29999  Beauty | Here for Every Beauty | Featured Shop...       6.00   \n\n       discount_raw  labels  \n0             31.93       4  \n1             10.48       1  \n2             10.99       1  \n3             38.59       5  \n4              5.81       0  \n...             ...     ...  \n29994         45.99       7  \n29996         33.25       4  \n29997          8.88       0  \n29998         24.50       7  \n29999          4.20       0  \n\n[29602 rows x 7 columns]",
      "text/html": "<div>\n<style scoped>\n    .dataframe tbody tr th:only-of-type {\n        vertical-align: middle;\n    }\n\n    .dataframe tbody tr th {\n        vertical-align: top;\n    }\n\n    .dataframe thead th {\n        text-align: right;\n    }\n</style>\n<table border=\"1\" class=\"dataframe\">\n  <thead>\n    <tr style=\"text-align: right;\">\n      <th></th>\n      <th>brand</th>\n      <th>name</th>\n      <th>description</th>\n      <th>category_raw</th>\n      <th>price_raw</th>\n      <th>discount_raw</th>\n      <th>labels</th>\n    </tr>\n  </thead>\n  <tbody>\n    <tr>\n      <th>0</th>\n      <td>La Costeï¿½ï¿½a</td>\n      <td>La Costena Chipotle Peppers, 7 OZ (Pack of 12)</td>\n      <td>We aim to show you accurate product informati...</td>\n      <td>Food | Meal Solutions, Grains &amp; Pasta | Canned...</td>\n      <td>31.93</td>\n      <td>31.93</td>\n      <td>4</td>\n    </tr>\n    <tr>\n      <th>1</th>\n      <td>Equate</td>\n      <td>Equate Triamcinolone Acetonide Nasal Allergy S...</td>\n      <td>We aim to show you accurate product informati...</td>\n      <td>Health | Equate | Equate Allergy | Equate Sinu...</td>\n      <td>10.48</td>\n      <td>10.48</td>\n      <td>1</td>\n    </tr>\n    <tr>\n      <th>2</th>\n      <td>AduroSmart ERIA</td>\n      <td>AduroSmart ERIA Soft White Smart A19 Light Bul...</td>\n      <td>We aim to show you accurate product informati...</td>\n      <td>Electronics | Smart Home | Smart Energy and Li...</td>\n      <td>10.99</td>\n      <td>10.99</td>\n      <td>1</td>\n    </tr>\n    <tr>\n      <th>3</th>\n      <td>lowrider</td>\n      <td>24\" Classic Adjustable Balloon Fender Set Chro...</td>\n      <td>We aim to show you accurate product informati...</td>\n      <td>Sports &amp; Outdoors | Bikes | Bike Accessories |...</td>\n      <td>38.59</td>\n      <td>38.59</td>\n      <td>5</td>\n    </tr>\n    <tr>\n      <th>4</th>\n      <td>Anself</td>\n      <td>Elephant Shape Silicone Drinkware Portable Sil...</td>\n      <td>We aim to show you accurate product informati...</td>\n      <td>Baby | Feeding | Sippy Cups: Alternatives to P...</td>\n      <td>5.81</td>\n      <td>5.81</td>\n      <td>0</td>\n    </tr>\n    <tr>\n      <th>...</th>\n      <td>...</td>\n      <td>...</td>\n      <td>...</td>\n      <td>...</td>\n      <td>...</td>\n      <td>...</td>\n      <td>...</td>\n    </tr>\n    <tr>\n      <th>29994</th>\n      <td>NineChef</td>\n      <td>Sheng Xiang Zhen (ShengXiangZhen) Snack + OneN...</td>\n      <td>We aim to show you accurate product informati...</td>\n      <td>Food | Snacks, Cookies &amp; Chips | Chips &amp; Crisp...</td>\n      <td>45.99</td>\n      <td>45.99</td>\n      <td>7</td>\n    </tr>\n    <tr>\n      <th>29996</th>\n      <td>Shock Sox</td>\n      <td>Shock Sox Fork Seal Guards 29-36mm Fork Tube 4...</td>\n      <td>We aim to show you accurate product informati...</td>\n      <td>Sports &amp; Outdoors | Bikes | Bike Components | ...</td>\n      <td>33.25</td>\n      <td>33.25</td>\n      <td>4</td>\n    </tr>\n    <tr>\n      <th>29997</th>\n      <td>Princes</td>\n      <td>Princes Gooseberries 300g</td>\n      <td>We aim to show you accurate product informati...</td>\n      <td>Food | Meal Solutions, Grains &amp; Pasta | Canned...</td>\n      <td>8.88</td>\n      <td>8.88</td>\n      <td>0</td>\n    </tr>\n    <tr>\n      <th>29998</th>\n      <td>Create Ion</td>\n      <td>Create Ion Grace 3/4 Inches Straight Hair Iron...</td>\n      <td>We aim to show you accurate product informati...</td>\n      <td>Beauty | Hair Care | Hair Styling Tools | Flat...</td>\n      <td>50.00</td>\n      <td>24.50</td>\n      <td>7</td>\n    </tr>\n    <tr>\n      <th>29999</th>\n      <td>Takuminowaza</td>\n      <td>Green Bell Takuminowaza Two Way Ear Pick Brass...</td>\n      <td>We aim to show you accurate product informati...</td>\n      <td>Beauty | Here for Every Beauty | Featured Shop...</td>\n      <td>6.00</td>\n      <td>4.20</td>\n      <td>0</td>\n    </tr>\n  </tbody>\n</table>\n<p>29602 rows × 7 columns</p>\n</div>"
     },
     "metadata": {},
     "output_type": "display_data"
    },
    {
     "data": {
      "text/plain": "                 brand                                               name  \\\n0      La Costeï¿½ï¿½a     La Costena Chipotle Peppers, 7 OZ (Pack of 12)   \n1               Equate  Equate Triamcinolone Acetonide Nasal Allergy S...   \n2      AduroSmart ERIA  AduroSmart ERIA Soft White Smart A19 Light Bul...   \n3             lowrider  24\" Classic Adjustable Balloon Fender Set Chro...   \n4               Anself  Elephant Shape Silicone Drinkware Portable Sil...   \n...                ...                                                ...   \n29994         NineChef  Sheng Xiang Zhen (ShengXiangZhen) Snack + OneN...   \n29996        Shock Sox  Shock Sox Fork Seal Guards 29-36mm Fork Tube 4...   \n29997          Princes                          Princes Gooseberries 300g   \n29998       Create Ion  Create Ion Grace 3/4 Inches Straight Hair Iron...   \n29999     Takuminowaza  Green Bell Takuminowaza Two Way Ear Pick Brass...   \n\n                                             description  \\\n0       We aim to show you accurate product informati...   \n1       We aim to show you accurate product informati...   \n2       We aim to show you accurate product informati...   \n3       We aim to show you accurate product informati...   \n4       We aim to show you accurate product informati...   \n...                                                  ...   \n29994   We aim to show you accurate product informati...   \n29996   We aim to show you accurate product informati...   \n29997   We aim to show you accurate product informati...   \n29998   We aim to show you accurate product informati...   \n29999   We aim to show you accurate product informati...   \n\n                                            category_raw  price_raw  \\\n0      Food | Meal Solutions, Grains & Pasta | Canned...      31.93   \n1      Health | Equate | Equate Allergy | Equate Sinu...      10.48   \n2      Electronics | Smart Home | Smart Energy and Li...      10.99   \n3      Sports & Outdoors | Bikes | Bike Accessories |...      38.59   \n4      Baby | Feeding | Sippy Cups: Alternatives to P...       5.81   \n...                                                  ...        ...   \n29994  Food | Snacks, Cookies & Chips | Chips & Crisp...      45.99   \n29996  Sports & Outdoors | Bikes | Bike Components | ...      33.25   \n29997  Food | Meal Solutions, Grains & Pasta | Canned...       8.88   \n29998  Beauty | Hair Care | Hair Styling Tools | Flat...      50.00   \n29999  Beauty | Here for Every Beauty | Featured Shop...       6.00   \n\n       discount_raw  labels                                       cleaned_name  \n0             31.93       4                  la costena chipotl pepper oz pack  \n1             10.48       1  equat triamcinolon acetonid nasal allergi spra...  \n2             10.99       1  adurosmart eria soft white smart a light bulb ...  \n3             38.59       5  classic adjust balloon fender set chrome bicyc...  \n4              5.81       0  eleph shape silicon drinkwar portabl silicon c...  \n...             ...     ...                                                ...  \n29994         45.99       7  sheng xiang zhen shengxiangzhen snack onenin c...  \n29996         33.25       4  shock sox fork seal guard mm fork tube green y...  \n29997          8.88       0                                 princ gooseberri g  \n29998         24.50       7       creat ion grace inch straight hair iron ci r  \n29999          4.20       0  green bell takuminowaza two way ear pick brass...  \n\n[29602 rows x 8 columns]",
      "text/html": "<div>\n<style scoped>\n    .dataframe tbody tr th:only-of-type {\n        vertical-align: middle;\n    }\n\n    .dataframe tbody tr th {\n        vertical-align: top;\n    }\n\n    .dataframe thead th {\n        text-align: right;\n    }\n</style>\n<table border=\"1\" class=\"dataframe\">\n  <thead>\n    <tr style=\"text-align: right;\">\n      <th></th>\n      <th>brand</th>\n      <th>name</th>\n      <th>description</th>\n      <th>category_raw</th>\n      <th>price_raw</th>\n      <th>discount_raw</th>\n      <th>labels</th>\n      <th>cleaned_name</th>\n    </tr>\n  </thead>\n  <tbody>\n    <tr>\n      <th>0</th>\n      <td>La Costeï¿½ï¿½a</td>\n      <td>La Costena Chipotle Peppers, 7 OZ (Pack of 12)</td>\n      <td>We aim to show you accurate product informati...</td>\n      <td>Food | Meal Solutions, Grains &amp; Pasta | Canned...</td>\n      <td>31.93</td>\n      <td>31.93</td>\n      <td>4</td>\n      <td>la costena chipotl pepper oz pack</td>\n    </tr>\n    <tr>\n      <th>1</th>\n      <td>Equate</td>\n      <td>Equate Triamcinolone Acetonide Nasal Allergy S...</td>\n      <td>We aim to show you accurate product informati...</td>\n      <td>Health | Equate | Equate Allergy | Equate Sinu...</td>\n      <td>10.48</td>\n      <td>10.48</td>\n      <td>1</td>\n      <td>equat triamcinolon acetonid nasal allergi spra...</td>\n    </tr>\n    <tr>\n      <th>2</th>\n      <td>AduroSmart ERIA</td>\n      <td>AduroSmart ERIA Soft White Smart A19 Light Bul...</td>\n      <td>We aim to show you accurate product informati...</td>\n      <td>Electronics | Smart Home | Smart Energy and Li...</td>\n      <td>10.99</td>\n      <td>10.99</td>\n      <td>1</td>\n      <td>adurosmart eria soft white smart a light bulb ...</td>\n    </tr>\n    <tr>\n      <th>3</th>\n      <td>lowrider</td>\n      <td>24\" Classic Adjustable Balloon Fender Set Chro...</td>\n      <td>We aim to show you accurate product informati...</td>\n      <td>Sports &amp; Outdoors | Bikes | Bike Accessories |...</td>\n      <td>38.59</td>\n      <td>38.59</td>\n      <td>5</td>\n      <td>classic adjust balloon fender set chrome bicyc...</td>\n    </tr>\n    <tr>\n      <th>4</th>\n      <td>Anself</td>\n      <td>Elephant Shape Silicone Drinkware Portable Sil...</td>\n      <td>We aim to show you accurate product informati...</td>\n      <td>Baby | Feeding | Sippy Cups: Alternatives to P...</td>\n      <td>5.81</td>\n      <td>5.81</td>\n      <td>0</td>\n      <td>eleph shape silicon drinkwar portabl silicon c...</td>\n    </tr>\n    <tr>\n      <th>...</th>\n      <td>...</td>\n      <td>...</td>\n      <td>...</td>\n      <td>...</td>\n      <td>...</td>\n      <td>...</td>\n      <td>...</td>\n      <td>...</td>\n    </tr>\n    <tr>\n      <th>29994</th>\n      <td>NineChef</td>\n      <td>Sheng Xiang Zhen (ShengXiangZhen) Snack + OneN...</td>\n      <td>We aim to show you accurate product informati...</td>\n      <td>Food | Snacks, Cookies &amp; Chips | Chips &amp; Crisp...</td>\n      <td>45.99</td>\n      <td>45.99</td>\n      <td>7</td>\n      <td>sheng xiang zhen shengxiangzhen snack onenin c...</td>\n    </tr>\n    <tr>\n      <th>29996</th>\n      <td>Shock Sox</td>\n      <td>Shock Sox Fork Seal Guards 29-36mm Fork Tube 4...</td>\n      <td>We aim to show you accurate product informati...</td>\n      <td>Sports &amp; Outdoors | Bikes | Bike Components | ...</td>\n      <td>33.25</td>\n      <td>33.25</td>\n      <td>4</td>\n      <td>shock sox fork seal guard mm fork tube green y...</td>\n    </tr>\n    <tr>\n      <th>29997</th>\n      <td>Princes</td>\n      <td>Princes Gooseberries 300g</td>\n      <td>We aim to show you accurate product informati...</td>\n      <td>Food | Meal Solutions, Grains &amp; Pasta | Canned...</td>\n      <td>8.88</td>\n      <td>8.88</td>\n      <td>0</td>\n      <td>princ gooseberri g</td>\n    </tr>\n    <tr>\n      <th>29998</th>\n      <td>Create Ion</td>\n      <td>Create Ion Grace 3/4 Inches Straight Hair Iron...</td>\n      <td>We aim to show you accurate product informati...</td>\n      <td>Beauty | Hair Care | Hair Styling Tools | Flat...</td>\n      <td>50.00</td>\n      <td>24.50</td>\n      <td>7</td>\n      <td>creat ion grace inch straight hair iron ci r</td>\n    </tr>\n    <tr>\n      <th>29999</th>\n      <td>Takuminowaza</td>\n      <td>Green Bell Takuminowaza Two Way Ear Pick Brass...</td>\n      <td>We aim to show you accurate product informati...</td>\n      <td>Beauty | Here for Every Beauty | Featured Shop...</td>\n      <td>6.00</td>\n      <td>4.20</td>\n      <td>0</td>\n      <td>green bell takuminowaza two way ear pick brass...</td>\n    </tr>\n  </tbody>\n</table>\n<p>29602 rows × 8 columns</p>\n</div>"
     },
     "metadata": {},
     "output_type": "display_data"
    },
    {
     "data": {
      "text/plain": "(29602, 11892)"
     },
     "metadata": {},
     "output_type": "execute_result",
     "execution_count": 22
    }
   ],
   "source": [
    "import pandas as pd\n",
    "import re\n",
    "import numpy as np\n",
    "import nltk\n",
    "nltk.download('stopwords')\n",
    "from nltk.corpus import stopwords\n",
    "from nltk.stem import PorterStemmer\n",
    "from sklearn.feature_extraction.text import TfidfVectorizer\n",
    "from sklearn.pipeline import Pipeline\n",
    "from sklearn.metrics import classification_report, confusion_matrix\n",
    "from sklearn.model_selection import train_test_split\n",
    "from sklearn.feature_selection import SelectKBest, chi2\n",
    "\n",
    "from sklearn.ensemble import RandomForestClassifier\n",
    "from sklearn.neighbors import KNeighborsClassifier\n",
    "import pickle\n",
    "\n",
    "stemmer = PorterStemmer()\n",
    "words = stopwords.words(\"english\")\n",
    "\n",
    "df = pd.read_csv('../data/interim/ecommerce_data-cleaned-0.2.3.csv', index_col=0)\n",
    "\n",
    "def get_range_label(price):\n",
    "    value = np.round(price, decimals=1)\n",
    "    if value <= 10:\n",
    "        return 0\n",
    "    elif 10 < value <= 20:\n",
    "        return 1\n",
    "    elif 20 < value <= 25:\n",
    "        return 2\n",
    "    elif 25 < value <= 30:\n",
    "        return 3\n",
    "    elif 30 < value <= 35:\n",
    "        return 4\n",
    "    elif 35 < value <= 40:\n",
    "        return 5\n",
    "    elif 40 < value <= 45:\n",
    "        return 6\n",
    "    elif 45 < value <= 50:\n",
    "        return 7\n",
    "    elif 50 < value <= 100:\n",
    "        return 8\n",
    "    else:\n",
    "        return 9\n",
    "\n",
    "df['labels'] = df['price_raw'].apply(lambda x: get_range_label(x))\n",
    "display(df)\n",
    "\n",
    "# df[cleaned_description] = df['description'].apply(lambda x: \" \".join([stemmer.stem(i) \n",
    "#                                                                     for i in re.sub(\"[^a-zA-Z]\", \" \", x).split() \n",
    "#                                                                     if i not in words]).lower())\n",
    "df['cleaned_name'] = df.name.apply(lambda x: \" \".join([stemmer.stem(i) for i in re.sub(\"[^a-zA-Z]\", \" \", x).split() if i not in words]).lower())\n",
    "# df.head()\n",
    "display(df)\n",
    "\n",
    "vectorizer = TfidfVectorizer(min_df= 5, stop_words=\"english\", sublinear_tf=True, norm='l2', ngram_range=(1, 2))\n",
    "final_features = vectorizer.fit_transform(df['cleaned_name']).toarray()\n",
    "final_features.shape"
   ]
  },
  {
   "cell_type": "markdown",
   "source": [
    "## 1.2.3 - Creating RF Classifier \n",
    "\n",
    "Now that we have cleaned and encoded our data set, we can split the data into testing and training data sets and build \n",
    "classifiers for KNN and Random Forest.\n",
    "\n",
    "Below we have created the RF classifier using the scikit-learn package and saved the model for future use using pickle."
   ],
   "metadata": {
    "collapsed": false,
    "pycharm": {
     "name": "#%% md\n"
    }
   }
  },
  {
   "cell_type": "code",
   "execution_count": 23,
   "metadata": {
    "pycharm": {
     "is_executing": false
    }
   },
   "outputs": [
    {
     "name": "stdout",
     "text": [
      "              precision    recall  f1-score   support\n\n           0       0.46      0.47      0.46      1626\n           1       0.36      0.49      0.42      1978\n           2       0.16      0.13      0.14       589\n           3       0.17      0.13      0.15       476\n           4       0.14      0.08      0.11       354\n           5       0.16      0.13      0.14       312\n           6       0.19      0.10      0.13       221\n           7       0.08      0.06      0.07       188\n           8       0.32      0.28      0.30       866\n           9       0.51      0.47      0.49       791\n\n    accuracy                           0.35      7401\n   macro avg       0.26      0.24      0.24      7401\nweighted avg       0.33      0.35      0.34      7401\n\n",
      "[[764 565  61  46  30  32  12  16  62  38]\n [461 970 123  89  49  54  29  21 108  74]\n [110 255  75  36  17  17   5   7  45  22]\n [ 66 186  28  63  11  20  11  10  59  22]\n [ 51 111  37  29  30  17   3  13  36  27]\n [ 42 101  21  12  12  41  10   7  41  25]\n [ 27  61  19  13   8  13  23  10  27  20]\n [ 22  67  13   7  11   8   2  11  27  20]\n [ 84 217  54  48  27  36  15  25 242 118]\n [ 36 145  38  27  15  20  10  11 114 375]]\n"
     ],
     "output_type": "stream"
    }
   ],
   "source": [
    "from sklearn.pipeline import Pipeline\n",
    "from sklearn.compose import ColumnTransformer\n",
    "from sklearn.feature_selection import SelectKBest, chi2\n",
    "from sklearn.feature_extraction.text import TfidfVectorizer\n",
    "\n",
    "data_uri = '../data/interim/ecommerce_data-cleaned-0.2.3.csv'\n",
    "products_raw = pd.read_csv(data_uri, index_col=0)\n",
    "\n",
    "words = stopwords.words(\"english\")\n",
    "stemmer = PorterStemmer()\n",
    "def clean_text(feature):\n",
    "    return \" \".join([stemmer.stem(i) for i in regex.sub(\"[^a-zA-Z0-9]\", \" \", feature).split() if i not in words]).lower()\n",
    "\n",
    "\n",
    "products = products_raw.copy() #.iloc[:,].copy()\n",
    "products['name'] = products.name.fillna(\"\").apply(clean_text)\n",
    "products['brand'] = products.brand.fillna(\"\").apply(clean_text)\n",
    "products['description'] = products.description.fillna(\"\").apply(clean_text)\n",
    "products['category_raw'] = products.category_raw.fillna(\"\")\n",
    "display(products)\n",
    "\n",
    "from sklearn.model_selection import train_test_split\n",
    "from sklearn.preprocessing import LabelEncoder\n",
    "\n",
    "X = products.loc[:,'brand':'category_raw']\n",
    "Y = products['labels']\n",
    "X_train_RF, X_test_RF, y_train_RF, y_test_RF = train_test_split(X, Y, test_size=0.25)\n",
    "\n",
    "\n",
    "from sklearn.pipeline import Pipeline\n",
    "from sklearn.compose import ColumnTransformer\n",
    "from sklearn.feature_selection import SelectKBest, chi2\n",
    "from sklearn.feature_extraction.text import TfidfVectorizer\n",
    "\n",
    "vectorizer = TfidfVectorizer(stop_words=\"english\", sublinear_tf=True, norm='l2')\n",
    "column_transformer = ColumnTransformer([('name', vectorizer, 'name'),\n",
    "                                        ('description', vectorizer, 'description'),\n",
    "                                        ('brand', vectorizer, 'brand'),\n",
    "                                        ('category_raw', vectorizer, 'category_raw'),\n",
    "                                       ], remainder='drop', verbose_feature_names_out=False)\n",
    "\n",
    "\n",
    "pipeline_RF = Pipeline([('vect', vectorizer),\n",
    "                     ('chi',  SelectKBest(chi2, k=1200)),\n",
    "                     ('clf', RandomForestClassifier())])\n",
    "\n",
    "modelRF = pipeline_RF.fit(X_train_RF, y_train_RF)\n",
    "with open('RandomForest.pickle', 'wb') as f:\n",
    "    pickle.dump(modelRF, f)\n",
    "    \n",
    "ytest_RF = np.array(y_test_RF)\n",
    "\n",
    "print(classification_report(ytest_RF, modelRF.predict(X_test_RF)))\n",
    "print(confusion_matrix(ytest_RF, modelRF.predict(X_test_RF)))"
   ]
  },
  {
   "cell_type": "markdown",
   "source": [
    "## 1.2.4 -  Performing PCA"
   ],
   "metadata": {
    "collapsed": false,
    "pycharm": {
     "name": "#%% md\n"
    }
   }
  },
  {
   "cell_type": "code",
   "execution_count": 5,
   "outputs": [
    {
     "data": {
      "text/plain": "'X train: (1125, 8)'"
     },
     "metadata": {},
     "output_type": "display_data"
    },
    {
     "data": {
      "text/plain": "'y train: (1125,)'"
     },
     "metadata": {},
     "output_type": "display_data"
    },
    {
     "data": {
      "text/plain": "'X test: (375, 8)'"
     },
     "metadata": {},
     "output_type": "display_data"
    },
    {
     "data": {
      "text/plain": "'y test: (375,)'"
     },
     "metadata": {},
     "output_type": "display_data"
    },
    {
     "data": {
      "text/plain": "                  brand                                               name  \\\n0             trend lab                trend lab grace 5 piec crib bed set   \n1              air wick  air wick pumpkin spice freshmat ultra automat ...   \n2          countri life  countri life coenzym b complex cap 60 vegan ca...   \n3       accessori avenu  soccer sport ball collag holder pouch gold silver   \n4         master massag                           mar sport treatment tabl   \n...                 ...                                                ...   \n1495             bioton  bioton fig vanilla perfect grain bodi exfoli 1...   \n1496         philip hue  philip hue white ambianc e12 smart light cande...   \n1497      american crew      american crew firm hold style gel tube 8 4 oz   \n1498           mckesson  mckesson brand adult absorb underwear mckesson...   \n1499  lifelin first aid     lifelin 400 lb rubber grip olymp plate set bar   \n\n                                            description         category_1  \\\n0     we aim show accur product inform manufactur su...               babi   \n1     we aim show accur product inform manufactur su...  household essenti   \n2     we aim show accur product inform manufactur su...             health   \n3     we aim show accur product inform manufactur su...      sport outdoor   \n4     we aim show accur product inform manufactur su...      sport outdoor   \n...                                                 ...                ...   \n1495  we aim show accur product inform manufactur su...        person care   \n1496  we aim show accur product inform manufactur su...           electron   \n1497  we aim show accur product inform manufactur su...             beauti   \n1498  we aim show accur product inform manufactur su...        person care   \n1499  we aim show accur product inform manufactur su...      sport outdoor   \n\n                 category_2                           category_3  \\\n0             nurseri decor                             babi bed   \n1               air freshen  air wick freshmat spray air freshen   \n2        vitamin supplement                       letter vitamin   \n3                     sport                               soccer   \n4               exercis fit                exercis fit accessori   \n...                     ...                                  ...   \n1495              bath bodi                    bodi scrub exfoli   \n1496             smart home                   smart energi light   \n1497  halloween makeup hair                best halloween makeup   \n1498               incontin                         all incontin   \n1499            exercis fit                       strength train   \n\n                           keywords  price_range  \n0     crib bed set all crib bed set    (50, 100]  \n1                           unknown      (0, 25]  \n2                         vitamin b      (0, 25]  \n3                       soccer ball      (0, 25]  \n4         all exercis fit accessori  (100, 100+]  \n...                             ...          ...  \n1495                        unknown      (0, 25]  \n1496   smart light smart light bulb     (25, 50]  \n1497                        unknown      (0, 25]  \n1498                        unknown     (25, 50]  \n1499            weight weight plate  (100, 100+]  \n\n[1500 rows x 8 columns]",
      "text/html": "<div>\n<style scoped>\n    .dataframe tbody tr th:only-of-type {\n        vertical-align: middle;\n    }\n\n    .dataframe tbody tr th {\n        vertical-align: top;\n    }\n\n    .dataframe thead th {\n        text-align: right;\n    }\n</style>\n<table border=\"1\" class=\"dataframe\">\n  <thead>\n    <tr style=\"text-align: right;\">\n      <th></th>\n      <th>brand</th>\n      <th>name</th>\n      <th>description</th>\n      <th>category_1</th>\n      <th>category_2</th>\n      <th>category_3</th>\n      <th>keywords</th>\n      <th>price_range</th>\n    </tr>\n  </thead>\n  <tbody>\n    <tr>\n      <th>0</th>\n      <td>trend lab</td>\n      <td>trend lab grace 5 piec crib bed set</td>\n      <td>we aim show accur product inform manufactur su...</td>\n      <td>babi</td>\n      <td>nurseri decor</td>\n      <td>babi bed</td>\n      <td>crib bed set all crib bed set</td>\n      <td>(50, 100]</td>\n    </tr>\n    <tr>\n      <th>1</th>\n      <td>air wick</td>\n      <td>air wick pumpkin spice freshmat ultra automat ...</td>\n      <td>we aim show accur product inform manufactur su...</td>\n      <td>household essenti</td>\n      <td>air freshen</td>\n      <td>air wick freshmat spray air freshen</td>\n      <td>unknown</td>\n      <td>(0, 25]</td>\n    </tr>\n    <tr>\n      <th>2</th>\n      <td>countri life</td>\n      <td>countri life coenzym b complex cap 60 vegan ca...</td>\n      <td>we aim show accur product inform manufactur su...</td>\n      <td>health</td>\n      <td>vitamin supplement</td>\n      <td>letter vitamin</td>\n      <td>vitamin b</td>\n      <td>(0, 25]</td>\n    </tr>\n    <tr>\n      <th>3</th>\n      <td>accessori avenu</td>\n      <td>soccer sport ball collag holder pouch gold silver</td>\n      <td>we aim show accur product inform manufactur su...</td>\n      <td>sport outdoor</td>\n      <td>sport</td>\n      <td>soccer</td>\n      <td>soccer ball</td>\n      <td>(0, 25]</td>\n    </tr>\n    <tr>\n      <th>4</th>\n      <td>master massag</td>\n      <td>mar sport treatment tabl</td>\n      <td>we aim show accur product inform manufactur su...</td>\n      <td>sport outdoor</td>\n      <td>exercis fit</td>\n      <td>exercis fit accessori</td>\n      <td>all exercis fit accessori</td>\n      <td>(100, 100+]</td>\n    </tr>\n    <tr>\n      <th>...</th>\n      <td>...</td>\n      <td>...</td>\n      <td>...</td>\n      <td>...</td>\n      <td>...</td>\n      <td>...</td>\n      <td>...</td>\n      <td>...</td>\n    </tr>\n    <tr>\n      <th>1495</th>\n      <td>bioton</td>\n      <td>bioton fig vanilla perfect grain bodi exfoli 1...</td>\n      <td>we aim show accur product inform manufactur su...</td>\n      <td>person care</td>\n      <td>bath bodi</td>\n      <td>bodi scrub exfoli</td>\n      <td>unknown</td>\n      <td>(0, 25]</td>\n    </tr>\n    <tr>\n      <th>1496</th>\n      <td>philip hue</td>\n      <td>philip hue white ambianc e12 smart light cande...</td>\n      <td>we aim show accur product inform manufactur su...</td>\n      <td>electron</td>\n      <td>smart home</td>\n      <td>smart energi light</td>\n      <td>smart light smart light bulb</td>\n      <td>(25, 50]</td>\n    </tr>\n    <tr>\n      <th>1497</th>\n      <td>american crew</td>\n      <td>american crew firm hold style gel tube 8 4 oz</td>\n      <td>we aim show accur product inform manufactur su...</td>\n      <td>beauti</td>\n      <td>halloween makeup hair</td>\n      <td>best halloween makeup</td>\n      <td>unknown</td>\n      <td>(0, 25]</td>\n    </tr>\n    <tr>\n      <th>1498</th>\n      <td>mckesson</td>\n      <td>mckesson brand adult absorb underwear mckesson...</td>\n      <td>we aim show accur product inform manufactur su...</td>\n      <td>person care</td>\n      <td>incontin</td>\n      <td>all incontin</td>\n      <td>unknown</td>\n      <td>(25, 50]</td>\n    </tr>\n    <tr>\n      <th>1499</th>\n      <td>lifelin first aid</td>\n      <td>lifelin 400 lb rubber grip olymp plate set bar</td>\n      <td>we aim show accur product inform manufactur su...</td>\n      <td>sport outdoor</td>\n      <td>exercis fit</td>\n      <td>strength train</td>\n      <td>weight weight plate</td>\n      <td>(100, 100+]</td>\n    </tr>\n  </tbody>\n</table>\n<p>1500 rows × 8 columns</p>\n</div>"
     },
     "metadata": {},
     "output_type": "display_data"
    },
    {
     "data": {
      "text/plain": "0        96\n1         4\n2        14\n3        21\n4       439\n       ... \n1495     24\n1496     29\n1497     13\n1498     36\n1499    814\nName: price_raw, Length: 1500, dtype: int64"
     },
     "metadata": {},
     "output_type": "display_data"
    }
   ],
   "source": [
    "import pandas as pd\n",
    "import numpy as np\n",
    "import matplotlib.pyplot as plt\n",
    "from IPython.core.display import display\n",
    "data_uri = '../data/interim/ecommerce_data-cleaned-0.1.4.csv'\n",
    "# data_uri = '../data/interim/ecommerce_data-cleaned-0.2.2.csv'\n",
    "products_raw = pd.read_csv(data_uri, index_col=0, keep_default_na=False)\n",
    "products_raw.head()\n",
    "\n",
    "# products_raw = products_raw.head(1500)\n",
    "# Getting a stratified sample of 1500 products:\n",
    "N = 1500\n",
    "products_raw = products_raw.groupby('price_range', group_keys=False).apply(lambda x: x.sample(int(np.rint(N*len(x)/len(products_raw))))).sample(frac=1).reset_index(drop=True)\n",
    "products_raw.head()\n",
    "\n",
    "\n",
    "# Get the stopwords.\n",
    "from nltk.corpus import stopwords\n",
    "from nltk.stem import PorterStemmer\n",
    "# import regex\n",
    "\n",
    "# Setup function for cleaning text fields of stop words.\n",
    "# words = stopwords.words(\"english\")\n",
    "# stemmer = PorterStemmer()\n",
    "# def clean_text(feature):\n",
    "#     return \" \".join([stemmer.stem(i) for i in regex.sub(\"[^a-zA-Z0-9]\", \" \", feature).split() if i not in words]).lower()\n",
    "# # Clean the brand, name, and description fields.\n",
    "# products = products_raw.copy() #.iloc[:,].copy()\n",
    "# products['name'] = products.name.fillna(\"\").apply(clean_text)\n",
    "# products['brand'] = products.brand.fillna(\"\").apply(clean_text)\n",
    "# products['description'] = products.description.fillna(\"\").apply(clean_text)\n",
    "# products['category_raw'] = products.category_raw.fillna(\"\")\n",
    "# display(products)\n",
    "\n",
    "# Prepare the train/test splits.\n",
    "from sklearn.model_selection import train_test_split\n",
    "from sklearn.preprocessing import LabelEncoder\n",
    "\n",
    "# Split data into features and labels:\n",
    "# X = products.loc[:,'brand':'category_raw']\n",
    "X = products_raw.drop(columns=['price_raw', 'discount_raw'])\n",
    "y = products_raw['price_raw'].astype('int')\n",
    "\n",
    "# Encode labels.\n",
    "# le = LabelEncoder()\n",
    "# le.fit(products.loc[:,'price_range'].unique())\n",
    "# y = le.transform(products.loc[:,'price_range'])\n",
    "# X_train, X_test, y_train, y_test = train_test_split(X, y, test_size = 0.25, random_state=100)\n",
    "X_train, X_test, y_train, y_test = train_test_split(X, y, test_size = 0.25)\n",
    "\n",
    "\n",
    "# Split into the train test splits.\n",
    "# X_train, X_test, y_train, y_test = train_test_split(X, y, test_size=0.25)\n",
    "display(f\"X train: {X_train.shape}\")\n",
    "display(f\"y train: {y_train.shape}\")\n",
    "display(f\"X test: {X_test.shape}\")\n",
    "display(f\"y test: {y_test.shape}\")\n",
    "display(X,y)\n",
    "# display(le.inverse_transform(y_test))"
   ],
   "metadata": {
    "collapsed": false,
    "pycharm": {
     "name": "#%%\n",
     "is_executing": false
    }
   }
  },
  {
   "cell_type": "code",
   "execution_count": 6,
   "outputs": [
    {
     "name": "stderr",
     "text": [
      "/Users/sheenambhatia/venv/lib/python3.7/site-packages/sklearn/model_selection/_split.py:680: UserWarning: The least populated class in y has only 1 members, which is less than n_splits=5.\n  UserWarning,\n"
     ],
     "output_type": "stream"
    },
    {
     "name": "stdout",
     "text": [
      "Classification score: 4.0%\n"
     ],
     "output_type": "stream"
    }
   ],
   "source": [
    "# Prepare the pipeline.\n",
    "from sklearn.pipeline import Pipeline\n",
    "from sklearn.compose import ColumnTransformer\n",
    "from sklearn.decomposition import PCA, TruncatedSVD, DictionaryLearning, LatentDirichletAllocation\n",
    "from sklearn.model_selection import GridSearchCV\n",
    "from sklearn.feature_selection import SelectKBest, chi2\n",
    "from sklearn.feature_extraction.text import TfidfVectorizer\n",
    "\n",
    "def get_feature_transformer(columns, vectorizer):\n",
    "    return ColumnTransformer([(feature, vectorizer, feature) for feature in columns], remainder='drop', verbose_feature_names_out=True)\n",
    "\n",
    "vectorizer = TfidfVectorizer(stop_words=\"english\", sublinear_tf=True, norm='l2')\n",
    "\n",
    "column_transformer = get_feature_transformer(['brand', 'name', 'description', 'category_1', 'category_2', 'category_3', 'keywords'], vectorizer)\n",
    "\n",
    "from sklearn.metrics import classification_report, confusion_matrix\n",
    "def show_metrics(clf, test_X, test_y):\n",
    "    print(f'Classification score: {clf.score(test_X, test_y) * 100}%')\n",
    "    # print(classification_report(np.array(test_y), clf.predict(test_X), zero_division=0))\n",
    "    # print(confusion_matrix(np.array(test_y), clf.predict(test_X)))\n",
    "    \n",
    "from sklearn.ensemble import RandomForestClassifier\n",
    "\n",
    "def get_pipeline():\n",
    "    \"\"\"Get the composed Pipeline\"\"\"\n",
    "    return Pipeline([\n",
    "        (\"vect\", column_transformer),\n",
    "        (\"dim\", \"passthrough\"),\n",
    "        (\"clf\", RandomForestClassifier())\n",
    "    ])\n",
    "\n",
    "N_FEATURES = [2, 4, 10]\n",
    "# C_OPTIONS = [1, 10, 100, 1000]\n",
    "# \n",
    "def get_param_grid():\n",
    "    return [\n",
    "        {\n",
    "            \"dim\": [TruncatedSVD(n_iter=1), LatentDirichletAllocation(max_iter=1)],\n",
    "            \"dim__n_components\": N_FEATURES,\n",
    "        },\n",
    "        {\n",
    "            \"dim\": [SelectKBest(chi2)],\n",
    "            \"dim__k\": N_FEATURES,\n",
    "        },\n",
    "    ]\n",
    "\n",
    "reducer_labels = [\"TruncatedSVD\", \"LDA\", \"KBest(chi2)\"]\n",
    "\n",
    "# GridSearchCV\n",
    "grid = GridSearchCV(get_pipeline(), n_jobs=1, param_grid=get_param_grid())\n",
    "\n",
    "grid.fit(X_train, y_train)\n",
    "\n",
    "show_metrics(grid, X_test, y_test)\n",
    "\n",
    "mean_scores = np.array(grid.cv_results_[\"mean_test_score\"])\n",
    "\n",
    "# scores are in the order of param_grid iteration, which is alphabetical\n",
    "# mean_scores = mean_scores.reshape(len(C_OPTIONS), -1, len(N_FEATURES))\n",
    "# select score for best C\n",
    "# mean_scores = mean_scores.max(axis=0)\n",
    "# bar_offsets = np.arange(len(N_FEATURES)) * (len(reducer_labels) + 1) + 0.5\n",
    "\n",
    "# plt.figure()\n",
    "# COLORS = \"bgrcmyk\"\n",
    "# for i, (label, reducer_scores) in enumerate(zip(reducer_labels, mean_scores)):\n",
    "#     plt.bar(bar_offsets + i, reducer_scores, label=label, color=COLORS[i])\n",
    "# \n",
    "# plt.title(\"Comparing feature reduction techniques\")\n",
    "# plt.xlabel(\"Reduced number of features\")\n",
    "# plt.xticks(bar_offsets + len(reducer_labels) / 2, N_FEATURES)\n",
    "# plt.ylabel(\"Digit classification accuracy\")\n",
    "# plt.ylim((0, 1))\n",
    "# plt.legend(loc=\"upper left\")\n",
    "# \n",
    "# plt.show()\n",
    "# Metric calculation function:\n"
   ],
   "metadata": {
    "collapsed": false,
    "pycharm": {
     "name": "#%%\n",
     "is_executing": false
    }
   }
  },
  {
   "cell_type": "code",
   "execution_count": 30,
   "outputs": [
    {
     "name": "stdout",
     "text": [
      "Classification score: 10.403999459532494%\n",
      "              precision    recall  f1-score   support\n\n           0       0.50      0.33      0.40         9\n           1       0.22      0.16      0.19        25\n           2       0.17      0.17      0.17        60\n           3       0.20      0.17      0.19        80\n           4       0.17      0.15      0.16       157\n           5       0.13      0.22      0.16       195\n           6       0.11      0.20      0.14       248\n           7       0.12      0.24      0.16       280\n           8       0.09      0.15      0.12       260\n           9       0.08      0.16      0.11       281\n          10       0.08      0.10      0.09       193\n          11       0.11      0.12      0.12       236\n          12       0.05      0.08      0.06       192\n          13       0.10      0.12      0.11       216\n          14       0.12      0.16      0.14       243\n          15       0.05      0.07      0.06       166\n          16       0.07      0.07      0.07       148\n          17       0.05      0.05      0.05       170\n          18       0.10      0.09      0.10       131\n          19       0.09      0.12      0.11       226\n          20       0.07      0.05      0.06       114\n          21       0.12      0.09      0.10       119\n          22       0.04      0.04      0.04       126\n          23       0.01      0.01      0.01        81\n          24       0.09      0.08      0.08       164\n          25       0.06      0.03      0.04       115\n          26       0.05      0.04      0.05        89\n          27       0.11      0.07      0.09       107\n          28       0.09      0.06      0.07        68\n          29       0.09      0.09      0.09       149\n          30       0.04      0.04      0.04        56\n          31       0.13      0.14      0.13        59\n          32       0.19      0.11      0.14        65\n          33       0.14      0.11      0.12        57\n          34       0.11      0.07      0.09       101\n          35       0.15      0.07      0.09        58\n          36       0.06      0.05      0.05        43\n          37       0.08      0.07      0.08        42\n          38       0.11      0.05      0.07        59\n          39       0.17      0.13      0.15        94\n          40       0.08      0.02      0.04        43\n          41       0.05      0.02      0.03        51\n          42       0.39      0.36      0.37        53\n          43       0.06      0.03      0.04        31\n          44       0.14      0.10      0.11        52\n          45       0.00      0.00      0.00        39\n          46       0.23      0.23      0.23        35\n          47       0.00      0.00      0.00        38\n          48       0.08      0.04      0.05        28\n          49       0.11      0.08      0.09        66\n          50       0.00      0.00      0.00        24\n          51       0.20      0.12      0.15        24\n          52       0.15      0.05      0.08        37\n          53       0.00      0.00      0.00        24\n          54       0.20      0.03      0.05        37\n          55       0.00      0.00      0.00        31\n          56       0.12      0.05      0.07        19\n          57       0.00      0.00      0.00        18\n          58       0.11      0.07      0.09        14\n          59       0.07      0.11      0.09        37\n          60       0.00      0.00      0.00        11\n          61       0.00      0.00      0.00        13\n          62       0.00      0.00      0.00        20\n          63       0.33      0.15      0.21        13\n          64       0.31      0.24      0.27        17\n          65       0.00      0.00      0.00        15\n          66       0.17      0.07      0.10        15\n          67       0.11      0.07      0.09        14\n          68       0.00      0.00      0.00        18\n          69       0.17      0.09      0.12        54\n          70       0.20      0.06      0.09        17\n          71       0.18      0.14      0.16        14\n          72       0.17      0.08      0.11        13\n          73       0.12      0.09      0.11        11\n          74       0.00      0.00      0.00        12\n          75       0.12      0.08      0.10        13\n          76       0.15      0.12      0.14        16\n          77       0.33      0.15      0.21        13\n          78       0.20      0.06      0.10        16\n          79       0.20      0.20      0.20        41\n          80       0.60      0.27      0.37        11\n          81       0.00      0.00      0.00         6\n          82       0.00      0.00      0.00        10\n          83       0.00      0.00      0.00        17\n          84       0.00      0.00      0.00        17\n          85       0.00      0.00      0.00        14\n          86       0.00      0.00      0.00         8\n          87       0.00      0.00      0.00        11\n          88       0.00      0.00      0.00         9\n          89       0.05      0.03      0.03        37\n          90       0.00      0.00      0.00        14\n          91       0.00      0.00      0.00         3\n          92       0.00      0.00      0.00         8\n          93       0.17      0.11      0.13         9\n          94       0.00      0.00      0.00         7\n          95       0.00      0.00      0.00         6\n          96       0.00      0.00      0.00         5\n          97       0.00      0.00      0.00         6\n          98       0.27      0.33      0.30         9\n          99       0.11      0.07      0.09        40\n         100       0.00      0.00      0.00         5\n         101       0.00      0.00      0.00         8\n         102       0.00      0.00      0.00         4\n         103       0.00      0.00      0.00         6\n         104       0.00      0.00      0.00        11\n         105       0.20      0.08      0.12        12\n         106       0.00      0.00      0.00         5\n         107       0.00      0.00      0.00         9\n         108       0.00      0.00      0.00         3\n         109       0.33      0.05      0.09        19\n         110       0.00      0.00      0.00         6\n         111       0.00      0.00      0.00         2\n         112       0.00      0.00      0.00         2\n         113       0.00      0.00      0.00         2\n         114       0.00      0.00      0.00         7\n         115       0.00      0.00      0.00         8\n         116       0.25      0.33      0.29         3\n         117       0.00      0.00      0.00         8\n         118       0.00      0.00      0.00         4\n         119       0.12      0.06      0.08        17\n         120       0.00      0.00      0.00         0\n         121       0.50      0.20      0.29         5\n         122       0.00      0.00      0.00         3\n         124       0.00      0.00      0.00         5\n         125       0.67      0.40      0.50         5\n         126       0.00      0.00      0.00         5\n         127       0.00      0.00      0.00         3\n         128       0.00      0.00      0.00         7\n         129       0.10      0.05      0.07        19\n         130       0.00      0.00      0.00         5\n         131       0.20      0.25      0.22         4\n         132       0.00      0.00      0.00         2\n         133       0.00      0.00      0.00         0\n         134       0.00      0.00      0.00         6\n         135       0.00      0.00      0.00         5\n         136       0.00      0.00      0.00         1\n         137       0.00      0.00      0.00         3\n         138       0.00      0.00      0.00         3\n         139       0.00      0.00      0.00        16\n         140       0.00      0.00      0.00         7\n         141       0.00      0.00      0.00         3\n         142       0.00      0.00      0.00         3\n         143       0.50      0.17      0.25         6\n         144       0.00      0.00      0.00         3\n         145       0.00      0.00      0.00         2\n         146       0.00      0.00      0.00         1\n         147       0.00      0.00      0.00         3\n         148       0.33      0.25      0.29         4\n         149       0.06      0.06      0.06        16\n         151       0.00      0.00      0.00         3\n         152       0.00      0.00      0.00         1\n         153       0.00      0.00      0.00         4\n         154       0.00      0.00      0.00         8\n         155       0.00      0.00      0.00         1\n         156       0.00      0.00      0.00         4\n         157       0.00      0.00      0.00         4\n         158       0.00      0.00      0.00         2\n         159       0.33      0.15      0.21        13\n         160       0.50      1.00      0.67         1\n         161       0.00      0.00      0.00         3\n         162       0.00      0.00      0.00         2\n         163       0.00      0.00      0.00         1\n         164       0.00      0.00      0.00         5\n         165       0.00      0.00      0.00         3\n         166       0.00      0.00      0.00         2\n         167       0.00      0.00      0.00         3\n         168       0.00      0.00      0.00         1\n         169       0.14      0.14      0.14         7\n         170       0.00      0.00      0.00         4\n         171       0.00      0.00      0.00         2\n         172       0.00      0.00      0.00         2\n         173       0.00      0.00      0.00         2\n         174       0.25      0.17      0.20         6\n         175       0.00      0.00      0.00         1\n         176       0.00      0.00      0.00         0\n         177       0.00      0.00      0.00         1\n         178       0.00      0.00      0.00         2\n         179       0.08      0.09      0.08        11\n         180       0.00      0.00      0.00         0\n         181       0.00      0.00      0.00         3\n         182       0.00      0.00      0.00         2\n         183       0.00      0.00      0.00         3\n         184       0.00      0.00      0.00         2\n         185       0.00      0.00      0.00         2\n         186       0.00      0.00      0.00         1\n         187       0.00      0.00      0.00         5\n         188       0.00      0.00      0.00         2\n         189       0.00      0.00      0.00         8\n         190       0.00      0.00      0.00         1\n         191       0.00      0.00      0.00         3\n         192       0.00      0.00      0.00         1\n         194       0.00      0.00      0.00         2\n         195       0.00      0.00      0.00         2\n         196       0.00      0.00      0.00         1\n         197       0.00      0.00      0.00         1\n         198       0.25      0.25      0.25         4\n         199       0.25      0.31      0.28        16\n         200       0.00      0.00      0.00         2\n         201       0.00      0.00      0.00         0\n         202       0.00      0.00      0.00         1\n         203       0.00      0.00      0.00         1\n         204       0.50      0.50      0.50         6\n         205       0.00      0.00      0.00         1\n         209       0.00      0.00      0.00         4\n         210       0.00      0.00      0.00         1\n         211       0.00      0.00      0.00         1\n         212       0.00      0.00      0.00         2\n         213       0.00      0.00      0.00         1\n         214       0.00      0.00      0.00         2\n         215       0.00      0.00      0.00         2\n         216       0.00      0.00      0.00         2\n         217       0.67      0.67      0.67         3\n         218       0.00      0.00      0.00         1\n         219       0.25      0.25      0.25         4\n         220       0.00      0.00      0.00         1\n         221       0.00      0.00      0.00         2\n         222       0.00      0.00      0.00         1\n         224       0.00      0.00      0.00         5\n         228       0.00      0.00      0.00         0\n         229       0.33      0.33      0.33         6\n         230       0.00      0.00      0.00         4\n         233       0.00      0.00      0.00         1\n         234       0.00      0.00      0.00         2\n         235       0.00      0.00      0.00         1\n         236       0.00      0.00      0.00         2\n         237       0.00      0.00      0.00         1\n         239       0.00      0.00      0.00         3\n         240       0.00      0.00      0.00         1\n         241       1.00      1.00      1.00         1\n         242       0.00      0.00      0.00         1\n         243       0.00      0.00      0.00         5\n         245       0.00      0.00      0.00         1\n         246       0.00      0.00      0.00         2\n         247       0.00      0.00      0.00         0\n         249       0.50      0.22      0.31         9\n         250       0.00      0.00      0.00         2\n         251       0.00      0.00      0.00         2\n         252       0.00      0.00      0.00         2\n         253       0.00      0.00      0.00         1\n         259       0.00      0.00      0.00         2\n         260       0.00      0.00      0.00         1\n         262       0.00      0.00      0.00         1\n         263       0.00      0.00      0.00         2\n         264       0.00      0.00      0.00         1\n         265       0.00      0.00      0.00         1\n         269       0.00      0.00      0.00        10\n         270       0.00      0.00      0.00         0\n         271       0.00      0.00      0.00         1\n         273       0.00      0.00      0.00         1\n         274       0.00      0.00      0.00         1\n         278       0.00      0.00      0.00         1\n         279       0.00      0.00      0.00         5\n         280       0.00      0.00      0.00         0\n         283       0.00      0.00      0.00         1\n         284       0.00      0.00      0.00         2\n         287       0.00      0.00      0.00         0\n         288       0.00      0.00      0.00         1\n         289       0.00      0.00      0.00         2\n         291       0.00      0.00      0.00         1\n         292       0.00      0.00      0.00         1\n         293       0.00      0.00      0.00         1\n         294       0.00      0.00      0.00         1\n         295       0.00      0.00      0.00         2\n         296       0.00      0.00      0.00         1\n         297       0.00      0.00      0.00         1\n         298       0.00      0.00      0.00         1\n         299       0.00      0.00      0.00        14\n         301       0.00      0.00      0.00         1\n         302       0.00      0.00      0.00         1\n         306       0.00      0.00      0.00         0\n         308       1.00      1.00      1.00         1\n         309       0.00      0.00      0.00         5\n         313       0.00      0.00      0.00         1\n         314       0.00      0.00      0.00         3\n         315       0.00      0.00      0.00         1\n         319       0.00      0.00      0.00         1\n         321       0.00      0.00      0.00         1\n         324       0.00      0.00      0.00         2\n         325       0.00      0.00      0.00         1\n         326       0.00      0.00      0.00         1\n         328       0.00      0.00      0.00         0\n         329       0.00      0.00      0.00         1\n         334       0.00      0.00      0.00         1\n         335       0.00      0.00      0.00         1\n         336       0.00      0.00      0.00         2\n         339       0.00      0.00      0.00         1\n         347       0.00      0.00      0.00         1\n         349       0.00      0.00      0.00         2\n         356       0.00      0.00      0.00         1\n         357       0.00      0.00      0.00         1\n         359       1.00      1.00      1.00         1\n         363       0.00      0.00      0.00         0\n         366       0.00      0.00      0.00         0\n         367       0.00      0.00      0.00         1\n         369       0.50      0.50      0.50         2\n         373       0.00      0.00      0.00         1\n         377       0.00      0.00      0.00         1\n         378       1.00      1.00      1.00         1\n         379       0.00      0.00      0.00         1\n         384       0.00      0.00      0.00         1\n         385       0.00      0.00      0.00         0\n         388       0.00      0.00      0.00         1\n         389       0.00      0.00      0.00         1\n         390       0.00      0.00      0.00         1\n         392       0.00      0.00      0.00         1\n         396       0.00      0.00      0.00         1\n         399       0.00      0.00      0.00         7\n         400       0.00      0.00      0.00         1\n         409       0.00      0.00      0.00         1\n         412       0.00      0.00      0.00         2\n         414       0.00      0.00      0.00         1\n         415       1.00      0.50      0.67         2\n         429       0.00      0.00      0.00         1\n         431       0.00      0.00      0.00         2\n         434       0.00      0.00      0.00         2\n         435       0.00      0.00      0.00         1\n         439       0.00      0.00      0.00         1\n         443       0.00      0.00      0.00         0\n         445       1.00      1.00      1.00         1\n         446       0.00      0.00      0.00         1\n         449       0.00      0.00      0.00         3\n         454       0.00      0.00      0.00         0\n         456       0.00      0.00      0.00         1\n         468       0.00      0.00      0.00         1\n         469       0.00      0.00      0.00         1\n         473       0.00      0.00      0.00         1\n         474       0.00      0.00      0.00         1\n         475       0.00      0.00      0.00         1\n         493       0.00      0.00      0.00         1\n         499       0.50      0.29      0.36         7\n         503       0.00      0.00      0.00         1\n         509       0.00      0.00      0.00         1\n         512       0.00      0.00      0.00         1\n         515       0.00      0.00      0.00         1\n         516       0.00      0.00      0.00         1\n         519       0.00      0.00      0.00         1\n         533       0.00      0.00      0.00         0\n         537       0.00      0.00      0.00         1\n         539       0.00      0.00      0.00         0\n         543       0.00      0.00      0.00         0\n         548       0.00      0.00      0.00         1\n         549       0.00      0.00      0.00         1\n         564       0.00      0.00      0.00         2\n         569       0.00      0.00      0.00         1\n         571       0.00      0.00      0.00         0\n         573       0.00      0.00      0.00         0\n         589       0.00      0.00      0.00         2\n         597       0.00      0.00      0.00         1\n         598       0.00      0.00      0.00         1\n         599       0.00      0.00      0.00         2\n         604       0.00      0.00      0.00         0\n         615       0.00      0.00      0.00         1\n         616       0.00      0.00      0.00         0\n         617       0.00      0.00      0.00         0\n         639       0.00      0.00      0.00         1\n         642       0.00      0.00      0.00         1\n         645       0.00      0.00      0.00         1\n         649       0.00      0.00      0.00         2\n         659       0.00      0.00      0.00         1\n         662       0.00      0.00      0.00         1\n         664       0.00      0.00      0.00         1\n         670       0.00      0.00      0.00         1\n         695       0.00      0.00      0.00         1\n         699       0.00      0.00      0.00         2\n         700       0.00      0.00      0.00         1\n         704       0.00      0.00      0.00         1\n         705       0.00      0.00      0.00         1\n         719       0.00      0.00      0.00         1\n         743       0.00      0.00      0.00         1\n         746       0.00      0.00      0.00         1\n         749       0.00      0.00      0.00         1\n         755       0.00      0.00      0.00         1\n         758       0.00      0.00      0.00         0\n         770       0.00      0.00      0.00         1\n         774       0.00      0.00      0.00         0\n         789       0.00      0.00      0.00         1\n         799       0.00      0.00      0.00         2\n         808       0.00      0.00      0.00         1\n         818       0.00      0.00      0.00         1\n         819       0.00      0.00      0.00         1\n         858       0.00      0.00      0.00         1\n         859       0.00      0.00      0.00         0\n         862       0.00      0.00      0.00         1\n         874       0.00      0.00      0.00         0\n         880       0.00      0.00      0.00         1\n         899       0.00      0.00      0.00         1\n         901       0.00      0.00      0.00         0\n         909       0.00      0.00      0.00         1\n         949       0.00      0.00      0.00         2\n         980       0.00      0.00      0.00         1\n         999       0.00      0.00      0.00         1\n        1005       0.00      0.00      0.00         1\n        1012       0.00      0.00      0.00         0\n        1024       0.00      0.00      0.00         1\n        1035       0.00      0.00      0.00         2\n        1059       0.00      0.00      0.00         1\n        1095       0.00      0.00      0.00         1\n        1136       0.00      0.00      0.00         0\n        1190       0.00      0.00      0.00         1\n        1199       0.00      0.00      0.00         1\n        1205       0.00      0.00      0.00         1\n        1215       0.00      0.00      0.00         1\n        1219       0.00      0.00      0.00         1\n        1239       0.00      0.00      0.00         1\n        1255       0.00      0.00      0.00         1\n        1299       0.00      0.00      0.00         0\n        1318       0.00      0.00      0.00         0\n        1365       0.00      0.00      0.00         1\n        1377       0.00      0.00      0.00         1\n        1397       0.00      0.00      0.00         0\n        1414       0.00      0.00      0.00         0\n        1416       0.00      0.00      0.00         0\n        1449       0.00      0.00      0.00         1\n        1479       0.00      0.00      0.00         1\n        1488       0.00      0.00      0.00         1\n        1494       0.00      0.00      0.00         1\n        1495       0.00      0.00      0.00         0\n        1499       0.00      0.00      0.00         3\n        1547       0.00      0.00      0.00         1\n        1571       0.00      0.00      0.00         1\n        1582       0.00      0.00      0.00         1\n        1606       0.00      0.00      0.00         1\n        1664       0.00      0.00      0.00         1\n        1686       0.00      0.00      0.00         0\n        1688       0.00      0.00      0.00         1\n        1698       0.00      0.00      0.00         1\n        1699       0.00      0.00      0.00         1\n        1709       0.00      0.00      0.00         0\n        1724       0.00      0.00      0.00         1\n        1740       1.00      1.00      1.00         1\n        1750       0.00      0.00      0.00         1\n        1775       0.00      0.00      0.00         1\n        1806       0.00      0.00      0.00         0\n        1830       0.00      0.00      0.00         1\n        1842       0.00      0.00      0.00         0\n        1895       0.00      0.00      0.00         0\n        1898       0.00      0.00      0.00         0\n        1899       0.00      0.00      0.00         0\n        1984       0.00      0.00      0.00         1\n        1999       0.00      0.00      0.00         1\n        2093       0.00      0.00      0.00         1\n        2112       0.00      0.00      0.00         1\n        2120       0.00      0.00      0.00         0\n        2135       0.00      0.00      0.00         1\n        2161       0.00      0.00      0.00         0\n        2174       0.00      0.00      0.00         0\n        2183       0.00      0.00      0.00         1\n        2184       0.00      0.00      0.00         0\n        2287       0.00      0.00      0.00         1\n        2297       0.00      0.00      0.00         1\n        2309       0.00      0.00      0.00         1\n        2324       0.00      0.00      0.00         1\n        2349       0.00      0.00      0.00         1\n        2399       0.00      0.00      0.00         0\n        2415       0.00      0.00      0.00         0\n        2449       0.00      0.00      0.00         0\n        2464       1.00      1.00      1.00         1\n        2520       0.00      0.00      0.00         1\n        2521       0.00      0.00      0.00         1\n        2549       0.00      0.00      0.00         1\n        2599       0.00      0.00      0.00         0\n        2608       0.00      0.00      0.00         0\n        2615       0.00      0.00      0.00         1\n        2737       0.00      0.00      0.00         1\n        2750       0.00      0.00      0.00         0\n        2765       0.00      0.00      0.00         2\n        2799       0.00      0.00      0.00         2\n        2801       0.00      0.00      0.00         1\n        2807       0.00      0.00      0.00         0\n        2840       0.00      0.00      0.00         0\n        2849       0.00      0.00      0.00         0\n        2886       0.00      0.00      0.00         1\n        2920       0.00      0.00      0.00         1\n        2949       0.00      0.00      0.00         0\n        2979       0.00      0.00      0.00         0\n        2999       0.00      0.00      0.00         1\n        3099       0.00      0.00      0.00         1\n        3271       0.00      0.00      0.00         1\n        3335       0.00      0.00      0.00         0\n        3375       0.00      0.00      0.00         1\n        3452       0.00      0.00      0.00         1\n        3602       0.00      0.00      0.00         0\n        3699       0.00      0.00      0.00         2\n        3798       0.00      0.00      0.00         1\n        3803       0.00      0.00      0.00         1\n        3999       0.00      0.00      0.00         1\n        4075       0.00      0.00      0.00         0\n        4183       0.00      0.00      0.00         0\n        4311       0.00      0.00      0.00         3\n        4708       0.00      0.00      0.00         1\n        4800       0.50      1.00      0.67         1\n        4882       0.00      0.00      0.00         1\n        4900       0.00      0.00      0.00         1\n        5000       0.00      0.00      0.00         1\n        5055       0.00      0.00      0.00         0\n        5060       0.00      0.00      0.00         1\n        5199       1.00      1.00      1.00         1\n        5600       0.00      0.00      0.00         0\n        5649       1.00      1.00      1.00         1\n        5700       1.00      0.50      0.67         2\n        5990       1.00      1.00      1.00         3\n        7800       1.00      1.00      1.00         1\n\n    accuracy                           0.10      7401\n   macro avg       0.06      0.06      0.06      7401\nweighted avg       0.10      0.10      0.10      7401\n\n",
      "[[ 3  0  0 ...  0  0  0]\n [ 0  4  0 ...  0  0  0]\n [ 0  4 10 ...  0  0  0]\n ...\n [ 0  0  0 ...  1  0  0]\n [ 0  0  0 ...  0  3  0]\n [ 0  0  0 ...  0  0  1]]\n"
     ],
     "output_type": "stream"
    }
   ],
   "source": [
    "# from sklearn.decomposition import TruncatedSVD\n",
    "\n",
    "# PCA gives the following error:\n",
    "# TypeError: PCA does not support sparse input. See TruncatedSVD for a possible alternative.\n",
    "\n",
    "# Create the pipeline.\n",
    "\n",
    "# vectorizer = TfidfVectorizer(stop_words=\"english\", sublinear_tf=True, norm='l2')\n",
    "# column_transformer = ColumnTransformer([('name', vectorizer, 'name'),\n",
    "#                                         ('description', vectorizer, 'description'),\n",
    "#                                         ('brand', vectorizer, 'brand'),\n",
    "#                                         ('category_raw', vectorizer, 'category_raw'),\n",
    "#                                         # ('category_1', vectorizer, 'category_1'),\n",
    "#                                         # ('category_2', vectorizer, 'category_2'),\n",
    "#                                         # ('category_3', vectorizer, 'category_3'),\n",
    "#                                         # ('keywords', vectorizer, 'keywords'),\n",
    "#                                        ], remainder='drop', verbose_feature_names_out=False)\n",
    "\n",
    "clf_RF = Pipeline([('vect', column_transformer),\n",
    "                   ('chi',  SelectKBest(chi2, k=20000)),\n",
    "                   ('clf', RandomForestClassifier())])\n",
    "# Fit the classifier.\n",
    "clf_RF.fit(X_train, y_train)\n",
    "show_metrics(clf_RF, X_test, y_test)"
   ],
   "metadata": {
    "collapsed": false,
    "pycharm": {
     "name": "#%%\n",
     "is_executing": false
    }
   }
  },
  {
   "cell_type": "code",
   "execution_count": null,
   "outputs": [],
   "source": [
    "clf_LDA = Pipeline([('vect', column_transformer),\n",
    "                    ('svd', LatentDirichletAllocation()),\n",
    "                   ('clf', RandomForestClassifier())])\n",
    "# Fit the classifier.\n",
    "clf_LDA.fit(X_train, y_train)\n",
    "show_metrics(clf_LDA, X_test, y_test)\n",
    "\n",
    "\n",
    "clf_DL = Pipeline([('vect', column_transformer),\n",
    "                    ('svd', DictionaryLearning()),\n",
    "                   ('clf', RandomForestClassifier())])\n",
    "# Fit the classifier.\n",
    "clf_DL.fit(X_train, y_train)\n",
    "show_metrics(clf_DL, X_test, y_test)"
   ],
   "metadata": {
    "collapsed": false,
    "pycharm": {
     "name": "#%%\n"
    }
   }
  },
  {
   "cell_type": "code",
   "execution_count": null,
   "outputs": [],
   "source": [
    "# ValueError: k should be >=0, <= n_features = 100; got 7000. Use k='all' to return all features.\n",
    "# ('chi', SelectKBest(chi2, k=100)),\n",
    "\n",
    "# Classification score: 43.35900553979192%\n",
    "# with n_components = 100\n",
    "\n",
    "# Classification score: 42.57532765842454%\n",
    "# with n_components = 1000"
   ],
   "metadata": {
    "collapsed": false,
    "pycharm": {
     "name": "#%%\n"
    }
   }
  }
 ],
 "metadata": {
  "kernelspec": {
   "display_name": "Python 3 (ipykernel)",
   "language": "python",
   "name": "python3"
  },
  "language_info": {
   "codemirror_mode": {
    "name": "ipython",
    "version": 3
   },
   "file_extension": ".py",
   "mimetype": "text/x-python",
   "name": "python",
   "nbconvert_exporter": "python",
   "pygments_lexer": "ipython3",
   "version": "3.7.4"
  },
  "pycharm": {
   "stem_cell": {
    "cell_type": "raw",
    "source": [],
    "metadata": {
     "collapsed": false
    }
   }
  }
 },
 "nbformat": 4,
 "nbformat_minor": 1
}