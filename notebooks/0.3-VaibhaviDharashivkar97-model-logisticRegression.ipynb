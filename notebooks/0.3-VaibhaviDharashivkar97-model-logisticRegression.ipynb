{
 "cells": [
  {
   "cell_type": "markdown",
   "metadata": {
    "pycharm": {
     "name": "#%%\nmd\n"
    }
   },
   "source": [
    "# Logistic Regression"
   ]
  },
  {
   "cell_type": "code",
   "execution_count": 1,
   "metadata": {
    "collapsed": false,
    "jupyter": {
     "outputs_hidden": false
    },
    "pycharm": {
     "is_executing": false,
     "name": "#%%\n"
    }
   },
   "outputs": [
    {
     "data": {
      "text/html": [
       "<div>\n",
       "<style scoped>\n",
       "    .dataframe tbody tr th:only-of-type {\n",
       "        vertical-align: middle;\n",
       "    }\n",
       "\n",
       "    .dataframe tbody tr th {\n",
       "        vertical-align: top;\n",
       "    }\n",
       "\n",
       "    .dataframe thead th {\n",
       "        text-align: right;\n",
       "    }\n",
       "</style>\n",
       "<table border=\"1\" class=\"dataframe\">\n",
       "  <thead>\n",
       "    <tr style=\"text-align: right;\">\n",
       "      <th></th>\n",
       "      <th>brand</th>\n",
       "      <th>name</th>\n",
       "      <th>description</th>\n",
       "      <th>category_raw</th>\n",
       "      <th>price_raw</th>\n",
       "      <th>discount_raw</th>\n",
       "      <th>price_range</th>\n",
       "    </tr>\n",
       "  </thead>\n",
       "  <tbody>\n",
       "    <tr>\n",
       "      <th>0</th>\n",
       "      <td>La Costeï¿½ï¿½a</td>\n",
       "      <td>La Costena Chipotle Peppers, 7 OZ (Pack of 12)</td>\n",
       "      <td>We aim to show you accurate product informati...</td>\n",
       "      <td>Food | Meal Solutions, Grains &amp; Pasta | Canned...</td>\n",
       "      <td>31.93</td>\n",
       "      <td>31.93</td>\n",
       "      <td>(30, 35]</td>\n",
       "    </tr>\n",
       "    <tr>\n",
       "      <th>1</th>\n",
       "      <td>Equate</td>\n",
       "      <td>Equate Triamcinolone Acetonide Nasal Allergy S...</td>\n",
       "      <td>We aim to show you accurate product informati...</td>\n",
       "      <td>Health | Equate | Equate Allergy | Equate Sinu...</td>\n",
       "      <td>10.48</td>\n",
       "      <td>10.48</td>\n",
       "      <td>(10, 20]</td>\n",
       "    </tr>\n",
       "    <tr>\n",
       "      <th>2</th>\n",
       "      <td>AduroSmart ERIA</td>\n",
       "      <td>AduroSmart ERIA Soft White Smart A19 Light Bul...</td>\n",
       "      <td>We aim to show you accurate product informati...</td>\n",
       "      <td>Electronics | Smart Home | Smart Energy and Li...</td>\n",
       "      <td>10.99</td>\n",
       "      <td>10.99</td>\n",
       "      <td>(10, 20]</td>\n",
       "    </tr>\n",
       "    <tr>\n",
       "      <th>3</th>\n",
       "      <td>lowrider</td>\n",
       "      <td>24\" Classic Adjustable Balloon Fender Set Chro...</td>\n",
       "      <td>We aim to show you accurate product informati...</td>\n",
       "      <td>Sports &amp; Outdoors | Bikes | Bike Accessories |...</td>\n",
       "      <td>38.59</td>\n",
       "      <td>38.59</td>\n",
       "      <td>(35, 40]</td>\n",
       "    </tr>\n",
       "    <tr>\n",
       "      <th>4</th>\n",
       "      <td>Anself</td>\n",
       "      <td>Elephant Shape Silicone Drinkware Portable Sil...</td>\n",
       "      <td>We aim to show you accurate product informati...</td>\n",
       "      <td>Baby | Feeding | Sippy Cups: Alternatives to P...</td>\n",
       "      <td>5.81</td>\n",
       "      <td>5.81</td>\n",
       "      <td>(0, 10]</td>\n",
       "    </tr>\n",
       "    <tr>\n",
       "      <th>...</th>\n",
       "      <td>...</td>\n",
       "      <td>...</td>\n",
       "      <td>...</td>\n",
       "      <td>...</td>\n",
       "      <td>...</td>\n",
       "      <td>...</td>\n",
       "      <td>...</td>\n",
       "    </tr>\n",
       "    <tr>\n",
       "      <th>29994</th>\n",
       "      <td>NineChef</td>\n",
       "      <td>Sheng Xiang Zhen (ShengXiangZhen) Snack + OneN...</td>\n",
       "      <td>We aim to show you accurate product informati...</td>\n",
       "      <td>Food | Snacks, Cookies &amp; Chips | Chips &amp; Crisp...</td>\n",
       "      <td>45.99</td>\n",
       "      <td>45.99</td>\n",
       "      <td>(45, 50]</td>\n",
       "    </tr>\n",
       "    <tr>\n",
       "      <th>29996</th>\n",
       "      <td>Shock Sox</td>\n",
       "      <td>Shock Sox Fork Seal Guards 29-36mm Fork Tube 4...</td>\n",
       "      <td>We aim to show you accurate product informati...</td>\n",
       "      <td>Sports &amp; Outdoors | Bikes | Bike Components | ...</td>\n",
       "      <td>33.25</td>\n",
       "      <td>33.25</td>\n",
       "      <td>(30, 35]</td>\n",
       "    </tr>\n",
       "    <tr>\n",
       "      <th>29997</th>\n",
       "      <td>Princes</td>\n",
       "      <td>Princes Gooseberries 300g</td>\n",
       "      <td>We aim to show you accurate product informati...</td>\n",
       "      <td>Food | Meal Solutions, Grains &amp; Pasta | Canned...</td>\n",
       "      <td>8.88</td>\n",
       "      <td>8.88</td>\n",
       "      <td>(0, 10]</td>\n",
       "    </tr>\n",
       "    <tr>\n",
       "      <th>29998</th>\n",
       "      <td>Create Ion</td>\n",
       "      <td>Create Ion Grace 3/4 Inches Straight Hair Iron...</td>\n",
       "      <td>We aim to show you accurate product informati...</td>\n",
       "      <td>Beauty | Hair Care | Hair Styling Tools | Flat...</td>\n",
       "      <td>50.00</td>\n",
       "      <td>24.50</td>\n",
       "      <td>(45, 50]</td>\n",
       "    </tr>\n",
       "    <tr>\n",
       "      <th>29999</th>\n",
       "      <td>Takuminowaza</td>\n",
       "      <td>Green Bell Takuminowaza Two Way Ear Pick Brass...</td>\n",
       "      <td>We aim to show you accurate product informati...</td>\n",
       "      <td>Beauty | Here for Every Beauty | Featured Shop...</td>\n",
       "      <td>6.00</td>\n",
       "      <td>4.20</td>\n",
       "      <td>(0, 10]</td>\n",
       "    </tr>\n",
       "  </tbody>\n",
       "</table>\n",
       "<p>29604 rows × 7 columns</p>\n",
       "</div>"
      ],
      "text/plain": [
       "                 brand                                               name  \\\n",
       "0      La Costeï¿½ï¿½a     La Costena Chipotle Peppers, 7 OZ (Pack of 12)   \n",
       "1               Equate  Equate Triamcinolone Acetonide Nasal Allergy S...   \n",
       "2      AduroSmart ERIA  AduroSmart ERIA Soft White Smart A19 Light Bul...   \n",
       "3             lowrider  24\" Classic Adjustable Balloon Fender Set Chro...   \n",
       "4               Anself  Elephant Shape Silicone Drinkware Portable Sil...   \n",
       "...                ...                                                ...   \n",
       "29994         NineChef  Sheng Xiang Zhen (ShengXiangZhen) Snack + OneN...   \n",
       "29996        Shock Sox  Shock Sox Fork Seal Guards 29-36mm Fork Tube 4...   \n",
       "29997          Princes                          Princes Gooseberries 300g   \n",
       "29998       Create Ion  Create Ion Grace 3/4 Inches Straight Hair Iron...   \n",
       "29999     Takuminowaza  Green Bell Takuminowaza Two Way Ear Pick Brass...   \n",
       "\n",
       "                                             description  \\\n",
       "0       We aim to show you accurate product informati...   \n",
       "1       We aim to show you accurate product informati...   \n",
       "2       We aim to show you accurate product informati...   \n",
       "3       We aim to show you accurate product informati...   \n",
       "4       We aim to show you accurate product informati...   \n",
       "...                                                  ...   \n",
       "29994   We aim to show you accurate product informati...   \n",
       "29996   We aim to show you accurate product informati...   \n",
       "29997   We aim to show you accurate product informati...   \n",
       "29998   We aim to show you accurate product informati...   \n",
       "29999   We aim to show you accurate product informati...   \n",
       "\n",
       "                                            category_raw  price_raw  \\\n",
       "0      Food | Meal Solutions, Grains & Pasta | Canned...      31.93   \n",
       "1      Health | Equate | Equate Allergy | Equate Sinu...      10.48   \n",
       "2      Electronics | Smart Home | Smart Energy and Li...      10.99   \n",
       "3      Sports & Outdoors | Bikes | Bike Accessories |...      38.59   \n",
       "4      Baby | Feeding | Sippy Cups: Alternatives to P...       5.81   \n",
       "...                                                  ...        ...   \n",
       "29994  Food | Snacks, Cookies & Chips | Chips & Crisp...      45.99   \n",
       "29996  Sports & Outdoors | Bikes | Bike Components | ...      33.25   \n",
       "29997  Food | Meal Solutions, Grains & Pasta | Canned...       8.88   \n",
       "29998  Beauty | Hair Care | Hair Styling Tools | Flat...      50.00   \n",
       "29999  Beauty | Here for Every Beauty | Featured Shop...       6.00   \n",
       "\n",
       "       discount_raw price_range  \n",
       "0             31.93    (30, 35]  \n",
       "1             10.48    (10, 20]  \n",
       "2             10.99    (10, 20]  \n",
       "3             38.59    (35, 40]  \n",
       "4              5.81     (0, 10]  \n",
       "...             ...         ...  \n",
       "29994         45.99    (45, 50]  \n",
       "29996         33.25    (30, 35]  \n",
       "29997          8.88     (0, 10]  \n",
       "29998         24.50    (45, 50]  \n",
       "29999          4.20     (0, 10]  \n",
       "\n",
       "[29604 rows x 7 columns]"
      ]
     },
     "metadata": {},
     "output_type": "display_data"
    }
   ],
   "source": [
    "import pandas as pd\n",
    "from IPython.core.display import display\n",
    "df = pd.read_csv(\"../data/interim/ecommerce_data-cleaned-0.2.2.csv\", index_col=0)\n",
    "display(df)"
   ]
  },
  {
   "cell_type": "code",
   "execution_count": 6,
   "metadata": {},
   "outputs": [],
   "source": [
    "from sklearn import preprocessing\n",
    "from sklearn import utils\n",
    "\n",
    "lab_enc = preprocessing.LabelEncoder()\n",
    "df['encoded'] = lab_enc.fit_transform(df.price_range)"
   ]
  },
  {
   "cell_type": "code",
   "execution_count": 7,
   "metadata": {},
   "outputs": [
    {
     "data": {
      "text/html": [
       "<div>\n",
       "<style scoped>\n",
       "    .dataframe tbody tr th:only-of-type {\n",
       "        vertical-align: middle;\n",
       "    }\n",
       "\n",
       "    .dataframe tbody tr th {\n",
       "        vertical-align: top;\n",
       "    }\n",
       "\n",
       "    .dataframe thead th {\n",
       "        text-align: right;\n",
       "    }\n",
       "</style>\n",
       "<table border=\"1\" class=\"dataframe\">\n",
       "  <thead>\n",
       "    <tr style=\"text-align: right;\">\n",
       "      <th></th>\n",
       "      <th>name</th>\n",
       "      <th>encoded</th>\n",
       "    </tr>\n",
       "  </thead>\n",
       "  <tbody>\n",
       "    <tr>\n",
       "      <th>0</th>\n",
       "      <td>La Costena Chipotle Peppers, 7 OZ (Pack of 12)</td>\n",
       "      <td>5</td>\n",
       "    </tr>\n",
       "    <tr>\n",
       "      <th>1</th>\n",
       "      <td>Equate Triamcinolone Acetonide Nasal Allergy S...</td>\n",
       "      <td>1</td>\n",
       "    </tr>\n",
       "    <tr>\n",
       "      <th>2</th>\n",
       "      <td>AduroSmart ERIA Soft White Smart A19 Light Bul...</td>\n",
       "      <td>1</td>\n",
       "    </tr>\n",
       "    <tr>\n",
       "      <th>3</th>\n",
       "      <td>24\" Classic Adjustable Balloon Fender Set Chro...</td>\n",
       "      <td>6</td>\n",
       "    </tr>\n",
       "    <tr>\n",
       "      <th>4</th>\n",
       "      <td>Elephant Shape Silicone Drinkware Portable Sil...</td>\n",
       "      <td>0</td>\n",
       "    </tr>\n",
       "    <tr>\n",
       "      <th>...</th>\n",
       "      <td>...</td>\n",
       "      <td>...</td>\n",
       "    </tr>\n",
       "    <tr>\n",
       "      <th>29994</th>\n",
       "      <td>Sheng Xiang Zhen (ShengXiangZhen) Snack + OneN...</td>\n",
       "      <td>8</td>\n",
       "    </tr>\n",
       "    <tr>\n",
       "      <th>29996</th>\n",
       "      <td>Shock Sox Fork Seal Guards 29-36mm Fork Tube 4...</td>\n",
       "      <td>5</td>\n",
       "    </tr>\n",
       "    <tr>\n",
       "      <th>29997</th>\n",
       "      <td>Princes Gooseberries 300g</td>\n",
       "      <td>0</td>\n",
       "    </tr>\n",
       "    <tr>\n",
       "      <th>29998</th>\n",
       "      <td>Create Ion Grace 3/4 Inches Straight Hair Iron...</td>\n",
       "      <td>8</td>\n",
       "    </tr>\n",
       "    <tr>\n",
       "      <th>29999</th>\n",
       "      <td>Green Bell Takuminowaza Two Way Ear Pick Brass...</td>\n",
       "      <td>0</td>\n",
       "    </tr>\n",
       "  </tbody>\n",
       "</table>\n",
       "<p>29604 rows × 2 columns</p>\n",
       "</div>"
      ],
      "text/plain": [
       "                                                    name  encoded\n",
       "0         La Costena Chipotle Peppers, 7 OZ (Pack of 12)        5\n",
       "1      Equate Triamcinolone Acetonide Nasal Allergy S...        1\n",
       "2      AduroSmart ERIA Soft White Smart A19 Light Bul...        1\n",
       "3      24\" Classic Adjustable Balloon Fender Set Chro...        6\n",
       "4      Elephant Shape Silicone Drinkware Portable Sil...        0\n",
       "...                                                  ...      ...\n",
       "29994  Sheng Xiang Zhen (ShengXiangZhen) Snack + OneN...        8\n",
       "29996  Shock Sox Fork Seal Guards 29-36mm Fork Tube 4...        5\n",
       "29997                          Princes Gooseberries 300g        0\n",
       "29998  Create Ion Grace 3/4 Inches Straight Hair Iron...        8\n",
       "29999  Green Bell Takuminowaza Two Way Ear Pick Brass...        0\n",
       "\n",
       "[29604 rows x 2 columns]"
      ]
     },
     "metadata": {},
     "output_type": "display_data"
    }
   ],
   "source": [
    "df_new = df[['name','encoded']]\n",
    "display(df_new)"
   ]
  },
  {
   "cell_type": "code",
   "execution_count": 9,
   "metadata": {},
   "outputs": [
    {
     "data": {
      "text/plain": [
       "(29604, 12942)"
      ]
     },
     "execution_count": 9,
     "metadata": {},
     "output_type": "execute_result"
    }
   ],
   "source": [
    "from sklearn.feature_extraction.text import TfidfVectorizer\n",
    "from sklearn import preprocessing\n",
    "from sklearn import utils\n",
    "\n",
    "tfidf = TfidfVectorizer(sublinear_tf=True, min_df=5, norm='l2', encoding='latin-1', ngram_range=(1, 2), stop_words='english')\n",
    "features = tfidf.fit_transform(df_new.name).toarray()\n",
    "labels = df_new.encoded\n",
    "features.shape"
   ]
  },
  {
   "cell_type": "code",
   "execution_count": 10,
   "metadata": {},
   "outputs": [
    {
     "name": "stdout",
     "output_type": "stream",
     "text": [
      "# 'encoded':\n",
      "  . Most correlated unigrams:\n",
      ". dura\n",
      ". zoro\n",
      "  . Most correlated bigrams:\n",
      ". duro tubes\n",
      ". dusk dawn\n",
      "# 'name':\n",
      "  . Most correlated unigrams:\n",
      ". dura\n",
      ". zoro\n",
      "  . Most correlated bigrams:\n",
      ". duro tubes\n",
      ". dusk dawn\n"
     ]
    }
   ],
   "source": [
    "from sklearn.feature_selection import chi2\n",
    "import numpy as np\n",
    "N = 2\n",
    "for name, encoded in sorted(df_new.items()):\n",
    "  features_chi2 = chi2(features, labels == encoded)\n",
    "  indices = np.argsort(features_chi2[0])\n",
    "  feature_names = np.array(tfidf.get_feature_names_out())[indices]\n",
    "  unigrams = [v for v in feature_names if len(v.split(' ')) == 1]\n",
    "  bigrams = [v for v in feature_names if len(v.split(' ')) == 2]\n",
    "  print(\"# '{}':\".format(name))\n",
    "  print(\"  . Most correlated unigrams:\\n. {}\".format('\\n. '.join(unigrams[-N:])))\n",
    "  print(\"  . Most correlated bigrams:\\n. {}\".format('\\n. '.join(bigrams[-N:])))"
   ]
  },
  {
   "cell_type": "code",
   "execution_count": 27,
   "metadata": {},
   "outputs": [],
   "source": [
    "from sklearn.model_selection import train_test_split\n",
    "from sklearn.feature_extraction.text import CountVectorizer\n",
    "from sklearn.feature_extraction.text import TfidfTransformer\n",
    "from sklearn.model_selection import RepeatedStratifiedKFold\n",
    "from sklearn.linear_model import LogisticRegression\n",
    "X_train, X_test, y_train, y_test = train_test_split(df['description'].fillna(\" \"), df['price_range'], random_state = 0)\n",
    "count_vect = CountVectorizer()\n",
    "X_train_counts = count_vect.fit_transform(X_train)\n",
    "X_test_counts = count_vect.fit_transform(X_test)\n",
    "tfidf_transformer = TfidfTransformer()\n",
    "X_train_tfidf = tfidf_transformer.fit_transform(X_train_counts)\n",
    "X_test_tfidf = tfidf_transformer.fit_transform(X_test_counts)\n",
    "clf = LogisticRegression(multi_class='multinomial', random_state=0, max_iter=1000).fit(X_train_tfidf, y_train)"
   ]
  },
  {
   "cell_type": "code",
   "execution_count": 55,
   "metadata": {},
   "outputs": [],
   "source": [
    "# from sklearn.metrics import classification_report, confusion_matrix\n",
    "# from sklearn.pipeline import Pipeline\n",
    "# from sklearn.metrics import classification_report, confusion_matrix\n",
    "# from sklearn.feature_selection import SelectKBest, chi2\n",
    "# pipeline = Pipeline([('vect', tfidf),\n",
    "# #                       ('chi', SelectKBest(chi2, k=1200)),\n",
    "#                       ('clf', LogisticRegression(multi_class='multinomial', random_state=0, max_iter=1000))])\n",
    "# model = pipeline.fit(X_train_tfidf, y_train)\n",
    "\n",
    "# ytest = np.array(y_test)\n",
    "\n",
    "# print(classification_report(ytest, model.predict(X_test_tfidf)))\n",
    "# print(confusion_matrix(ytest_KNN, model.predict(X_test_tfidf)))"
   ]
  },
  {
   "cell_type": "code",
   "execution_count": 49,
   "metadata": {},
   "outputs": [
    {
     "data": {
      "text/plain": [
       "array([0.39271255, 0.36486486, 0.37432432, 0.36891892, 0.38918919,\n",
       "       0.37297297, 0.39054054, 0.33378378, 0.4       , 0.38513514])"
      ]
     },
     "metadata": {},
     "output_type": "display_data"
    },
    {
     "data": {
      "text/plain": [
       "[('LogisticRegression', 0, 0.39271255060728744),\n",
       " ('LogisticRegression', 1, 0.36486486486486486),\n",
       " ('LogisticRegression', 2, 0.37432432432432433),\n",
       " ('LogisticRegression', 3, 0.3689189189189189),\n",
       " ('LogisticRegression', 4, 0.3891891891891892),\n",
       " ('LogisticRegression', 5, 0.372972972972973),\n",
       " ('LogisticRegression', 6, 0.39054054054054055),\n",
       " ('LogisticRegression', 7, 0.33378378378378376),\n",
       " ('LogisticRegression', 8, 0.4),\n",
       " ('LogisticRegression', 9, 0.38513513513513514)]"
      ]
     },
     "metadata": {},
     "output_type": "display_data"
    }
   ],
   "source": [
    "from sklearn.model_selection import cross_val_score\n",
    "\n",
    "entries=[]\n",
    "accuracies = cross_val_score(clf, X_test_tfidf, y_test, scoring='accuracy', cv=10)\n",
    "for fold_idx, accuracy in enumerate(accuracies):\n",
    "    entries.append(('LogisticRegression', fold_idx, accuracy))\n",
    "cv_df = pd.DataFrame(entries, columns=['LogisticRegression', 'fold_idx', 'accuracy'])\n",
    "display(accuracies)\n",
    "display(entries)"
   ]
  },
  {
   "cell_type": "code",
   "execution_count": 34,
   "metadata": {},
   "outputs": [
    {
     "name": "stdout",
     "output_type": "stream",
     "text": [
      "Mean Accuracy: 0.377 (0.018)\n"
     ]
    }
   ],
   "source": [
    "from numpy import mean\n",
    "from numpy import std\n",
    "print('Mean Accuracy: %.3f (%.3f)' % (mean(accuracies), std(accuracies)))"
   ]
  },
  {
   "cell_type": "code",
   "execution_count": 50,
   "metadata": {},
   "outputs": [
    {
     "data": {
      "image/png": "[encoded data removed]",
      "text/plain": [
       "<Figure size 432x288 with 1 Axes>"
      ]
     },
     "metadata": {
      "needs_background": "light"
     },
     "output_type": "display_data"
    }
   ],
   "source": [
    "import seaborn as sns\n",
    "import matplotlib.pyplot as plt\n",
    "sns.boxplot(x='LogisticRegression', y='accuracy', data=cv_df)\n",
    "plt.show()"
   ]
  }
 ],
 "metadata": {
  "kernelspec": {
   "display_name": "Python 3 (ipykernel)",
   "language": "python",
   "name": "python3"
  },
  "language_info": {
   "codemirror_mode": {
    "name": "ipython",
    "version": 3
   },
   "file_extension": ".py",
   "mimetype": "text/x-python",
   "name": "python",
   "nbconvert_exporter": "python",
   "pygments_lexer": "ipython3",
   "version": "3.9.7"
  },
  "pycharm": {
   "stem_cell": {
    "cell_type": "raw",
    "metadata": {
     "collapsed": false
    },
    "source": []
   }
  }
 },
 "nbformat": 4,
 "nbformat_minor": 4
}
