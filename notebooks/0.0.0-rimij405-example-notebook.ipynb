{
 "cells": [
  {
   "cell_type": "markdown",
   "id": "60462dd1-07f4-46c2-9606-f0f4b4d75dea",
   "metadata": {
    "tags": []
   },
   "source": [
    "# [Major].[Minor].[Step] - [Subject]\n",
    "\n",
    "\n",
    "<!-- *This is an example notebook that demonstrates how to setup an analysis on the datasets provided. Following this format for consistency means we can quickly create new notebooks as required.* -->\n",
    "\n",
    "<!-- Notebooks are part of a larger process. They should tagged with the major, minor, and individual process step numbers, akin to a versioning system. Subjects are included to remain human readable. -->\n",
    "\n",
    "## Overview\n",
    "\n",
    "<!-- *This section details the *actions*, *dependencies*, and *targets* of a possible notebook. Reading this section ought to give a total summary of what's contained within the notebook.* -->\n",
    "\n",
    "### Actions\n",
    "\n",
    "**Actions**: *This section describes the tasks involved with completing a notebook. The \"Actions\" are the procedural steps that the notebook completes.*\n",
    "\n",
    "### Dependencies (Optional)\n",
    "\n",
    "**Dependencies**: *(Optional) This section describes this notebook's artifact dependencies (not to be confused with python package dependencies). The terminology is in reference to MAKEFILEs, and can be considered the 'input's required to facilitate the **Actions** described by the notebook's procedures.*\n",
    "\n",
    "### Targets (Optional)\n",
    "\n",
    "**Targets**: *(Optional) This section describes this notebook's artifact targets. The terminology is in reference to MAKEFILEs, and can be considered the 'output's created as a consequence of the **Actions** described by the notebook's procedures.*\n",
    "\n"
   ]
  },
  {
   "cell_type": "markdown",
   "id": "e5388bd3-799e-44a9-883b-c70c6301d02d",
   "metadata": {},
   "source": [
    "## Setup\n",
    "\n",
    "The following cells import required libraries for python analysis, import the module path to access the project's `src/` module scripts, and enable autoreloading for the hot-reloading of source files outside of the notebook. These are all optional and should be included if needed for development."
   ]
  },
  {
   "cell_type": "code",
   "execution_count": 1,
   "id": "a7a880bf-f2e4-48ea-be7d-882c250cb3a7",
   "metadata": {},
   "outputs": [
    {
     "name": "stdout",
     "output_type": "stream",
     "text": [
      "\n",
      "     active environment : iste780\n",
      "    active env location : C:\\Users\\effen\\.conda\\envs\\iste780\n",
      "            shell level : 2\n",
      "       user config file : C:\\Users\\effen\\.condarc\n",
      " populated config files : C:\\Users\\effen\\mambaforge\\.condarc\n",
      "          conda version : 4.10.3\n",
      "    conda-build version : not installed\n",
      "         python version : 3.9.7.final.0\n",
      "       virtual packages : __cuda=11.5=0\n",
      "                          __win=0=0\n",
      "                          __archspec=1=x86_64\n",
      "       base environment : C:\\Users\\effen\\mambaforge  (writable)\n",
      "      conda av data dir : C:\\Users\\effen\\mambaforge\\etc\\conda\n",
      "  conda av metadata url : None\n",
      "           channel URLs : https://conda.anaconda.org/conda-forge/win-64\n",
      "                          https://conda.anaconda.org/conda-forge/noarch\n",
      "          package cache : C:\\Users\\effen\\mambaforge\\pkgs\n",
      "                          C:\\Users\\effen\\.conda\\pkgs\n",
      "                          C:\\Users\\effen\\AppData\\Local\\conda\\conda\\pkgs\n",
      "       envs directories : C:\\Users\\effen\\mambaforge\\envs\n",
      "                          C:\\Users\\effen\\.conda\\envs\n",
      "                          C:\\Users\\effen\\AppData\\Local\\conda\\conda\\envs\n",
      "               platform : win-64\n",
      "             user-agent : conda/4.10.3 requests/2.26.0 CPython/3.9.7 Windows/10 Windows/10.0.19042\n",
      "          administrator : False\n",
      "             netrc file : None\n",
      "           offline mode : False\n",
      "\n"
     ]
    }
   ],
   "source": [
    "# Verify your conda details.\n",
    "!conda info"
   ]
  },
  {
   "cell_type": "code",
   "execution_count": 2,
   "id": "0f8c9480-0ccd-4355-9c1d-4a3b5a25d705",
   "metadata": {},
   "outputs": [
    {
     "name": "stdout",
     "output_type": "stream",
     "text": [
      "Module added to PATH: \"D:\\Repositories\\rit\\ISTE780\\Project\".\n"
     ]
    }
   ],
   "source": [
    "# Enable hot-reloading of external scripts.\n",
    "%load_ext autoreload\n",
    "%autoreload 2\n",
    "\n",
    "# Import libraries.\n",
    "import os, sys\n",
    "from pathlib import Path\n",
    "# import pandas as pd\n",
    "# import numpy as np\n",
    "# from matplotlib import pyplot as plt\n",
    "\n",
    "# Add project to system PATH.\n",
    "module_path = Path(\".\").resolve().parents[0]\n",
    "if str(module_path) not in sys.path:\n",
    "    sys.path.append(str(module_path))\n",
    "    print('Module added to PATH: \"{}\".'.format(module_path))\n",
    "else:\n",
    "    print('Module already accessible from PATH \"{}\".'.format(module_path))"
   ]
  },
  {
   "cell_type": "code",
   "execution_count": 3,
   "id": "48123f77-eaab-403c-8ac8-fc13d5a0665c",
   "metadata": {},
   "outputs": [],
   "source": [
    "# Import utilities.\n",
    "from src.data import *\n",
    "# from src.features import *"
   ]
  }
 ],
 "metadata": {
  "kernelspec": {
   "display_name": "Python 3 (ipykernel)",
   "language": "python",
   "name": "python3"
  },
  "language_info": {
   "codemirror_mode": {
    "name": "ipython",
    "version": 3
   },
   "file_extension": ".py",
   "mimetype": "text/x-python",
   "name": "python",
   "nbconvert_exporter": "python",
   "pygments_lexer": "ipython3",
   "version": "3.9.7"
  }
 },
 "nbformat": 4,
 "nbformat_minor": 5
}
