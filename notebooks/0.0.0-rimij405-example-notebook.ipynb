{
 "cells": [
  {
   "cell_type": "markdown",
   "id": "60462dd1-07f4-46c2-9606-f0f4b4d75dea",
   "metadata": {
    "tags": []
   },
   "source": [
    "# [Major].[Minor].[Step] - [Subject]\n",
    "\n",
    "\n",
    "<!-- *This is an example notebook that demonstrates how to setup an analysis on the datasets provided. Following this format for consistency means we can quickly create new notebooks as required.* -->\n",
    "\n",
    "<!-- Notebooks are part of a larger process. They should tagged with the major, minor, and individual process step numbers, akin to a versioning system. Subjects are included to remain human readable. -->\n",
    "\n",
    "## Overview\n",
    "\n",
    "<!-- *This section details the *actions*, *dependencies*, and *targets* of a possible notebook. Reading this section ought to give a total summary of what's contained within the notebook.* -->\n",
    "\n",
    "### Actions\n",
    "\n",
    "**Actions**: *This section describes the tasks involved with completing a notebook. The \"Actions\" are the procedural steps that the notebook completes.*\n",
    "\n",
    "### Dependencies (Optional)\n",
    "\n",
    "**Dependencies**: *(Optional) This section describes this notebook's artifact dependencies (not to be confused with python package dependencies). The terminology is in reference to MAKEFILEs, and can be considered the 'input's required to facilitate the **Actions** described by the notebook's procedures.*\n",
    "\n",
    "### Targets (Optional)\n",
    "\n",
    "**Targets**: *(Optional) This section describes this notebook's artifact targets. The terminology is in reference to MAKEFILEs, and can be considered the 'output's created as a consequence of the **Actions** described by the notebook's procedures.*\n",
    "\n"
   ]
  },
  {
   "cell_type": "markdown",
   "id": "e5388bd3-799e-44a9-883b-c70c6301d02d",
   "metadata": {},
   "source": [
    "## Setup\n",
    "\n",
    "The following cells import required libraries for python analysis, import the module path to access the project's `src/` module scripts, and enable autoreloading for the hot-reloading of source files outside of the notebook. These are all optional and should be included if needed for development."
   ]
  },
  {
   "cell_type": "code",
   "execution_count": 1,
   "id": "0f8c9480-0ccd-4355-9c1d-4a3b5a25d705",
   "metadata": {},
   "outputs": [
    {
     "name": "stdout",
     "output_type": "stream",
     "text": [
      "D:\\Repositories\\rit\\ISTE780\\Project\n"
     ]
    }
   ],
   "source": [
    "# Enable hot-reloading of external scripts.\n",
    "%load_ext autoreload\n",
    "%autoreload 2\n",
    "\n",
    "# Set project directory to project root.\n",
    "from pathlib import Path\n",
    "PROJECT_DIR = Path.cwd().resolve().parents[0]\n",
    "%cd {PROJECT_DIR}"
   ]
  },
  {
   "cell_type": "markdown",
   "id": "076158ef-9417-4f2b-bc5d-0e9bef25181c",
   "metadata": {},
   "source": [
    "Import project modules using the following format:\n",
    "\n",
    "```python\n",
    "# Import utilities.\n",
    "from src.data import *\n",
    "from src.features import *\n",
    "```\n",
    "\n",
    "Check details about `conda` and `doit` using the following Jupyter magics:\n",
    "\n",
    "```python\n",
    "# Verify your conda details.\n",
    "!conda info\n",
    "# List the possible tasks.\n",
    "!doit list\n",
    "```"
   ]
  }
 ],
 "metadata": {
  "kernelspec": {
   "display_name": "Python 3 (ipykernel)",
   "language": "python",
   "name": "python3"
  },
  "language_info": {
   "codemirror_mode": {
    "name": "ipython",
    "version": 3
   },
   "file_extension": ".py",
   "mimetype": "text/x-python",
   "name": "python",
   "nbconvert_exporter": "python",
   "pygments_lexer": "ipython3",
   "version": "3.9.7"
  }
 },
 "nbformat": 4,
 "nbformat_minor": 5
}
