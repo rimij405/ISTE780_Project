{
 "cells": [
  {
   "cell_type": "markdown",
   "id": "60462dd1-07f4-46c2-9606-f0f4b4d75dea",
   "metadata": {
    "tags": []
   },
   "source": [
    "# Checkpoint 3 - Multi-Class Classification of Walmart Product Data\n",
    "\n",
    "## Overview\n",
    "\n",
    "Our group is exploring the feasibility to predict price ranges from written Walmart product descriptions. In this report, we discuss the performance of several classifier models and review the results of our tuning process for our core algorithim.\n",
    "\n",
    "We explore the following models:\n",
    "\n",
    "1. $k$-Nearest Neighbors (Core Algorithm)\n",
    "1. Logistic Regression\n",
    "1. Random Forest\n",
    "1. Linear SVM"
   ]
  },
  {
   "cell_type": "code",
   "execution_count": 1,
   "id": "69cc37ba-b438-4939-9811-b708ac11abd0",
   "metadata": {},
   "outputs": [
    {
     "name": "stdout",
     "output_type": "stream",
     "text": [
      "D:\\Repositories\\rit\\ISTE780\\Project\n"
     ]
    }
   ],
   "source": [
    "# Update the working directory to be the project root directory.\n",
    "from pathlib import Path, PurePosixPath\n",
    "PROJECT_DIR = Path.cwd().resolve().parents[0]\n",
    "%cd {PROJECT_DIR}"
   ]
  },
  {
   "cell_type": "code",
   "execution_count": 2,
   "id": "b0f7a046-3529-4406-be2d-82740ae4d5cf",
   "metadata": {},
   "outputs": [
    {
     "name": "stdout",
     "output_type": "stream",
     "text": [
      "clean_data        Clean the raw dataset (.csv) and place in the interim folder.\n",
      "create_data_dir   Create the data directory.\n",
      "create_env        Create new conda environment using 'environment.yaml'.\n",
      "download_data     Download the dataset from Kaggle.\n",
      "unpack_data       Unpack the raw dataset (.zip) as the (.csv) file.\n",
      "update_env        Update existing conda environment using 'environment.yaml'.\n"
     ]
    }
   ],
   "source": [
    "# Display list of available pipeline tasks.\n",
    "!doit list"
   ]
  },
  {
   "cell_type": "markdown",
   "id": "8acb8206-051b-408d-b34d-0174ce74df15",
   "metadata": {},
   "source": [
    "## Data Review\n",
    "\n",
    "The data used to fit our classifiers has received some preprocessing. Notably, we have removed features that were specific to Walmart operations (i.e., Walmart Lot and Item Numbers) and some erroneous features that were missing all or large amounts of data (i.e., the \"Available\" feature in the original dataset). We have also filtered out rows that were inappropriately listed as `$0.00 USD`."
   ]
  },
  {
   "cell_type": "code",
   "execution_count": 52,
   "id": "88f7b6ed-ce44-4cc7-9277-01d3e7252586",
   "metadata": {},
   "outputs": [
    {
     "data": {
      "text/html": [
       "<div>\n",
       "<style scoped>\n",
       "    .dataframe tbody tr th:only-of-type {\n",
       "        vertical-align: middle;\n",
       "    }\n",
       "\n",
       "    .dataframe tbody tr th {\n",
       "        vertical-align: top;\n",
       "    }\n",
       "\n",
       "    .dataframe thead th {\n",
       "        text-align: right;\n",
       "    }\n",
       "</style>\n",
       "<table border=\"1\" class=\"dataframe\">\n",
       "  <thead>\n",
       "    <tr style=\"text-align: right;\">\n",
       "      <th></th>\n",
       "      <th>brand</th>\n",
       "      <th>name</th>\n",
       "      <th>description</th>\n",
       "      <th>category_raw</th>\n",
       "      <th>price_raw</th>\n",
       "      <th>discount_raw</th>\n",
       "      <th>price_range</th>\n",
       "    </tr>\n",
       "  </thead>\n",
       "  <tbody>\n",
       "    <tr>\n",
       "      <th>0</th>\n",
       "      <td>La Costeï¿½ï¿½a</td>\n",
       "      <td>La Costena Chipotle Peppers, 7 OZ (Pack of 12)</td>\n",
       "      <td>We aim to show you accurate product informati...</td>\n",
       "      <td>Food | Meal Solutions, Grains &amp; Pasta | Canned...</td>\n",
       "      <td>31.93</td>\n",
       "      <td>31.93</td>\n",
       "      <td>(30, 35]</td>\n",
       "    </tr>\n",
       "    <tr>\n",
       "      <th>1</th>\n",
       "      <td>Equate</td>\n",
       "      <td>Equate Triamcinolone Acetonide Nasal Allergy S...</td>\n",
       "      <td>We aim to show you accurate product informati...</td>\n",
       "      <td>Health | Equate | Equate Allergy | Equate Sinu...</td>\n",
       "      <td>10.48</td>\n",
       "      <td>10.48</td>\n",
       "      <td>(10, 20]</td>\n",
       "    </tr>\n",
       "    <tr>\n",
       "      <th>2</th>\n",
       "      <td>AduroSmart ERIA</td>\n",
       "      <td>AduroSmart ERIA Soft White Smart A19 Light Bul...</td>\n",
       "      <td>We aim to show you accurate product informati...</td>\n",
       "      <td>Electronics | Smart Home | Smart Energy and Li...</td>\n",
       "      <td>10.99</td>\n",
       "      <td>10.99</td>\n",
       "      <td>(10, 20]</td>\n",
       "    </tr>\n",
       "    <tr>\n",
       "      <th>3</th>\n",
       "      <td>lowrider</td>\n",
       "      <td>24\" Classic Adjustable Balloon Fender Set Chro...</td>\n",
       "      <td>We aim to show you accurate product informati...</td>\n",
       "      <td>Sports &amp; Outdoors | Bikes | Bike Accessories |...</td>\n",
       "      <td>38.59</td>\n",
       "      <td>38.59</td>\n",
       "      <td>(35, 40]</td>\n",
       "    </tr>\n",
       "    <tr>\n",
       "      <th>4</th>\n",
       "      <td>Anself</td>\n",
       "      <td>Elephant Shape Silicone Drinkware Portable Sil...</td>\n",
       "      <td>We aim to show you accurate product informati...</td>\n",
       "      <td>Baby | Feeding | Sippy Cups: Alternatives to P...</td>\n",
       "      <td>5.81</td>\n",
       "      <td>5.81</td>\n",
       "      <td>(0, 10]</td>\n",
       "    </tr>\n",
       "  </tbody>\n",
       "</table>\n",
       "</div>"
      ],
      "text/plain": [
       "             brand                                               name  \\\n",
       "0  La Costeï¿½ï¿½a     La Costena Chipotle Peppers, 7 OZ (Pack of 12)   \n",
       "1           Equate  Equate Triamcinolone Acetonide Nasal Allergy S...   \n",
       "2  AduroSmart ERIA  AduroSmart ERIA Soft White Smart A19 Light Bul...   \n",
       "3         lowrider  24\" Classic Adjustable Balloon Fender Set Chro...   \n",
       "4           Anself  Elephant Shape Silicone Drinkware Portable Sil...   \n",
       "\n",
       "                                         description  \\\n",
       "0   We aim to show you accurate product informati...   \n",
       "1   We aim to show you accurate product informati...   \n",
       "2   We aim to show you accurate product informati...   \n",
       "3   We aim to show you accurate product informati...   \n",
       "4   We aim to show you accurate product informati...   \n",
       "\n",
       "                                        category_raw  price_raw  discount_raw  \\\n",
       "0  Food | Meal Solutions, Grains & Pasta | Canned...      31.93         31.93   \n",
       "1  Health | Equate | Equate Allergy | Equate Sinu...      10.48         10.48   \n",
       "2  Electronics | Smart Home | Smart Energy and Li...      10.99         10.99   \n",
       "3  Sports & Outdoors | Bikes | Bike Accessories |...      38.59         38.59   \n",
       "4  Baby | Feeding | Sippy Cups: Alternatives to P...       5.81          5.81   \n",
       "\n",
       "  price_range  \n",
       "0    (30, 35]  \n",
       "1    (10, 20]  \n",
       "2    (10, 20]  \n",
       "3    (35, 40]  \n",
       "4     (0, 10]  "
      ]
     },
     "execution_count": 52,
     "metadata": {},
     "output_type": "execute_result"
    }
   ],
   "source": [
    "import pandas as pd\n",
    "import numpy as np\n",
    "import matplotlib.pyplot as plt\n",
    "from IPython.core.display import display\n",
    "data_uri = \"data/interim/ecommerce_data-cleaned-0.2.2.csv\"\n",
    "products_raw = pd.read_csv(data_uri, index_col=0)\n",
    "products_raw.head()"
   ]
  },
  {
   "cell_type": "markdown",
   "id": "ce5616ce-0e91-4dd4-a440-119f1c450a86",
   "metadata": {},
   "source": [
    "We would like to perform some preliminary preprocessing on the text fields, to ensure they place nicely with our classifiers."
   ]
  },
  {
   "cell_type": "code",
   "execution_count": 5,
   "id": "317fd6b3-3eea-4f6a-9d93-e8fde2c846e1",
   "metadata": {},
   "outputs": [
    {
     "name": "stderr",
     "output_type": "stream",
     "text": [
      "[nltk_data] Downloading package stopwords to\n",
      "[nltk_data]     C:\\Users\\effen\\AppData\\Roaming\\nltk_data...\n",
      "[nltk_data]   Package stopwords is already up-to-date!\n"
     ]
    },
    {
     "data": {
      "text/plain": [
       "True"
      ]
     },
     "execution_count": 5,
     "metadata": {},
     "output_type": "execute_result"
    }
   ],
   "source": [
    "# Download stopwords.\n",
    "import nltk\n",
    "import ssl\n",
    "try:\n",
    "    _create_unverified_https_context = ssl._create_unverified_context\n",
    "except AttributeError:\n",
    "    pass\n",
    "else:\n",
    "    ssl._create_default_https_context = _create_unverified_https_context\n",
    "nltk.download('stopwords')"
   ]
  },
  {
   "cell_type": "code",
   "execution_count": 6,
   "id": "deb5a6c9-6fba-450f-82a9-01f66262eab9",
   "metadata": {},
   "outputs": [],
   "source": [
    "# Get the stopwords.\n",
    "from nltk.corpus import stopwords\n",
    "from nltk.stem import PorterStemmer\n",
    "import regex\n",
    "\n",
    "# Setup function for cleaning text fields of stop words.\n",
    "words = stopwords.words(\"english\")\n",
    "stemmer = PorterStemmer()\n",
    "def clean_text(feature):\n",
    "    return \" \".join([stemmer.stem(i) for i in regex.sub(\"[^a-zA-Z0-9]\", \" \", feature).split() if i not in words]).lower()"
   ]
  },
  {
   "cell_type": "code",
   "execution_count": 25,
   "id": "1b248112-8489-4053-bd96-353d4133352e",
   "metadata": {},
   "outputs": [
    {
     "data": {
      "text/html": [
       "<div>\n",
       "<style scoped>\n",
       "    .dataframe tbody tr th:only-of-type {\n",
       "        vertical-align: middle;\n",
       "    }\n",
       "\n",
       "    .dataframe tbody tr th {\n",
       "        vertical-align: top;\n",
       "    }\n",
       "\n",
       "    .dataframe thead th {\n",
       "        text-align: right;\n",
       "    }\n",
       "</style>\n",
       "<table border=\"1\" class=\"dataframe\">\n",
       "  <thead>\n",
       "    <tr style=\"text-align: right;\">\n",
       "      <th></th>\n",
       "      <th>brand</th>\n",
       "      <th>name</th>\n",
       "      <th>description</th>\n",
       "      <th>category_raw</th>\n",
       "      <th>price_raw</th>\n",
       "      <th>discount_raw</th>\n",
       "      <th>price_range</th>\n",
       "    </tr>\n",
       "  </thead>\n",
       "  <tbody>\n",
       "    <tr>\n",
       "      <th>0</th>\n",
       "      <td>la cost</td>\n",
       "      <td>la costena chipotl pepper 7 oz pack 12</td>\n",
       "      <td>we aim show accur product inform manufactur su...</td>\n",
       "      <td>Food | Meal Solutions, Grains &amp; Pasta | Canned...</td>\n",
       "      <td>31.93</td>\n",
       "      <td>31.93</td>\n",
       "      <td>(30, 35]</td>\n",
       "    </tr>\n",
       "    <tr>\n",
       "      <th>1</th>\n",
       "      <td>equat</td>\n",
       "      <td>equat triamcinolon acetonid nasal allergi spra...</td>\n",
       "      <td>we aim show accur product inform manufactur su...</td>\n",
       "      <td>Health | Equate | Equate Allergy | Equate Sinu...</td>\n",
       "      <td>10.48</td>\n",
       "      <td>10.48</td>\n",
       "      <td>(10, 20]</td>\n",
       "    </tr>\n",
       "    <tr>\n",
       "      <th>2</th>\n",
       "      <td>adurosmart eria</td>\n",
       "      <td>adurosmart eria soft white smart a19 light bul...</td>\n",
       "      <td>we aim show accur product inform manufactur su...</td>\n",
       "      <td>Electronics | Smart Home | Smart Energy and Li...</td>\n",
       "      <td>10.99</td>\n",
       "      <td>10.99</td>\n",
       "      <td>(10, 20]</td>\n",
       "    </tr>\n",
       "    <tr>\n",
       "      <th>3</th>\n",
       "      <td>lowrid</td>\n",
       "      <td>24 classic adjust balloon fender set chrome bi...</td>\n",
       "      <td>we aim show accur product inform manufactur su...</td>\n",
       "      <td>Sports &amp; Outdoors | Bikes | Bike Accessories |...</td>\n",
       "      <td>38.59</td>\n",
       "      <td>38.59</td>\n",
       "      <td>(35, 40]</td>\n",
       "    </tr>\n",
       "    <tr>\n",
       "      <th>4</th>\n",
       "      <td>anself</td>\n",
       "      <td>eleph shape silicon drinkwar portabl silicon c...</td>\n",
       "      <td>we aim show accur product inform manufactur su...</td>\n",
       "      <td>Baby | Feeding | Sippy Cups: Alternatives to P...</td>\n",
       "      <td>5.81</td>\n",
       "      <td>5.81</td>\n",
       "      <td>(0, 10]</td>\n",
       "    </tr>\n",
       "    <tr>\n",
       "      <th>...</th>\n",
       "      <td>...</td>\n",
       "      <td>...</td>\n",
       "      <td>...</td>\n",
       "      <td>...</td>\n",
       "      <td>...</td>\n",
       "      <td>...</td>\n",
       "      <td>...</td>\n",
       "    </tr>\n",
       "    <tr>\n",
       "      <th>2027</th>\n",
       "      <td>dr scholl</td>\n",
       "      <td>dr scholl clear away wart remov plantar 24 eac...</td>\n",
       "      <td>we aim show accur product inform manufactur su...</td>\n",
       "      <td>Health | Foot Care | Wart Removers</td>\n",
       "      <td>30.82</td>\n",
       "      <td>30.82</td>\n",
       "      <td>(30, 35]</td>\n",
       "    </tr>\n",
       "    <tr>\n",
       "      <th>2028</th>\n",
       "      <td>costa del mar</td>\n",
       "      <td>costa neon trucker black twill hat neon blue</td>\n",
       "      <td>we aim show accur product inform manufactur su...</td>\n",
       "      <td>Clothing | Bags &amp; Accessories | Mens Bags &amp; Ac...</td>\n",
       "      <td>50.85</td>\n",
       "      <td>50.85</td>\n",
       "      <td>(50, 100]</td>\n",
       "    </tr>\n",
       "    <tr>\n",
       "      <th>2029</th>\n",
       "      <td>the seawe bath co</td>\n",
       "      <td>the seawe bath co awaken rosemari mint firm de...</td>\n",
       "      <td>we aim show accur product inform manufactur su...</td>\n",
       "      <td>Personal Care | Bath &amp; Body | Body Lotions &amp; C...</td>\n",
       "      <td>13.61</td>\n",
       "      <td>13.61</td>\n",
       "      <td>(10, 20]</td>\n",
       "    </tr>\n",
       "    <tr>\n",
       "      <th>2030</th>\n",
       "      <td>wilson</td>\n",
       "      <td>wilson burn 100ul tenni racquet</td>\n",
       "      <td>we aim show accur product inform manufactur su...</td>\n",
       "      <td>Sports &amp; Outdoors | Sports | Tennis &amp; Racquets...</td>\n",
       "      <td>139.00</td>\n",
       "      <td>139.00</td>\n",
       "      <td>(100, 100+]</td>\n",
       "    </tr>\n",
       "    <tr>\n",
       "      <th>2031</th>\n",
       "      <td></td>\n",
       "      <td>36pc box foot corn remov plaster hole wart tho...</td>\n",
       "      <td>we aim show accur product inform manufactur su...</td>\n",
       "      <td>Health | Foot Care | Corn &amp; Callus Removers</td>\n",
       "      <td>5.89</td>\n",
       "      <td>5.89</td>\n",
       "      <td>(0, 10]</td>\n",
       "    </tr>\n",
       "  </tbody>\n",
       "</table>\n",
       "<p>2000 rows × 7 columns</p>\n",
       "</div>"
      ],
      "text/plain": [
       "                  brand                                               name  \\\n",
       "0               la cost             la costena chipotl pepper 7 oz pack 12   \n",
       "1                 equat  equat triamcinolon acetonid nasal allergi spra...   \n",
       "2       adurosmart eria  adurosmart eria soft white smart a19 light bul...   \n",
       "3                lowrid  24 classic adjust balloon fender set chrome bi...   \n",
       "4                anself  eleph shape silicon drinkwar portabl silicon c...   \n",
       "...                 ...                                                ...   \n",
       "2027          dr scholl  dr scholl clear away wart remov plantar 24 eac...   \n",
       "2028      costa del mar       costa neon trucker black twill hat neon blue   \n",
       "2029  the seawe bath co  the seawe bath co awaken rosemari mint firm de...   \n",
       "2030             wilson                    wilson burn 100ul tenni racquet   \n",
       "2031                     36pc box foot corn remov plaster hole wart tho...   \n",
       "\n",
       "                                            description  \\\n",
       "0     we aim show accur product inform manufactur su...   \n",
       "1     we aim show accur product inform manufactur su...   \n",
       "2     we aim show accur product inform manufactur su...   \n",
       "3     we aim show accur product inform manufactur su...   \n",
       "4     we aim show accur product inform manufactur su...   \n",
       "...                                                 ...   \n",
       "2027  we aim show accur product inform manufactur su...   \n",
       "2028  we aim show accur product inform manufactur su...   \n",
       "2029  we aim show accur product inform manufactur su...   \n",
       "2030  we aim show accur product inform manufactur su...   \n",
       "2031  we aim show accur product inform manufactur su...   \n",
       "\n",
       "                                           category_raw  price_raw  \\\n",
       "0     Food | Meal Solutions, Grains & Pasta | Canned...      31.93   \n",
       "1     Health | Equate | Equate Allergy | Equate Sinu...      10.48   \n",
       "2     Electronics | Smart Home | Smart Energy and Li...      10.99   \n",
       "3     Sports & Outdoors | Bikes | Bike Accessories |...      38.59   \n",
       "4     Baby | Feeding | Sippy Cups: Alternatives to P...       5.81   \n",
       "...                                                 ...        ...   \n",
       "2027                 Health | Foot Care | Wart Removers      30.82   \n",
       "2028  Clothing | Bags & Accessories | Mens Bags & Ac...      50.85   \n",
       "2029  Personal Care | Bath & Body | Body Lotions & C...      13.61   \n",
       "2030  Sports & Outdoors | Sports | Tennis & Racquets...     139.00   \n",
       "2031        Health | Foot Care | Corn & Callus Removers       5.89   \n",
       "\n",
       "      discount_raw  price_range  \n",
       "0            31.93     (30, 35]  \n",
       "1            10.48     (10, 20]  \n",
       "2            10.99     (10, 20]  \n",
       "3            38.59     (35, 40]  \n",
       "4             5.81      (0, 10]  \n",
       "...            ...          ...  \n",
       "2027         30.82     (30, 35]  \n",
       "2028         50.85    (50, 100]  \n",
       "2029         13.61     (10, 20]  \n",
       "2030        139.00  (100, 100+]  \n",
       "2031          5.89      (0, 10]  \n",
       "\n",
       "[2000 rows x 7 columns]"
      ]
     },
     "metadata": {},
     "output_type": "display_data"
    }
   ],
   "source": [
    "# Clean the brand, name, and description fields.\n",
    "products = products_raw.iloc[:2000,].copy()\n",
    "products['name'] = products.name.fillna(\"\").apply(clean_text)\n",
    "products['brand'] = products.brand.fillna(\"\").apply(clean_text)\n",
    "products['description'] = products.description.fillna(\"\").apply(clean_text)\n",
    "products['category_raw'] = products.category_raw.fillna(\"\")\n",
    "display(products)"
   ]
  },
  {
   "cell_type": "markdown",
   "id": "d9616954-abc2-4ade-bc5a-5559bf6f3085",
   "metadata": {},
   "source": [
    "## Pipeline Setup\n",
    "\n",
    "The following steps prepare the train test splits for the classifiers."
   ]
  },
  {
   "cell_type": "code",
   "execution_count": 26,
   "id": "43b55467-e62d-4d82-a6ec-d192ccd44dac",
   "metadata": {},
   "outputs": [
    {
     "data": {
      "text/plain": [
       "'X train: (1500, 4)'"
      ]
     },
     "metadata": {},
     "output_type": "display_data"
    },
    {
     "data": {
      "text/plain": [
       "'y train: (1500,)'"
      ]
     },
     "metadata": {},
     "output_type": "display_data"
    },
    {
     "data": {
      "text/plain": [
       "'X test: (500, 4)'"
      ]
     },
     "metadata": {},
     "output_type": "display_data"
    },
    {
     "data": {
      "text/plain": [
       "'y test: (500,)'"
      ]
     },
     "metadata": {},
     "output_type": "display_data"
    },
    {
     "data": {
      "text/html": [
       "<div>\n",
       "<style scoped>\n",
       "    .dataframe tbody tr th:only-of-type {\n",
       "        vertical-align: middle;\n",
       "    }\n",
       "\n",
       "    .dataframe tbody tr th {\n",
       "        vertical-align: top;\n",
       "    }\n",
       "\n",
       "    .dataframe thead th {\n",
       "        text-align: right;\n",
       "    }\n",
       "</style>\n",
       "<table border=\"1\" class=\"dataframe\">\n",
       "  <thead>\n",
       "    <tr style=\"text-align: right;\">\n",
       "      <th></th>\n",
       "      <th>brand</th>\n",
       "      <th>name</th>\n",
       "      <th>description</th>\n",
       "      <th>category_raw</th>\n",
       "    </tr>\n",
       "  </thead>\n",
       "  <tbody>\n",
       "    <tr>\n",
       "      <th>0</th>\n",
       "      <td>la cost</td>\n",
       "      <td>la costena chipotl pepper 7 oz pack 12</td>\n",
       "      <td>we aim show accur product inform manufactur su...</td>\n",
       "      <td>Food | Meal Solutions, Grains &amp; Pasta | Canned...</td>\n",
       "    </tr>\n",
       "    <tr>\n",
       "      <th>1</th>\n",
       "      <td>equat</td>\n",
       "      <td>equat triamcinolon acetonid nasal allergi spra...</td>\n",
       "      <td>we aim show accur product inform manufactur su...</td>\n",
       "      <td>Health | Equate | Equate Allergy | Equate Sinu...</td>\n",
       "    </tr>\n",
       "    <tr>\n",
       "      <th>2</th>\n",
       "      <td>adurosmart eria</td>\n",
       "      <td>adurosmart eria soft white smart a19 light bul...</td>\n",
       "      <td>we aim show accur product inform manufactur su...</td>\n",
       "      <td>Electronics | Smart Home | Smart Energy and Li...</td>\n",
       "    </tr>\n",
       "    <tr>\n",
       "      <th>3</th>\n",
       "      <td>lowrid</td>\n",
       "      <td>24 classic adjust balloon fender set chrome bi...</td>\n",
       "      <td>we aim show accur product inform manufactur su...</td>\n",
       "      <td>Sports &amp; Outdoors | Bikes | Bike Accessories |...</td>\n",
       "    </tr>\n",
       "    <tr>\n",
       "      <th>4</th>\n",
       "      <td>anself</td>\n",
       "      <td>eleph shape silicon drinkwar portabl silicon c...</td>\n",
       "      <td>we aim show accur product inform manufactur su...</td>\n",
       "      <td>Baby | Feeding | Sippy Cups: Alternatives to P...</td>\n",
       "    </tr>\n",
       "    <tr>\n",
       "      <th>...</th>\n",
       "      <td>...</td>\n",
       "      <td>...</td>\n",
       "      <td>...</td>\n",
       "      <td>...</td>\n",
       "    </tr>\n",
       "    <tr>\n",
       "      <th>2027</th>\n",
       "      <td>dr scholl</td>\n",
       "      <td>dr scholl clear away wart remov plantar 24 eac...</td>\n",
       "      <td>we aim show accur product inform manufactur su...</td>\n",
       "      <td>Health | Foot Care | Wart Removers</td>\n",
       "    </tr>\n",
       "    <tr>\n",
       "      <th>2028</th>\n",
       "      <td>costa del mar</td>\n",
       "      <td>costa neon trucker black twill hat neon blue</td>\n",
       "      <td>we aim show accur product inform manufactur su...</td>\n",
       "      <td>Clothing | Bags &amp; Accessories | Mens Bags &amp; Ac...</td>\n",
       "    </tr>\n",
       "    <tr>\n",
       "      <th>2029</th>\n",
       "      <td>the seawe bath co</td>\n",
       "      <td>the seawe bath co awaken rosemari mint firm de...</td>\n",
       "      <td>we aim show accur product inform manufactur su...</td>\n",
       "      <td>Personal Care | Bath &amp; Body | Body Lotions &amp; C...</td>\n",
       "    </tr>\n",
       "    <tr>\n",
       "      <th>2030</th>\n",
       "      <td>wilson</td>\n",
       "      <td>wilson burn 100ul tenni racquet</td>\n",
       "      <td>we aim show accur product inform manufactur su...</td>\n",
       "      <td>Sports &amp; Outdoors | Sports | Tennis &amp; Racquets...</td>\n",
       "    </tr>\n",
       "    <tr>\n",
       "      <th>2031</th>\n",
       "      <td></td>\n",
       "      <td>36pc box foot corn remov plaster hole wart tho...</td>\n",
       "      <td>we aim show accur product inform manufactur su...</td>\n",
       "      <td>Health | Foot Care | Corn &amp; Callus Removers</td>\n",
       "    </tr>\n",
       "  </tbody>\n",
       "</table>\n",
       "<p>2000 rows × 4 columns</p>\n",
       "</div>"
      ],
      "text/plain": [
       "                  brand                                               name  \\\n",
       "0               la cost             la costena chipotl pepper 7 oz pack 12   \n",
       "1                 equat  equat triamcinolon acetonid nasal allergi spra...   \n",
       "2       adurosmart eria  adurosmart eria soft white smart a19 light bul...   \n",
       "3                lowrid  24 classic adjust balloon fender set chrome bi...   \n",
       "4                anself  eleph shape silicon drinkwar portabl silicon c...   \n",
       "...                 ...                                                ...   \n",
       "2027          dr scholl  dr scholl clear away wart remov plantar 24 eac...   \n",
       "2028      costa del mar       costa neon trucker black twill hat neon blue   \n",
       "2029  the seawe bath co  the seawe bath co awaken rosemari mint firm de...   \n",
       "2030             wilson                    wilson burn 100ul tenni racquet   \n",
       "2031                     36pc box foot corn remov plaster hole wart tho...   \n",
       "\n",
       "                                            description  \\\n",
       "0     we aim show accur product inform manufactur su...   \n",
       "1     we aim show accur product inform manufactur su...   \n",
       "2     we aim show accur product inform manufactur su...   \n",
       "3     we aim show accur product inform manufactur su...   \n",
       "4     we aim show accur product inform manufactur su...   \n",
       "...                                                 ...   \n",
       "2027  we aim show accur product inform manufactur su...   \n",
       "2028  we aim show accur product inform manufactur su...   \n",
       "2029  we aim show accur product inform manufactur su...   \n",
       "2030  we aim show accur product inform manufactur su...   \n",
       "2031  we aim show accur product inform manufactur su...   \n",
       "\n",
       "                                           category_raw  \n",
       "0     Food | Meal Solutions, Grains & Pasta | Canned...  \n",
       "1     Health | Equate | Equate Allergy | Equate Sinu...  \n",
       "2     Electronics | Smart Home | Smart Energy and Li...  \n",
       "3     Sports & Outdoors | Bikes | Bike Accessories |...  \n",
       "4     Baby | Feeding | Sippy Cups: Alternatives to P...  \n",
       "...                                                 ...  \n",
       "2027                 Health | Foot Care | Wart Removers  \n",
       "2028  Clothing | Bags & Accessories | Mens Bags & Ac...  \n",
       "2029  Personal Care | Bath & Body | Body Lotions & C...  \n",
       "2030  Sports & Outdoors | Sports | Tennis & Racquets...  \n",
       "2031        Health | Foot Care | Corn & Callus Removers  \n",
       "\n",
       "[2000 rows x 4 columns]"
      ]
     },
     "metadata": {},
     "output_type": "display_data"
    },
    {
     "data": {
      "text/plain": [
       "array([5, 1, 1, ..., 1, 2, 0])"
      ]
     },
     "metadata": {},
     "output_type": "display_data"
    }
   ],
   "source": [
    "# Prepare the train/test splits.\n",
    "from sklearn.model_selection import train_test_split\n",
    "from sklearn.preprocessing import LabelEncoder\n",
    "\n",
    "# Split data into features and labels:\n",
    "X = products.loc[:,'brand':'category_raw']\n",
    "\n",
    "# Encode labels.\n",
    "le = LabelEncoder()\n",
    "le.fit(products.loc[:,'price_range'].unique())\n",
    "y = le.transform(products.loc[:,'price_range'])\n",
    "\n",
    "# Split into the train test splits.\n",
    "X_train, X_test, y_train, y_test = train_test_split(X, y, test_size=0.25)\n",
    "display(f\"X train: {X_train.shape}\")\n",
    "display(f\"y train: {y_train.shape}\")\n",
    "display(f\"X test: {X_test.shape}\")\n",
    "display(f\"y test: {y_test.shape}\")\n",
    "display(X,y)\n",
    "# display(le.inverse_transform(y_test))"
   ]
  },
  {
   "cell_type": "code",
   "execution_count": 27,
   "id": "685d9de1-7f00-4f49-8292-78bdc303b32e",
   "metadata": {},
   "outputs": [],
   "source": [
    "# Prepare the pipeline.\n",
    "from sklearn.pipeline import Pipeline\n",
    "from sklearn.compose import ColumnTransformer\n",
    "from sklearn.feature_selection import SelectKBest, chi2\n",
    "from sklearn.feature_extraction.text import TfidfVectorizer\n",
    "\n",
    "vectorizer = TfidfVectorizer(stop_words=\"english\", sublinear_tf=True, norm='l2')\n",
    "column_transformer = ColumnTransformer([('name', vectorizer, 'name'),\n",
    "                                        ('description', vectorizer, 'description'),\n",
    "                                        ('brand', vectorizer, 'brand'),\n",
    "                                        ('category_raw', vectorizer, 'category_raw'),\n",
    "                                       ], remainder='drop', verbose_feature_names_out=False)"
   ]
  },
  {
   "cell_type": "code",
   "execution_count": 34,
   "id": "d41b973b-ad2c-4a23-9e61-a6071d37e8bc",
   "metadata": {},
   "outputs": [],
   "source": [
    "# Metric calculation function:\n",
    "from sklearn.metrics import classification_report, confusion_matrix\n",
    "def show_metrics(clf, test_X, test_y):\n",
    "    print(f'Classification score: {clf.score(test_X, test_y) * 100}%')\n",
    "    print(classification_report(np.array(test_y), clf.predict(test_X), zero_division=0))\n",
    "    print(confusion_matrix(np.array(test_y), clf.predict(test_X)))"
   ]
  },
  {
   "cell_type": "markdown",
   "id": "d7519ea2-a968-4d50-b2f0-16186e265d67",
   "metadata": {},
   "source": [
    "## Baseline Classifier\n",
    "\n",
    "In order to compare our models to a reasonable baseline, we fit the model features using a `DummyClassifier` that makes predictions using simple rules."
   ]
  },
  {
   "cell_type": "code",
   "execution_count": 28,
   "id": "ad84a9b9-6f88-43d7-aee2-e28e21096071",
   "metadata": {},
   "outputs": [
    {
     "data": {
      "text/plain": [
       "Pipeline(steps=[('vect',\n",
       "                 ColumnTransformer(transformers=[('name',\n",
       "                                                  TfidfVectorizer(stop_words='english',\n",
       "                                                                  sublinear_tf=True),\n",
       "                                                  'name'),\n",
       "                                                 ('description',\n",
       "                                                  TfidfVectorizer(stop_words='english',\n",
       "                                                                  sublinear_tf=True),\n",
       "                                                  'description'),\n",
       "                                                 ('brand',\n",
       "                                                  TfidfVectorizer(stop_words='english',\n",
       "                                                                  sublinear_tf=True),\n",
       "                                                  'brand'),\n",
       "                                                 ('category_raw',\n",
       "                                                  TfidfVectorizer(stop_words='english',\n",
       "                                                                  sublinear_tf=True),\n",
       "                                                  'category_raw')],\n",
       "                                   verbose_feature_names_out=False)),\n",
       "                ('chi',\n",
       "                 SelectKBest(k=50,\n",
       "                             score_func=<function chi2 at 0x000001E1325B30D0>)),\n",
       "                ('clf', DummyClassifier(strategy='stratified'))])"
      ]
     },
     "execution_count": 28,
     "metadata": {},
     "output_type": "execute_result"
    }
   ],
   "source": [
    "# Import the DummyClassifier\n",
    "from sklearn.dummy import DummyClassifier\n",
    "\n",
    "# Create the DummyClassifier pipeline.\n",
    "clf_dummy = Pipeline([('vect', column_transformer),\n",
    "                      ('chi', SelectKBest(chi2, k=50)),\n",
    "                      ('clf', DummyClassifier(strategy='stratified'))])\n",
    "\n",
    "# Fit the dummy classifier.\n",
    "clf_dummy.fit(X_train, y_train)"
   ]
  },
  {
   "cell_type": "code",
   "execution_count": 35,
   "id": "25f31d88-b89e-4a3d-b635-77a4d50fa213",
   "metadata": {},
   "outputs": [
    {
     "name": "stdout",
     "output_type": "stream",
     "text": [
      "Classification score: 15.0%\n",
      "              precision    recall  f1-score   support\n",
      "\n",
      "           0       0.26      0.25      0.26       110\n",
      "           1       0.22      0.22      0.22       123\n",
      "           2       0.10      0.14      0.12        50\n",
      "           3       0.06      0.06      0.06        47\n",
      "           4       0.04      0.03      0.03        36\n",
      "           5       0.04      0.04      0.04        25\n",
      "           6       0.00      0.00      0.00        17\n",
      "           7       0.00      0.00      0.00        17\n",
      "           8       0.10      0.06      0.08        16\n",
      "           9       0.08      0.08      0.08        59\n",
      "\n",
      "    accuracy                           0.15       500\n",
      "   macro avg       0.09      0.09      0.09       500\n",
      "weighted avg       0.14      0.15      0.14       500\n",
      "\n",
      "[[25 27 12 12  2 11  4  4  2 11]\n",
      " [32 34 17  6  6 13  5  1  3  6]\n",
      " [ 7 15  9  3  2  1  4  1  1  7]\n",
      " [10 13  8  4  1  3  0  1  0  7]\n",
      " [ 7  8  4  5  3  2  0  1  1  5]\n",
      " [ 4  4  4  1  3  2  2  1  0  4]\n",
      " [ 4  4  2  1  2  1  0  0  1  2]\n",
      " [ 6  4  2  0  2  0  1  1  0  1]\n",
      " [ 5  4  0  1  1  2  1  0  0  2]\n",
      " [12 17  7  8  4  2  1  2  1  5]]\n"
     ]
    }
   ],
   "source": [
    "show_metrics(clf_dummy, X_test, y_test)"
   ]
  },
  {
   "cell_type": "markdown",
   "id": "101ee804-fbd6-4be1-bebb-8e67e970dad0",
   "metadata": {},
   "source": [
    "## $k$-Nearest Neighbor Classifier\n",
    "\n",
    "Overview: <What does this classifier do? How does it work?>"
   ]
  },
  {
   "cell_type": "markdown",
   "id": "da48a549-5663-47c3-a9fa-4a595025f157",
   "metadata": {},
   "source": [
    "### Baseline $k$-Nearest Neighbor Summary"
   ]
  },
  {
   "cell_type": "code",
   "execution_count": 30,
   "id": "635af976-18eb-454a-9a90-fe81d2ee52b2",
   "metadata": {},
   "outputs": [],
   "source": [
    "from sklearn.neighbors import KNeighborsClassifier\n",
    "\n",
    "# Create the baseline kNN pipeline\n",
    "clf_kNN = Pipeline([('vect', column_transformer),\n",
    "                      ('chi',  SelectKBest(chi2, k=1200)),\n",
    "                      ('clf', KNeighborsClassifier())])"
   ]
  },
  {
   "cell_type": "code",
   "execution_count": 31,
   "id": "78d0479a-ff0a-4745-9724-c137532cd083",
   "metadata": {},
   "outputs": [
    {
     "data": {
      "text/plain": [
       "Pipeline(steps=[('vect',\n",
       "                 ColumnTransformer(transformers=[('name',\n",
       "                                                  TfidfVectorizer(stop_words='english',\n",
       "                                                                  sublinear_tf=True),\n",
       "                                                  'name'),\n",
       "                                                 ('description',\n",
       "                                                  TfidfVectorizer(stop_words='english',\n",
       "                                                                  sublinear_tf=True),\n",
       "                                                  'description'),\n",
       "                                                 ('brand',\n",
       "                                                  TfidfVectorizer(stop_words='english',\n",
       "                                                                  sublinear_tf=True),\n",
       "                                                  'brand'),\n",
       "                                                 ('category_raw',\n",
       "                                                  TfidfVectorizer(stop_words='english',\n",
       "                                                                  sublinear_tf=True),\n",
       "                                                  'category_raw')],\n",
       "                                   verbose_feature_names_out=False)),\n",
       "                ('chi',\n",
       "                 SelectKBest(k=1200,\n",
       "                             score_func=<function chi2 at 0x000001E1325B30D0>)),\n",
       "                ('clf', KNeighborsClassifier())])"
      ]
     },
     "execution_count": 31,
     "metadata": {},
     "output_type": "execute_result"
    }
   ],
   "source": [
    "# Fit the kNN classifier.\n",
    "clf_kNN.fit(X_train, y_train)"
   ]
  },
  {
   "cell_type": "code",
   "execution_count": 36,
   "id": "d60a127f-6356-4d1c-b50e-f192faf7f06b",
   "metadata": {},
   "outputs": [
    {
     "name": "stdout",
     "output_type": "stream",
     "text": [
      "Classification score: 26.6%\n",
      "              precision    recall  f1-score   support\n",
      "\n",
      "           0       0.29      0.70      0.41       110\n",
      "           1       0.23      0.33      0.27       123\n",
      "           2       0.35      0.26      0.30        50\n",
      "           3       0.00      0.00      0.00        47\n",
      "           4       0.00      0.00      0.00        36\n",
      "           5       0.00      0.00      0.00        25\n",
      "           6       0.00      0.00      0.00        17\n",
      "           7       0.00      0.00      0.00        17\n",
      "           8       0.00      0.00      0.00        16\n",
      "           9       0.20      0.05      0.08        59\n",
      "\n",
      "    accuracy                           0.27       500\n",
      "   macro avg       0.11      0.13      0.11       500\n",
      "weighted avg       0.18      0.27      0.20       500\n",
      "\n",
      "[[77 29  3  0  0  0  0  0  0  1]\n",
      " [71 40  6  3  0  0  0  0  0  3]\n",
      " [13 20 13  2  0  0  0  0  0  2]\n",
      " [23 20  3  0  0  0  0  0  0  1]\n",
      " [18 12  1  1  0  0  1  0  0  3]\n",
      " [12  9  3  1  0  0  0  0  0  0]\n",
      " [ 9  6  0  1  0  0  0  0  0  1]\n",
      " [ 8  6  1  1  0  0  0  0  0  1]\n",
      " [ 8  7  1  0  0  0  0  0  0  0]\n",
      " [27 22  6  1  0  0  0  0  0  3]]\n"
     ]
    }
   ],
   "source": [
    "show_metrics(clf_kNN, X_test, y_test)"
   ]
  },
  {
   "cell_type": "markdown",
   "id": "55e4014f-2042-4b8b-a62e-12c527945e2e",
   "metadata": {},
   "source": [
    "### Tuning the $k$-Nearest Neighbor Classifier"
   ]
  },
  {
   "cell_type": "code",
   "execution_count": 61,
   "id": "28e4123c-5f10-4dec-a9c1-4a221033effc",
   "metadata": {},
   "outputs": [
    {
     "name": "stdout",
     "output_type": "stream",
     "text": [
      "Wall time: 2.89 s\n"
     ]
    }
   ],
   "source": [
    "%%time\n",
    "# Using the elbow method to find optimal K.\n",
    "error_rate = []\n",
    "\n",
    "tuple_range =range(5,12)\n",
    "# Will take some time\n",
    "for i in tuple_range:\n",
    "    elb_KNN = Pipeline([('vect', column_transformer),\n",
    "                      ('chi',  SelectKBest(chi2, k=1200)),\n",
    "                      ('clf', KNeighborsClassifier(n_neighbors=i))])\n",
    "    elb_KNN.fit(X_train, y_train)\n",
    "    y_i = elb_KNN.predict(X_test)\n",
    "    error_rate.append(np.mean(y_i != y_test))"
   ]
  },
  {
   "cell_type": "code",
   "execution_count": 62,
   "id": "049affe8-421c-4b1a-9294-4ba45550d2f4",
   "metadata": {},
   "outputs": [
    {
     "data": {
      "text/plain": [
       "Text(0, 0.5, 'Error Rate')"
      ]
     },
     "execution_count": 62,
     "metadata": {},
     "output_type": "execute_result"
    },
    {
     "data": {
      "image/png": "[encoded data removed]",
      "text/plain": [
       "<Figure size 720x432 with 1 Axes>"
      ]
     },
     "metadata": {
      "needs_background": "light"
     },
     "output_type": "display_data"
    }
   ],
   "source": [
    "plt.figure(figsize=(10,6))\n",
    "plt.plot(tuple_range,error_rate,color='blue', linestyle='dashed', marker='o',\n",
    " markerfacecolor='red', markersize=10)\n",
    "plt.title('Error Rate vs. K Value')\n",
    "plt.xlabel('K')\n",
    "plt.ylabel('Error Rate')"
   ]
  },
  {
   "cell_type": "code",
   "execution_count": 75,
   "id": "c6f28898-ab0c-4f98-993e-75075ed62bdd",
   "metadata": {},
   "outputs": [
    {
     "ename": "ModuleNotFoundError",
     "evalue": "No module named 'seaborn'",
     "output_type": "error",
     "traceback": [
      "\u001b[1;31m---------------------------------------------------------------------------\u001b[0m",
      "\u001b[1;31mModuleNotFoundError\u001b[0m                       Traceback (most recent call last)",
      "\u001b[1;32m~\\AppData\\Local\\Temp/ipykernel_24800/2262558156.py\u001b[0m in \u001b[0;36m<module>\u001b[1;34m\u001b[0m\n\u001b[1;32m----> 1\u001b[1;33m \u001b[1;32mimport\u001b[0m \u001b[0mseaborn\u001b[0m \u001b[1;32mas\u001b[0m \u001b[0msns\u001b[0m\u001b[1;33m\u001b[0m\u001b[1;33m\u001b[0m\u001b[0m\n\u001b[0m\u001b[0;32m      2\u001b[0m \u001b[1;33m\u001b[0m\u001b[0m\n\u001b[0;32m      3\u001b[0m \u001b[0mf\u001b[0m \u001b[1;33m=\u001b[0m \u001b[0mplt\u001b[0m\u001b[1;33m.\u001b[0m\u001b[0mfigure\u001b[0m\u001b[1;33m(\u001b[0m\u001b[0mfigsize\u001b[0m\u001b[1;33m=\u001b[0m\u001b[1;33m(\u001b[0m\u001b[1;36m20\u001b[0m\u001b[1;33m,\u001b[0m\u001b[1;36m4\u001b[0m\u001b[1;33m)\u001b[0m\u001b[1;33m)\u001b[0m\u001b[1;33m\u001b[0m\u001b[1;33m\u001b[0m\u001b[0m\n\u001b[0;32m      4\u001b[0m \u001b[0mf\u001b[0m\u001b[1;33m.\u001b[0m\u001b[0madd_subplot\u001b[0m\u001b[1;33m(\u001b[0m\u001b[1;36m1\u001b[0m\u001b[1;33m,\u001b[0m\u001b[1;36m2\u001b[0m\u001b[1;33m,\u001b[0m\u001b[1;36m1\u001b[0m\u001b[1;33m)\u001b[0m\u001b[1;33m\u001b[0m\u001b[1;33m\u001b[0m\u001b[0m\n\u001b[0;32m      5\u001b[0m \u001b[0msns\u001b[0m\u001b[1;33m.\u001b[0m\u001b[0mdistplot\u001b[0m\u001b[1;33m(\u001b[0m\u001b[0my_train\u001b[0m\u001b[1;33m)\u001b[0m\u001b[1;33m\u001b[0m\u001b[1;33m\u001b[0m\u001b[0m\n",
      "\u001b[1;31mModuleNotFoundError\u001b[0m: No module named 'seaborn'"
     ]
    }
   ],
   "source": [
    "import seaborn as sns\n",
    "\n",
    "f = plt.figure(figsize=(20,4))\n",
    "f.add_subplot(1,2,1)\n",
    "sns.distplot(y_train)\n",
    "f.add_subplot(1,2,2)\n",
    "sns.boxplot(y_train)"
   ]
  },
  {
   "cell_type": "code",
   "execution_count": 72,
   "id": "ab4a0aea-4a20-499c-afde-b2f450cff67f",
   "metadata": {},
   "outputs": [],
   "source": [
    "from sklearn.model_selection import GridSearchCV\n",
    "\n",
    "# Setup GridSearchCV for our model.\n",
    "parameters = {'n_neighbors':range(5,10)}\n",
    "knn = KNeighborsClassifier()\n",
    "cv_KNN = GridSearchCV(knn, parameters)\n",
    "\n",
    "# Create the baseline kNN pipeline\n",
    "clf_kNN2 = Pipeline([('vect', column_transformer),\n",
    "                      ('chi',  SelectKBest(chi2, k=1200)),\n",
    "                      ('clf', cv_KNN)])"
   ]
  },
  {
   "cell_type": "code",
   "execution_count": 73,
   "id": "c548dae9-9d28-4474-b791-33b833cfc174",
   "metadata": {},
   "outputs": [
    {
     "data": {
      "text/plain": [
       "Pipeline(steps=[('vect',\n",
       "                 ColumnTransformer(transformers=[('name',\n",
       "                                                  TfidfVectorizer(stop_words='english',\n",
       "                                                                  sublinear_tf=True),\n",
       "                                                  'name'),\n",
       "                                                 ('description',\n",
       "                                                  TfidfVectorizer(stop_words='english',\n",
       "                                                                  sublinear_tf=True),\n",
       "                                                  'description'),\n",
       "                                                 ('brand',\n",
       "                                                  TfidfVectorizer(stop_words='english',\n",
       "                                                                  sublinear_tf=True),\n",
       "                                                  'brand'),\n",
       "                                                 ('category_raw',\n",
       "                                                  TfidfVectorizer(stop_words='english',\n",
       "                                                                  sublinear_tf=True),\n",
       "                                                  'category_raw')],\n",
       "                                   verbose_feature_names_out=False)),\n",
       "                ('chi',\n",
       "                 SelectKBest(k=1200,\n",
       "                             score_func=<function chi2 at 0x000001E1325B30D0>)),\n",
       "                ('clf',\n",
       "                 GridSearchCV(estimator=KNeighborsClassifier(),\n",
       "                              param_grid={'n_neighbors': range(5, 10)}))])"
      ]
     },
     "execution_count": 73,
     "metadata": {},
     "output_type": "execute_result"
    }
   ],
   "source": [
    "# Fit the kNN classifier.\n",
    "clf_kNN2.fit(X_train, y_train)"
   ]
  },
  {
   "cell_type": "code",
   "execution_count": 74,
   "id": "f4d5f8de-2129-47e7-9aa4-48d06cce685a",
   "metadata": {},
   "outputs": [
    {
     "name": "stdout",
     "output_type": "stream",
     "text": [
      "Classification score: 27.800000000000004%\n",
      "              precision    recall  f1-score   support\n",
      "\n",
      "           0       0.29      0.65      0.40       110\n",
      "           1       0.25      0.42      0.32       123\n",
      "           2       0.39      0.24      0.30        50\n",
      "           3       0.14      0.02      0.04        47\n",
      "           4       0.00      0.00      0.00        36\n",
      "           5       0.00      0.00      0.00        25\n",
      "           6       0.00      0.00      0.00        17\n",
      "           7       0.00      0.00      0.00        17\n",
      "           8       0.00      0.00      0.00        16\n",
      "           9       0.27      0.05      0.09        59\n",
      "\n",
      "    accuracy                           0.28       500\n",
      "   macro avg       0.13      0.14      0.11       500\n",
      "weighted avg       0.21      0.28      0.21       500\n",
      "\n",
      "[[71 36  3  0  0  0  0  0  0  0]\n",
      " [63 52  5  2  0  0  0  0  0  1]\n",
      " [12 21 12  2  0  0  0  0  0  3]\n",
      " [19 24  3  1  0  0  0  0  0  0]\n",
      " [16 17  1  1  0  0  0  0  0  1]\n",
      " [12 10  3  0  0  0  0  0  0  0]\n",
      " [ 8  8  0  0  0  0  0  0  0  1]\n",
      " [ 7  8  1  0  0  0  0  0  0  1]\n",
      " [ 8  6  1  0  0  0  0  0  0  1]\n",
      " [28 25  2  1  0  0  0  0  0  3]]\n"
     ]
    }
   ],
   "source": [
    "show_metrics(clf_kNN2, X_test, y_test)"
   ]
  },
  {
   "cell_type": "markdown",
   "id": "d3251131-84ab-4109-af44-d3eb55fb5596",
   "metadata": {},
   "source": [
    "## Logistic Regression\n",
    "\n",
    "Overview: <What does this classifier do? How does it work?>"
   ]
  },
  {
   "cell_type": "code",
   "execution_count": 38,
   "id": "f71af7f8-5e1b-4e15-a877-84bacc235d99",
   "metadata": {},
   "outputs": [],
   "source": [
    "from sklearn.linear_model import LogisticRegression\n",
    "\n",
    "# Create the LogisticRegression pipeline.\n",
    "clf_logreg = Pipeline([('vect', column_transformer),\n",
    "                      ('chi', SelectKBest(chi2, k=50)),\n",
    "                      ('clf', LogisticRegression(multi_class='multinomial', max_iter=1000))])"
   ]
  },
  {
   "cell_type": "code",
   "execution_count": 39,
   "id": "d27eb1c4-be90-42be-97c7-d8063d4b9935",
   "metadata": {},
   "outputs": [
    {
     "name": "stdout",
     "output_type": "stream",
     "text": [
      "Classification score: 25.0%\n",
      "              precision    recall  f1-score   support\n",
      "\n",
      "           0       0.33      0.02      0.03       110\n",
      "           1       0.25      0.98      0.40       123\n",
      "           2       0.67      0.04      0.08        50\n",
      "           3       0.00      0.00      0.00        47\n",
      "           4       0.00      0.00      0.00        36\n",
      "           5       0.00      0.00      0.00        25\n",
      "           6       0.00      0.00      0.00        17\n",
      "           7       0.00      0.00      0.00        17\n",
      "           8       0.00      0.00      0.00        16\n",
      "           9       0.00      0.00      0.00        59\n",
      "\n",
      "    accuracy                           0.25       500\n",
      "   macro avg       0.12      0.10      0.05       500\n",
      "weighted avg       0.20      0.25      0.11       500\n",
      "\n",
      "[[  2 108   0   0   0   0   0   0   0   0]\n",
      " [  2 121   0   0   0   0   0   0   0   0]\n",
      " [  0  47   2   0   0   1   0   0   0   0]\n",
      " [  0  45   0   0   0   0   0   0   0   2]\n",
      " [  1  34   1   0   0   0   0   0   0   0]\n",
      " [  0  25   0   0   0   0   0   0   0   0]\n",
      " [  1  16   0   0   0   0   0   0   0   0]\n",
      " [  0  17   0   0   0   0   0   0   0   0]\n",
      " [  0  16   0   0   0   0   0   0   0   0]\n",
      " [  0  59   0   0   0   0   0   0   0   0]]\n"
     ]
    }
   ],
   "source": [
    "# Fit the logistic regression classifier.\n",
    "clf_logreg.fit(X_train, y_train)\n",
    "show_metrics(clf_logreg, X_test, y_test)"
   ]
  },
  {
   "cell_type": "markdown",
   "id": "4a2ef884-3b3a-4d72-80bb-1e235258e9bc",
   "metadata": {},
   "source": [
    "## Random Forest\n",
    "\n",
    "Overview: <What does this classifier do? How does it work?>"
   ]
  },
  {
   "cell_type": "code",
   "execution_count": 41,
   "id": "53a514ba-cd4c-414c-9b98-0ff531629faa",
   "metadata": {},
   "outputs": [],
   "source": [
    "from sklearn.ensemble import RandomForestClassifier\n",
    "\n",
    "# Create the RandomForestClassifier pipeline.\n",
    "clf_RF = Pipeline([('vect', column_transformer),\n",
    "                   ('chi', SelectKBest(chi2, k=7000)),\n",
    "                   ('clf', RandomForestClassifier())])"
   ]
  },
  {
   "cell_type": "code",
   "execution_count": 42,
   "id": "3317c076-a55e-44e0-8243-14dda032cad7",
   "metadata": {},
   "outputs": [
    {
     "name": "stdout",
     "output_type": "stream",
     "text": [
      "Classification score: 24.8%\n",
      "              precision    recall  f1-score   support\n",
      "\n",
      "           0       0.00      0.00      0.00       110\n",
      "           1       0.25      0.98      0.40       123\n",
      "           2       0.33      0.02      0.04        50\n",
      "           3       0.00      0.00      0.00        47\n",
      "           4       0.00      0.00      0.00        36\n",
      "           5       0.00      0.00      0.00        25\n",
      "           6       0.33      0.06      0.10        17\n",
      "           7       0.20      0.06      0.09        17\n",
      "           8       0.00      0.00      0.00        16\n",
      "           9       0.00      0.00      0.00        59\n",
      "\n",
      "    accuracy                           0.25       500\n",
      "   macro avg       0.11      0.11      0.06       500\n",
      "weighted avg       0.11      0.25      0.11       500\n",
      "\n",
      "[[  0 107   1   0   0   0   0   2   0   0]\n",
      " [  0 121   1   0   0   0   0   1   0   0]\n",
      " [  0  47   1   0   0   1   0   0   1   0]\n",
      " [  0  43   0   0   0   0   1   1   0   2]\n",
      " [  0  34   0   0   0   0   1   0   1   0]\n",
      " [  0  25   0   0   0   0   0   0   0   0]\n",
      " [  0  16   0   0   0   0   1   0   0   0]\n",
      " [  0  16   0   0   0   0   0   1   0   0]\n",
      " [  0  16   0   0   0   0   0   0   0   0]\n",
      " [  0  59   0   0   0   0   0   0   0   0]]\n"
     ]
    }
   ],
   "source": [
    "# Fit the random forest classifier.\n",
    "clf_RF.fit(X_train, y_train)\n",
    "show_metrics(clf_RF, X_test, y_test)"
   ]
  },
  {
   "cell_type": "markdown",
   "id": "be71465e-38fc-4f47-a6fc-a4aaa723be7f",
   "metadata": {
    "tags": []
   },
   "source": [
    "## RBF (Radial Basis Function) SVM\n",
    "\n",
    "Overview: <What does this classifier do? How does it work?>"
   ]
  },
  {
   "cell_type": "code",
   "execution_count": 48,
   "id": "9277dc8d-6965-4fc1-b864-cca78e11b5e0",
   "metadata": {},
   "outputs": [],
   "source": [
    "from sklearn.svm import SVC\n",
    "\n",
    "# Create the RandomForestClassifier pipeline.\n",
    "clf_SVM = Pipeline([('vect', column_transformer),\n",
    "                   ('chi',  SelectKBest(chi2, k=7000)),\n",
    "                   ('clf', SVC(kernel='rbf', gamma=1, C=1, decision_function_shape='ovo'))])"
   ]
  },
  {
   "cell_type": "code",
   "execution_count": 47,
   "id": "3af0253b-e398-4847-a3e4-97d41ccda8be",
   "metadata": {},
   "outputs": [
    {
     "name": "stdout",
     "output_type": "stream",
     "text": [
      "Classification score: 29.2%\n",
      "              precision    recall  f1-score   support\n",
      "\n",
      "           0       0.34      0.29      0.31       110\n",
      "           1       0.27      0.80      0.40       123\n",
      "           2       0.46      0.24      0.32        50\n",
      "           3       0.00      0.00      0.00        47\n",
      "           4       0.00      0.00      0.00        36\n",
      "           5       0.00      0.00      0.00        25\n",
      "           6       0.00      0.00      0.00        17\n",
      "           7       0.00      0.00      0.00        17\n",
      "           8       0.00      0.00      0.00        16\n",
      "           9       0.60      0.05      0.09        59\n",
      "\n",
      "    accuracy                           0.29       500\n",
      "   macro avg       0.17      0.14      0.11       500\n",
      "weighted avg       0.26      0.29      0.21       500\n",
      "\n",
      "[[32 73  3  1  0  0  0  0  0  1]\n",
      " [23 99  1  0  0  0  0  0  0  0]\n",
      " [ 1 37 12  0  0  0  0  0  0  0]\n",
      " [ 7 38  1  0  1  0  0  0  0  0]\n",
      " [ 7 27  1  0  0  1  0  0  0  0]\n",
      " [ 5 18  1  0  0  0  0  0  0  1]\n",
      " [ 4 11  2  0  0  0  0  0  0  0]\n",
      " [ 2 14  0  1  0  0  0  0  0  0]\n",
      " [ 4 11  1  0  0  0  0  0  0  0]\n",
      " [ 9 42  4  1  0  0  0  0  0  3]]\n"
     ]
    }
   ],
   "source": [
    "# Fit the random forest classifier.\n",
    "clf_SVM.fit(X_train, y_train)\n",
    "show_metrics(clf_SVM, X_test, y_test)"
   ]
  }
 ],
 "metadata": {
  "kernelspec": {
   "display_name": "Python 3 (ipykernel)",
   "language": "python",
   "name": "python3"
  },
  "language_info": {
   "codemirror_mode": {
    "name": "ipython",
    "version": 3
   },
   "file_extension": ".py",
   "mimetype": "text/x-python",
   "name": "python",
   "nbconvert_exporter": "python",
   "pygments_lexer": "ipython3",
   "version": "3.9.7"
  }
 },
 "nbformat": 4,
 "nbformat_minor": 5
}
