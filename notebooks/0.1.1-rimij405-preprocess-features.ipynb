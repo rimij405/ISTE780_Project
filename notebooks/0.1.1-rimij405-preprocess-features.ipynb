{
 "cells": [
  {
   "cell_type": "markdown",
   "metadata": {},
   "source": [
    "# 0.1.1 - Preprocessing: Clean Features\n",
    "\n",
    "**Overview**: This notebook is responsible for cleaning up the raw dataset.\n",
    "\n",
    "**Actions**: This notebook performs the following actions:\n",
    "\n",
    "- Remove whitespace from field names.\n",
    "- Reorder fields in the dataset.\n",
    "- Drop redundant, irrelevant fields from the dataset.\n",
    "\n",
    "**Dependencies**: This notebook depends on the following artifact(s):\n",
    "\n",
    "- `data/interim/ecommerce_data-cleaned-0.1.0.csv`\n",
    "\n",
    "**Targets**: This notebook outputs one (1) artifact:\n",
    "\n",
    "- `data/interim/ecommerce_data-cleaned-0.1.1.csv`"
   ]
  },
  {
   "cell_type": "markdown",
   "metadata": {},
   "source": [
    "## Setup\n",
    "\n",
    "The following cells import required libraries for python analysis, import the module path to access the project's `src/` module scripts, and enable autoreloading for the hot-reloading of source files outside of the notebook. These are all optional and should be included if needed for development."
   ]
  },
  {
   "cell_type": "code",
   "execution_count": 1,
   "metadata": {},
   "outputs": [
    {
     "name": "stdout",
     "output_type": "stream",
     "text": [
      "A:\\Library\\My Repositories\\rit\\2211_FALL\\ISTE780\\Project\n"
     ]
    }
   ],
   "source": [
    "# Enable hot-reloading of external scripts.\n",
    "%load_ext autoreload\n",
    "%autoreload 2\n",
    "\n",
    "# Set project directory to project root.\n",
    "from pathlib import Path\n",
    "PROJECT_DIR = Path.cwd().resolve().parents[0]\n",
    "%cd {PROJECT_DIR}\n",
    "\n",
    "# Import utilities.\n",
    "from src.data import *\n",
    "from src.features import *"
   ]
  },
  {
   "cell_type": "markdown",
   "metadata": {},
   "source": [
    "## Load Data"
   ]
  },
  {
   "cell_type": "code",
   "execution_count": 2,
   "metadata": {},
   "outputs": [
    {
     "data": {
      "text/plain": [
       "WindowsPath('A:/Library/My Repositories/rit/2211_FALL/ISTE780/Project/data/interim/ecommerce_data-cleaned-0.1.0.csv')"
      ]
     },
     "execution_count": 2,
     "metadata": {},
     "output_type": "execute_result"
    }
   ],
   "source": [
    "# Read dataset into pandas dataframe.\n",
    "input_filepath = get_interim_filepath(\"0.1.0\", tag=\"cleaned\")\n",
    "input_filepath"
   ]
  },
  {
   "cell_type": "code",
   "execution_count": 3,
   "metadata": {},
   "outputs": [
    {
     "name": "stdout",
     "output_type": "stream",
     "text": [
      "<class 'pandas.core.frame.DataFrame'>\n",
      "Int64Index: 29604 entries, 0 to 29999\n",
      "Data columns (total 7 columns):\n",
      " #   Column           Non-Null Count  Dtype              \n",
      "---  ------           --------------  -----              \n",
      " 0   Crawl Timestamp  29604 non-null  datetime64[ns, UTC]\n",
      " 1   Product Name     29604 non-null  object             \n",
      " 2   Description      29552 non-null  object             \n",
      " 3   List Price       29604 non-null  float64            \n",
      " 4   Sale Price       29604 non-null  float64            \n",
      " 5   Brand            29045 non-null  object             \n",
      " 6   Category         29588 non-null  object             \n",
      "dtypes: datetime64[ns, UTC](1), float64(2), object(4)\n",
      "memory usage: 1.8+ MB\n"
     ]
    },
    {
     "data": {
      "text/html": [
       "<div>\n",
       "<style scoped>\n",
       "    .dataframe tbody tr th:only-of-type {\n",
       "        vertical-align: middle;\n",
       "    }\n",
       "\n",
       "    .dataframe tbody tr th {\n",
       "        vertical-align: top;\n",
       "    }\n",
       "\n",
       "    .dataframe thead th {\n",
       "        text-align: right;\n",
       "    }\n",
       "</style>\n",
       "<table border=\"1\" class=\"dataframe\">\n",
       "  <thead>\n",
       "    <tr style=\"text-align: right;\">\n",
       "      <th></th>\n",
       "      <th>Crawl Timestamp</th>\n",
       "      <th>Product Name</th>\n",
       "      <th>Description</th>\n",
       "      <th>List Price</th>\n",
       "      <th>Sale Price</th>\n",
       "      <th>Brand</th>\n",
       "      <th>Category</th>\n",
       "    </tr>\n",
       "  </thead>\n",
       "  <tbody>\n",
       "    <tr>\n",
       "      <th>0</th>\n",
       "      <td>2019-12-18 10:20:52+00:00</td>\n",
       "      <td>La Costena Chipotle Peppers, 7 OZ (Pack of 12)</td>\n",
       "      <td>We aim to show you accurate product informati...</td>\n",
       "      <td>31.93</td>\n",
       "      <td>31.93</td>\n",
       "      <td>La Costeï¿½ï¿½a</td>\n",
       "      <td>Food | Meal Solutions, Grains &amp; Pasta | Canned...</td>\n",
       "    </tr>\n",
       "    <tr>\n",
       "      <th>1</th>\n",
       "      <td>2019-12-18 17:21:48+00:00</td>\n",
       "      <td>Equate Triamcinolone Acetonide Nasal Allergy S...</td>\n",
       "      <td>We aim to show you accurate product informati...</td>\n",
       "      <td>10.48</td>\n",
       "      <td>10.48</td>\n",
       "      <td>Equate</td>\n",
       "      <td>Health | Equate | Equate Allergy | Equate Sinu...</td>\n",
       "    </tr>\n",
       "    <tr>\n",
       "      <th>2</th>\n",
       "      <td>2019-12-18 17:46:41+00:00</td>\n",
       "      <td>AduroSmart ERIA Soft White Smart A19 Light Bul...</td>\n",
       "      <td>We aim to show you accurate product informati...</td>\n",
       "      <td>10.99</td>\n",
       "      <td>10.99</td>\n",
       "      <td>AduroSmart ERIA</td>\n",
       "      <td>Electronics | Smart Home | Smart Energy and Li...</td>\n",
       "    </tr>\n",
       "    <tr>\n",
       "      <th>3</th>\n",
       "      <td>2019-12-18 22:14:22+00:00</td>\n",
       "      <td>24\" Classic Adjustable Balloon Fender Set Chro...</td>\n",
       "      <td>We aim to show you accurate product informati...</td>\n",
       "      <td>38.59</td>\n",
       "      <td>38.59</td>\n",
       "      <td>lowrider</td>\n",
       "      <td>Sports &amp; Outdoors | Bikes | Bike Accessories |...</td>\n",
       "    </tr>\n",
       "    <tr>\n",
       "      <th>4</th>\n",
       "      <td>2019-12-18 06:56:02+00:00</td>\n",
       "      <td>Elephant Shape Silicone Drinkware Portable Sil...</td>\n",
       "      <td>We aim to show you accurate product informati...</td>\n",
       "      <td>5.81</td>\n",
       "      <td>5.81</td>\n",
       "      <td>Anself</td>\n",
       "      <td>Baby | Feeding | Sippy Cups: Alternatives to P...</td>\n",
       "    </tr>\n",
       "  </tbody>\n",
       "</table>\n",
       "</div>"
      ],
      "text/plain": [
       "            Crawl Timestamp  \\\n",
       "0 2019-12-18 10:20:52+00:00   \n",
       "1 2019-12-18 17:21:48+00:00   \n",
       "2 2019-12-18 17:46:41+00:00   \n",
       "3 2019-12-18 22:14:22+00:00   \n",
       "4 2019-12-18 06:56:02+00:00   \n",
       "\n",
       "                                        Product Name  \\\n",
       "0     La Costena Chipotle Peppers, 7 OZ (Pack of 12)   \n",
       "1  Equate Triamcinolone Acetonide Nasal Allergy S...   \n",
       "2  AduroSmart ERIA Soft White Smart A19 Light Bul...   \n",
       "3  24\" Classic Adjustable Balloon Fender Set Chro...   \n",
       "4  Elephant Shape Silicone Drinkware Portable Sil...   \n",
       "\n",
       "                                         Description  List Price  Sale Price  \\\n",
       "0   We aim to show you accurate product informati...       31.93       31.93   \n",
       "1   We aim to show you accurate product informati...       10.48       10.48   \n",
       "2   We aim to show you accurate product informati...       10.99       10.99   \n",
       "3   We aim to show you accurate product informati...       38.59       38.59   \n",
       "4   We aim to show you accurate product informati...        5.81        5.81   \n",
       "\n",
       "             Brand                                           Category  \n",
       "0  La Costeï¿½ï¿½a  Food | Meal Solutions, Grains & Pasta | Canned...  \n",
       "1           Equate  Health | Equate | Equate Allergy | Equate Sinu...  \n",
       "2  AduroSmart ERIA  Electronics | Smart Home | Smart Energy and Li...  \n",
       "3         lowrider  Sports & Outdoors | Bikes | Bike Accessories |...  \n",
       "4           Anself  Baby | Feeding | Sippy Cups: Alternatives to P...  "
      ]
     },
     "execution_count": 3,
     "metadata": {},
     "output_type": "execute_result"
    }
   ],
   "source": [
    "df_input = pd.read_csv(input_filepath, \n",
    "                       index_col = 0, \n",
    "                       parse_dates=[\"Crawl Timestamp\"])\n",
    "df_input.info()\n",
    "df_input.head()"
   ]
  },
  {
   "cell_type": "markdown",
   "metadata": {},
   "source": [
    "## Fieldname Preprocessing\n",
    "\n",
    "Feature names should be renamed so that they can be referenced consistently. Additionally, they shoul be ordered intuitively."
   ]
  },
  {
   "cell_type": "code",
   "execution_count": 4,
   "metadata": {},
   "outputs": [
    {
     "name": "stdout",
     "output_type": "stream",
     "text": [
      "Renamed columns to Index(['Crawl Timestamp', 'name', 'description', 'price_raw', 'discount_raw',\n",
      "       'brand', 'category_raw'],\n",
      "      dtype='object')\n"
     ]
    }
   ],
   "source": [
    "# Prepare map for field names.\n",
    "fieldnames = {\n",
    "    'Product Name': 'name',\n",
    "    'Description': 'description',\n",
    "    'List Price': 'price_raw',\n",
    "    'Sale Price': 'discount_raw',\n",
    "    'Brand': 'brand',\n",
    "    'Category': 'category_raw',\n",
    "}\n",
    "\n",
    "df_clean1 = clean_features.rename_columns(df_input, mapping = fieldnames)"
   ]
  },
  {
   "cell_type": "code",
   "execution_count": 5,
   "metadata": {},
   "outputs": [
    {
     "name": "stdout",
     "output_type": "stream",
     "text": [
      "Reordered columns to Index(['brand', 'name', 'description', 'category_raw', 'price_raw',\n",
      "       'discount_raw'],\n",
      "      dtype='object')\n"
     ]
    }
   ],
   "source": [
    "# Prepare map for field names.\n",
    "features = [\n",
    "    'brand',\n",
    "    'name',\n",
    "    'description',\n",
    "    'category_raw',\n",
    "    'price_raw',\n",
    "    'discount_raw',\n",
    "]\n",
    "df_clean2 = clean_features.reorganize_columns(df_clean1, features)"
   ]
  },
  {
   "cell_type": "markdown",
   "metadata": {},
   "source": [
    "## Save Interim Dataset\n",
    "\n",
    "The dataset has renamed fields and is ready for the next step in the pipeline."
   ]
  },
  {
   "cell_type": "code",
   "execution_count": 6,
   "metadata": {},
   "outputs": [
    {
     "name": "stdout",
     "output_type": "stream",
     "text": [
      "Saving (cleaned) dataframe (29604, 6) to A:\\Library\\My Repositories\\rit\\2211_FALL\\ISTE780\\Project\\data\\interim\\ecommerce_data-cleaned-0.1.1.csv.\n",
      "File saved.\n"
     ]
    }
   ],
   "source": [
    "# Save the file\n",
    "df_output = df_clean2\n",
    "save_interim(df_output, \"0.1.1\")"
   ]
  }
 ],
 "metadata": {
  "interpreter": {
   "hash": "5b946e3ad701e39b274e0926621a4c5b53e2fa16d17112201a160d3918c4e637"
  },
  "kernelspec": {
   "display_name": "Python 3 (ipykernel)",
   "language": "python",
   "name": "python3"
  },
  "language_info": {
   "codemirror_mode": {
    "name": "ipython",
    "version": 3
   },
   "file_extension": ".py",
   "mimetype": "text/x-python",
   "name": "python",
   "nbconvert_exporter": "python",
   "pygments_lexer": "ipython3",
   "version": "3.9.7"
  }
 },
 "nbformat": 4,
 "nbformat_minor": 4
}
