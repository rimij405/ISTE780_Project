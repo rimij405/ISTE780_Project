{
 "cells": [
  {
   "cell_type": "code",
   "execution_count": 1,
   "metadata": {
    "collapsed": true,
    "pycharm": {
     "is_executing": false
    }
   },
   "outputs": [
    {
     "name": "stderr",
     "text": [
      "[nltk_data] Downloading package stopwords to\n[nltk_data]     /Users/vaibhavidharashivkar/nltk_data...\n[nltk_data]   Package stopwords is already up-to-date!\n"
     ],
     "output_type": "stream"
    }
   ],
   "source": [
    "from sklearn.metrics import confusion_matrix\n",
    "from sklearn.model_selection import train_test_split\n",
    "from sklearn.impute import SimpleImputer\n",
    "from sklearn import svm, datasets\n",
    "import matplotlib.pyplot as plt\n",
    "import numpy as np\n",
    "from IPython.core.display import display\n",
    "import pandas as pd\n",
    "import nltk\n",
    "import ssl\n",
    "from sklearn.svm import LinearSVC\n",
    "try:\n",
    "    _create_unverified_https_context = ssl._create_unverified_context\n",
    "except AttributeError:\n",
    "    pass\n",
    "else:\n",
    "    ssl._create_default_https_context = _create_unverified_https_context\n",
    "\n",
    "nltk.download('stopwords')\n",
    "from nltk.corpus import stopwords\n",
    "from nltk.stem import PorterStemmer\n",
    "from sklearn.feature_extraction.text import TfidfVectorizer\n",
    "from sklearn.pipeline import Pipeline\n",
    "from sklearn.metrics import classification_report, confusion_matrix\n",
    "from sklearn.model_selection import train_test_split\n",
    "from sklearn.feature_selection import SelectKBest, chi2\n",
    "import regex\n",
    "from sklearn.compose import ColumnTransformer"
   ]
  },
  {
   "cell_type": "code",
   "execution_count": 2,
   "outputs": [
    {
     "data": {
      "text/plain": "                 brand                                               name  \\\n0      La Costeï¿½ï¿½a     La Costena Chipotle Peppers, 7 OZ (Pack of 12)   \n1               Equate  Equate Triamcinolone Acetonide Nasal Allergy S...   \n2      AduroSmart ERIA  AduroSmart ERIA Soft White Smart A19 Light Bul...   \n3             lowrider  24\" Classic Adjustable Balloon Fender Set Chro...   \n4               Anself  Elephant Shape Silicone Drinkware Portable Sil...   \n...                ...                                                ...   \n29994         NineChef  Sheng Xiang Zhen (ShengXiangZhen) Snack + OneN...   \n29996        Shock Sox  Shock Sox Fork Seal Guards 29-36mm Fork Tube 4...   \n29997          Princes                          Princes Gooseberries 300g   \n29998       Create Ion  Create Ion Grace 3/4 Inches Straight Hair Iron...   \n29999     Takuminowaza  Green Bell Takuminowaza Two Way Ear Pick Brass...   \n\n                                             description  \\\n0       We aim to show you accurate product informati...   \n1       We aim to show you accurate product informati...   \n2       We aim to show you accurate product informati...   \n3       We aim to show you accurate product informati...   \n4       We aim to show you accurate product informati...   \n...                                                  ...   \n29994   We aim to show you accurate product informati...   \n29996   We aim to show you accurate product informati...   \n29997   We aim to show you accurate product informati...   \n29998   We aim to show you accurate product informati...   \n29999   We aim to show you accurate product informati...   \n\n                                            category_raw  price_raw  \\\n0      Food | Meal Solutions, Grains & Pasta | Canned...      31.93   \n1      Health | Equate | Equate Allergy | Equate Sinu...      10.48   \n2      Electronics | Smart Home | Smart Energy and Li...      10.99   \n3      Sports & Outdoors | Bikes | Bike Accessories |...      38.59   \n4      Baby | Feeding | Sippy Cups: Alternatives to P...       5.81   \n...                                                  ...        ...   \n29994  Food | Snacks, Cookies & Chips | Chips & Crisp...      45.99   \n29996  Sports & Outdoors | Bikes | Bike Components | ...      33.25   \n29997  Food | Meal Solutions, Grains & Pasta | Canned...       8.88   \n29998  Beauty | Hair Care | Hair Styling Tools | Flat...      50.00   \n29999  Beauty | Here for Every Beauty | Featured Shop...       6.00   \n\n       discount_raw price_range  \n0             31.93    (30, 35]  \n1             10.48    (10, 20]  \n2             10.99    (10, 20]  \n3             38.59    (35, 40]  \n4              5.81     (0, 10]  \n...             ...         ...  \n29994         45.99    (45, 50]  \n29996         33.25    (30, 35]  \n29997          8.88     (0, 10]  \n29998         24.50    (45, 50]  \n29999          4.20     (0, 10]  \n\n[29604 rows x 7 columns]",
      "text/html": "<div>\n<style scoped>\n    .dataframe tbody tr th:only-of-type {\n        vertical-align: middle;\n    }\n\n    .dataframe tbody tr th {\n        vertical-align: top;\n    }\n\n    .dataframe thead th {\n        text-align: right;\n    }\n</style>\n<table border=\"1\" class=\"dataframe\">\n  <thead>\n    <tr style=\"text-align: right;\">\n      <th></th>\n      <th>brand</th>\n      <th>name</th>\n      <th>description</th>\n      <th>category_raw</th>\n      <th>price_raw</th>\n      <th>discount_raw</th>\n      <th>price_range</th>\n    </tr>\n  </thead>\n  <tbody>\n    <tr>\n      <th>0</th>\n      <td>La Costeï¿½ï¿½a</td>\n      <td>La Costena Chipotle Peppers, 7 OZ (Pack of 12)</td>\n      <td>We aim to show you accurate product informati...</td>\n      <td>Food | Meal Solutions, Grains &amp; Pasta | Canned...</td>\n      <td>31.93</td>\n      <td>31.93</td>\n      <td>(30, 35]</td>\n    </tr>\n    <tr>\n      <th>1</th>\n      <td>Equate</td>\n      <td>Equate Triamcinolone Acetonide Nasal Allergy S...</td>\n      <td>We aim to show you accurate product informati...</td>\n      <td>Health | Equate | Equate Allergy | Equate Sinu...</td>\n      <td>10.48</td>\n      <td>10.48</td>\n      <td>(10, 20]</td>\n    </tr>\n    <tr>\n      <th>2</th>\n      <td>AduroSmart ERIA</td>\n      <td>AduroSmart ERIA Soft White Smart A19 Light Bul...</td>\n      <td>We aim to show you accurate product informati...</td>\n      <td>Electronics | Smart Home | Smart Energy and Li...</td>\n      <td>10.99</td>\n      <td>10.99</td>\n      <td>(10, 20]</td>\n    </tr>\n    <tr>\n      <th>3</th>\n      <td>lowrider</td>\n      <td>24\" Classic Adjustable Balloon Fender Set Chro...</td>\n      <td>We aim to show you accurate product informati...</td>\n      <td>Sports &amp; Outdoors | Bikes | Bike Accessories |...</td>\n      <td>38.59</td>\n      <td>38.59</td>\n      <td>(35, 40]</td>\n    </tr>\n    <tr>\n      <th>4</th>\n      <td>Anself</td>\n      <td>Elephant Shape Silicone Drinkware Portable Sil...</td>\n      <td>We aim to show you accurate product informati...</td>\n      <td>Baby | Feeding | Sippy Cups: Alternatives to P...</td>\n      <td>5.81</td>\n      <td>5.81</td>\n      <td>(0, 10]</td>\n    </tr>\n    <tr>\n      <th>...</th>\n      <td>...</td>\n      <td>...</td>\n      <td>...</td>\n      <td>...</td>\n      <td>...</td>\n      <td>...</td>\n      <td>...</td>\n    </tr>\n    <tr>\n      <th>29994</th>\n      <td>NineChef</td>\n      <td>Sheng Xiang Zhen (ShengXiangZhen) Snack + OneN...</td>\n      <td>We aim to show you accurate product informati...</td>\n      <td>Food | Snacks, Cookies &amp; Chips | Chips &amp; Crisp...</td>\n      <td>45.99</td>\n      <td>45.99</td>\n      <td>(45, 50]</td>\n    </tr>\n    <tr>\n      <th>29996</th>\n      <td>Shock Sox</td>\n      <td>Shock Sox Fork Seal Guards 29-36mm Fork Tube 4...</td>\n      <td>We aim to show you accurate product informati...</td>\n      <td>Sports &amp; Outdoors | Bikes | Bike Components | ...</td>\n      <td>33.25</td>\n      <td>33.25</td>\n      <td>(30, 35]</td>\n    </tr>\n    <tr>\n      <th>29997</th>\n      <td>Princes</td>\n      <td>Princes Gooseberries 300g</td>\n      <td>We aim to show you accurate product informati...</td>\n      <td>Food | Meal Solutions, Grains &amp; Pasta | Canned...</td>\n      <td>8.88</td>\n      <td>8.88</td>\n      <td>(0, 10]</td>\n    </tr>\n    <tr>\n      <th>29998</th>\n      <td>Create Ion</td>\n      <td>Create Ion Grace 3/4 Inches Straight Hair Iron...</td>\n      <td>We aim to show you accurate product informati...</td>\n      <td>Beauty | Hair Care | Hair Styling Tools | Flat...</td>\n      <td>50.00</td>\n      <td>24.50</td>\n      <td>(45, 50]</td>\n    </tr>\n    <tr>\n      <th>29999</th>\n      <td>Takuminowaza</td>\n      <td>Green Bell Takuminowaza Two Way Ear Pick Brass...</td>\n      <td>We aim to show you accurate product informati...</td>\n      <td>Beauty | Here for Every Beauty | Featured Shop...</td>\n      <td>6.00</td>\n      <td>4.20</td>\n      <td>(0, 10]</td>\n    </tr>\n  </tbody>\n</table>\n<p>29604 rows × 7 columns</p>\n</div>"
     },
     "metadata": {},
     "output_type": "display_data"
    }
   ],
   "source": [
    "df = pd.read_csv(\"../data/interim/ecommerce_data-cleaned-0.2.2.csv\", index_col=0, encoding='utf-8')\n",
    "display(df)"
   ],
   "metadata": {
    "collapsed": false,
    "pycharm": {
     "name": "#%%\n",
     "is_executing": false
    }
   }
  },
  {
   "cell_type": "code",
   "execution_count": 3,
   "outputs": [],
   "source": [
    "def get_range_label(price):\n",
    "    value = np.round(price, decimals=1)\n",
    "    if value <= 10:\n",
    "        return 0\n",
    "    elif 10 < value <= 20:\n",
    "        return 1\n",
    "    elif 20 < value <= 25:\n",
    "        return 2\n",
    "    elif 25 < value <= 30:\n",
    "        return 3\n",
    "    elif 30 < value <= 35:\n",
    "        return 4\n",
    "    elif 35 < value <= 40:\n",
    "        return 5\n",
    "    elif 40 < value <= 45:\n",
    "        return 6\n",
    "    elif 45 < value <= 50:\n",
    "        return 7\n",
    "    elif 50 < value <= 100:\n",
    "        return 8\n",
    "    else:\n",
    "        return 9\n",
    "\n",
    "df['labels'] = df['price_raw'].apply(lambda x: get_range_label(x))"
   ],
   "metadata": {
    "collapsed": false,
    "pycharm": {
     "name": "#%%\n",
     "is_executing": false
    }
   }
  },
  {
   "cell_type": "code",
   "execution_count": 4,
   "outputs": [
    {
     "data": {
      "text/plain": "                 brand                                               name  \\\n0      La Costeï¿½ï¿½a     La Costena Chipotle Peppers, 7 OZ (Pack of 12)   \n1               Equate  Equate Triamcinolone Acetonide Nasal Allergy S...   \n2      AduroSmart ERIA  AduroSmart ERIA Soft White Smart A19 Light Bul...   \n3             lowrider  24\" Classic Adjustable Balloon Fender Set Chro...   \n4               Anself  Elephant Shape Silicone Drinkware Portable Sil...   \n...                ...                                                ...   \n29994         NineChef  Sheng Xiang Zhen (ShengXiangZhen) Snack + OneN...   \n29996        Shock Sox  Shock Sox Fork Seal Guards 29-36mm Fork Tube 4...   \n29997          Princes                          Princes Gooseberries 300g   \n29998       Create Ion  Create Ion Grace 3/4 Inches Straight Hair Iron...   \n29999     Takuminowaza  Green Bell Takuminowaza Two Way Ear Pick Brass...   \n\n                                             description  \\\n0       We aim to show you accurate product informati...   \n1       We aim to show you accurate product informati...   \n2       We aim to show you accurate product informati...   \n3       We aim to show you accurate product informati...   \n4       We aim to show you accurate product informati...   \n...                                                  ...   \n29994   We aim to show you accurate product informati...   \n29996   We aim to show you accurate product informati...   \n29997   We aim to show you accurate product informati...   \n29998   We aim to show you accurate product informati...   \n29999   We aim to show you accurate product informati...   \n\n                                            category_raw  price_raw  \\\n0      Food | Meal Solutions, Grains & Pasta | Canned...      31.93   \n1      Health | Equate | Equate Allergy | Equate Sinu...      10.48   \n2      Electronics | Smart Home | Smart Energy and Li...      10.99   \n3      Sports & Outdoors | Bikes | Bike Accessories |...      38.59   \n4      Baby | Feeding | Sippy Cups: Alternatives to P...       5.81   \n...                                                  ...        ...   \n29994  Food | Snacks, Cookies & Chips | Chips & Crisp...      45.99   \n29996  Sports & Outdoors | Bikes | Bike Components | ...      33.25   \n29997  Food | Meal Solutions, Grains & Pasta | Canned...       8.88   \n29998  Beauty | Hair Care | Hair Styling Tools | Flat...      50.00   \n29999  Beauty | Here for Every Beauty | Featured Shop...       6.00   \n\n       discount_raw price_range  labels  \\\n0             31.93    (30, 35]       4   \n1             10.48    (10, 20]       1   \n2             10.99    (10, 20]       1   \n3             38.59    (35, 40]       5   \n4              5.81     (0, 10]       0   \n...             ...         ...     ...   \n29994         45.99    (45, 50]       7   \n29996         33.25    (30, 35]       4   \n29997          8.88     (0, 10]       0   \n29998         24.50    (45, 50]       7   \n29999          4.20     (0, 10]       0   \n\n                                            cleaned_name    cleaned_brand  \\\n0                 la costena chipotl pepper 7 oz pack 12          la cost   \n1      equat triamcinolon acetonid nasal allergi spra...            equat   \n2      adurosmart eria soft white smart a19 light bul...  adurosmart eria   \n3      24 classic adjust balloon fender set chrome bi...           lowrid   \n4      eleph shape silicon drinkwar portabl silicon c...           anself   \n...                                                  ...              ...   \n29994  sheng xiang zhen shengxiangzhen snack onenin c...         ninechef   \n29996  shock sox fork seal guard 29 36mm fork tube 4 ...        shock sox   \n29997                              princ gooseberri 300g            princ   \n29998  creat ion grace 3 4 inch straight hair iron ci...        creat ion   \n29999  green bell takuminowaza two way ear pick brass...     takuminowaza   \n\n                                     cleaned_description  \\\n0      we aim show accur product inform manufactur su...   \n1      we aim show accur product inform manufactur su...   \n2      we aim show accur product inform manufactur su...   \n3      we aim show accur product inform manufactur su...   \n4      we aim show accur product inform manufactur su...   \n...                                                  ...   \n29994  we aim show accur product inform manufactur su...   \n29996  we aim show accur product inform manufactur su...   \n29997  we aim show accur product inform manufactur su...   \n29998  we aim show accur product inform manufactur su...   \n29999  we aim show accur product inform manufactur su...   \n\n                                    cleaned_category_raw  \n0         food meal solut grain pasta can good can veget  \n1      health equat equat allergi equat sinu congest ...  \n2      electron smart home smart energi light smart l...  \n3          sport outdoor bike bike accessori bike fender  \n4                     babi feed sippi cup altern plastic  \n...                                                  ...  \n29994        food snack cooki chip chip crisp chip crisp  \n29996           sport outdoor bike bike compon bike fork  \n29997     food meal solut grain pasta can good can fruit  \n29998  beauti hair care hair style tool flat iron hai...  \n29999  beauti here everi beauti featur shop korean ja...  \n\n[29604 rows x 12 columns]",
      "text/html": "<div>\n<style scoped>\n    .dataframe tbody tr th:only-of-type {\n        vertical-align: middle;\n    }\n\n    .dataframe tbody tr th {\n        vertical-align: top;\n    }\n\n    .dataframe thead th {\n        text-align: right;\n    }\n</style>\n<table border=\"1\" class=\"dataframe\">\n  <thead>\n    <tr style=\"text-align: right;\">\n      <th></th>\n      <th>brand</th>\n      <th>name</th>\n      <th>description</th>\n      <th>category_raw</th>\n      <th>price_raw</th>\n      <th>discount_raw</th>\n      <th>price_range</th>\n      <th>labels</th>\n      <th>cleaned_name</th>\n      <th>cleaned_brand</th>\n      <th>cleaned_description</th>\n      <th>cleaned_category_raw</th>\n    </tr>\n  </thead>\n  <tbody>\n    <tr>\n      <th>0</th>\n      <td>La Costeï¿½ï¿½a</td>\n      <td>La Costena Chipotle Peppers, 7 OZ (Pack of 12)</td>\n      <td>We aim to show you accurate product informati...</td>\n      <td>Food | Meal Solutions, Grains &amp; Pasta | Canned...</td>\n      <td>31.93</td>\n      <td>31.93</td>\n      <td>(30, 35]</td>\n      <td>4</td>\n      <td>la costena chipotl pepper 7 oz pack 12</td>\n      <td>la cost</td>\n      <td>we aim show accur product inform manufactur su...</td>\n      <td>food meal solut grain pasta can good can veget</td>\n    </tr>\n    <tr>\n      <th>1</th>\n      <td>Equate</td>\n      <td>Equate Triamcinolone Acetonide Nasal Allergy S...</td>\n      <td>We aim to show you accurate product informati...</td>\n      <td>Health | Equate | Equate Allergy | Equate Sinu...</td>\n      <td>10.48</td>\n      <td>10.48</td>\n      <td>(10, 20]</td>\n      <td>1</td>\n      <td>equat triamcinolon acetonid nasal allergi spra...</td>\n      <td>equat</td>\n      <td>we aim show accur product inform manufactur su...</td>\n      <td>health equat equat allergi equat sinu congest ...</td>\n    </tr>\n    <tr>\n      <th>2</th>\n      <td>AduroSmart ERIA</td>\n      <td>AduroSmart ERIA Soft White Smart A19 Light Bul...</td>\n      <td>We aim to show you accurate product informati...</td>\n      <td>Electronics | Smart Home | Smart Energy and Li...</td>\n      <td>10.99</td>\n      <td>10.99</td>\n      <td>(10, 20]</td>\n      <td>1</td>\n      <td>adurosmart eria soft white smart a19 light bul...</td>\n      <td>adurosmart eria</td>\n      <td>we aim show accur product inform manufactur su...</td>\n      <td>electron smart home smart energi light smart l...</td>\n    </tr>\n    <tr>\n      <th>3</th>\n      <td>lowrider</td>\n      <td>24\" Classic Adjustable Balloon Fender Set Chro...</td>\n      <td>We aim to show you accurate product informati...</td>\n      <td>Sports &amp; Outdoors | Bikes | Bike Accessories |...</td>\n      <td>38.59</td>\n      <td>38.59</td>\n      <td>(35, 40]</td>\n      <td>5</td>\n      <td>24 classic adjust balloon fender set chrome bi...</td>\n      <td>lowrid</td>\n      <td>we aim show accur product inform manufactur su...</td>\n      <td>sport outdoor bike bike accessori bike fender</td>\n    </tr>\n    <tr>\n      <th>4</th>\n      <td>Anself</td>\n      <td>Elephant Shape Silicone Drinkware Portable Sil...</td>\n      <td>We aim to show you accurate product informati...</td>\n      <td>Baby | Feeding | Sippy Cups: Alternatives to P...</td>\n      <td>5.81</td>\n      <td>5.81</td>\n      <td>(0, 10]</td>\n      <td>0</td>\n      <td>eleph shape silicon drinkwar portabl silicon c...</td>\n      <td>anself</td>\n      <td>we aim show accur product inform manufactur su...</td>\n      <td>babi feed sippi cup altern plastic</td>\n    </tr>\n    <tr>\n      <th>...</th>\n      <td>...</td>\n      <td>...</td>\n      <td>...</td>\n      <td>...</td>\n      <td>...</td>\n      <td>...</td>\n      <td>...</td>\n      <td>...</td>\n      <td>...</td>\n      <td>...</td>\n      <td>...</td>\n      <td>...</td>\n    </tr>\n    <tr>\n      <th>29994</th>\n      <td>NineChef</td>\n      <td>Sheng Xiang Zhen (ShengXiangZhen) Snack + OneN...</td>\n      <td>We aim to show you accurate product informati...</td>\n      <td>Food | Snacks, Cookies &amp; Chips | Chips &amp; Crisp...</td>\n      <td>45.99</td>\n      <td>45.99</td>\n      <td>(45, 50]</td>\n      <td>7</td>\n      <td>sheng xiang zhen shengxiangzhen snack onenin c...</td>\n      <td>ninechef</td>\n      <td>we aim show accur product inform manufactur su...</td>\n      <td>food snack cooki chip chip crisp chip crisp</td>\n    </tr>\n    <tr>\n      <th>29996</th>\n      <td>Shock Sox</td>\n      <td>Shock Sox Fork Seal Guards 29-36mm Fork Tube 4...</td>\n      <td>We aim to show you accurate product informati...</td>\n      <td>Sports &amp; Outdoors | Bikes | Bike Components | ...</td>\n      <td>33.25</td>\n      <td>33.25</td>\n      <td>(30, 35]</td>\n      <td>4</td>\n      <td>shock sox fork seal guard 29 36mm fork tube 4 ...</td>\n      <td>shock sox</td>\n      <td>we aim show accur product inform manufactur su...</td>\n      <td>sport outdoor bike bike compon bike fork</td>\n    </tr>\n    <tr>\n      <th>29997</th>\n      <td>Princes</td>\n      <td>Princes Gooseberries 300g</td>\n      <td>We aim to show you accurate product informati...</td>\n      <td>Food | Meal Solutions, Grains &amp; Pasta | Canned...</td>\n      <td>8.88</td>\n      <td>8.88</td>\n      <td>(0, 10]</td>\n      <td>0</td>\n      <td>princ gooseberri 300g</td>\n      <td>princ</td>\n      <td>we aim show accur product inform manufactur su...</td>\n      <td>food meal solut grain pasta can good can fruit</td>\n    </tr>\n    <tr>\n      <th>29998</th>\n      <td>Create Ion</td>\n      <td>Create Ion Grace 3/4 Inches Straight Hair Iron...</td>\n      <td>We aim to show you accurate product informati...</td>\n      <td>Beauty | Hair Care | Hair Styling Tools | Flat...</td>\n      <td>50.00</td>\n      <td>24.50</td>\n      <td>(45, 50]</td>\n      <td>7</td>\n      <td>creat ion grace 3 4 inch straight hair iron ci...</td>\n      <td>creat ion</td>\n      <td>we aim show accur product inform manufactur su...</td>\n      <td>beauti hair care hair style tool flat iron hai...</td>\n    </tr>\n    <tr>\n      <th>29999</th>\n      <td>Takuminowaza</td>\n      <td>Green Bell Takuminowaza Two Way Ear Pick Brass...</td>\n      <td>We aim to show you accurate product informati...</td>\n      <td>Beauty | Here for Every Beauty | Featured Shop...</td>\n      <td>6.00</td>\n      <td>4.20</td>\n      <td>(0, 10]</td>\n      <td>0</td>\n      <td>green bell takuminowaza two way ear pick brass...</td>\n      <td>takuminowaza</td>\n      <td>we aim show accur product inform manufactur su...</td>\n      <td>beauti here everi beauti featur shop korean ja...</td>\n    </tr>\n  </tbody>\n</table>\n<p>29604 rows × 12 columns</p>\n</div>"
     },
     "metadata": {},
     "output_type": "display_data"
    }
   ],
   "source": [
    "stemmer = PorterStemmer()\n",
    "words = stopwords.words(\"english\")\n",
    "cleaned_text = lambda x: \" \".join([stemmer.stem(i) for i in regex.sub(\"[^a-zA-Z0-9]\", \" \", x).split() if i not in words]).lower()\n",
    "df['cleaned_name'] = df.name.apply(cleaned_text)\n",
    "df['cleaned_brand'] = df.brand.fillna(\"\").apply(cleaned_text)\n",
    "df['cleaned_description'] = df.description.fillna(\"\").apply(cleaned_text)\n",
    "df['cleaned_category_raw'] = df.category_raw.fillna(\"\").apply(cleaned_text)\n",
    "display(df)"
   ],
   "metadata": {
    "collapsed": false,
    "pycharm": {
     "name": "#%%\n",
     "is_executing": false
    }
   }
  },
  {
   "cell_type": "code",
   "execution_count": 5,
   "outputs": [],
   "source": [
    "vectorizer = TfidfVectorizer(min_df= 3, stop_words=\"english\", sublinear_tf=True, norm='l2', ngram_range=(1, 2))\n"
   ],
   "metadata": {
    "collapsed": false,
    "pycharm": {
     "name": "#%%\n",
     "is_executing": false
    }
   }
  },
  {
   "cell_type": "code",
   "execution_count": 6,
   "outputs": [
    {
     "name": "stdout",
     "text": [
      "<class 'pandas.core.frame.DataFrame'>\nInt64Index: 29604 entries, 0 to 29999\nData columns (total 12 columns):\n #   Column                Non-Null Count  Dtype  \n---  ------                --------------  -----  \n 0   brand                 29045 non-null  object \n 1   name                  29604 non-null  object \n 2   description           29552 non-null  object \n 3   category_raw          29588 non-null  object \n 4   price_raw             29604 non-null  float64\n 5   discount_raw          29604 non-null  float64\n 6   price_range           29604 non-null  object \n 7   labels                29604 non-null  int64  \n 8   cleaned_name          29604 non-null  object \n 9   cleaned_brand         29604 non-null  object \n 10  cleaned_description   29604 non-null  object \n 11  cleaned_category_raw  29604 non-null  object \ndtypes: float64(2), int64(1), object(9)\nmemory usage: 2.9+ MB\nNone\n"
     ],
     "output_type": "stream"
    }
   ],
   "source": [
    "print(df.info())"
   ],
   "metadata": {
    "collapsed": false,
    "pycharm": {
     "name": "#%%\n",
     "is_executing": false
    }
   }
  },
  {
   "cell_type": "code",
   "execution_count": 13,
   "outputs": [
    {
     "name": "stdout",
     "text": [
      "              precision    recall  f1-score   support\n\n           0       0.43      0.34      0.38      1648\n           1       0.30      0.66      0.41      1922\n           2       0.12      0.02      0.04       580\n           3       0.26      0.03      0.06       504\n           4       0.16      0.02      0.04       323\n           5       0.05      0.01      0.01       327\n           6       0.06      0.01      0.02       220\n           7       0.11      0.02      0.03       222\n           8       0.29      0.23      0.25       837\n           9       0.41      0.41      0.41       818\n\n    accuracy                           0.32      7401\n   macro avg       0.22      0.17      0.17      7401\nweighted avg       0.29      0.32      0.28      7401\n\n",
      "[[ 563  972   12   10    2    4    2    4   35   44]\n [ 398 1262   37   14    3    9   14    6   88   91]\n [  81  394   14    4    5    5    5    1   42   29]\n [  67  319   11   17    8    4    7    0   31   40]\n [  35  181    6    4    7    4    2    4   36   44]\n [  33  184    3    5    3    2    3    4   48   42]\n [  17  133    6    2    0    0    3    2   26   31]\n [  17  121    5    3    5    2    1    4   29   35]\n [  70  410   11    4    5    8   12    7  191  119]\n [  42  277    7    2    5    3    4    6  140  332]]\n",
      "              precision    recall  f1-score   support\n\n           0       0.43      0.31      0.36      1666\n           1       0.30      0.65      0.41      1919\n           2       0.27      0.03      0.05       626\n           3       0.17      0.01      0.02       461\n           4       0.28      0.02      0.04       328\n           5       0.08      0.04      0.05       311\n           6       0.04      0.02      0.03       207\n           7       0.04      0.01      0.01       199\n           8       0.27      0.26      0.27       842\n           9       0.42      0.44      0.43       842\n\n    accuracy                           0.32      7401\n   macro avg       0.23      0.18      0.17      7401\nweighted avg       0.31      0.32      0.28      7401\n\n",
      "[[ 518  993    9    5    2   29   10    2   63   35]\n [ 356 1241   18    7    8   36   29    5  128   91]\n [  92  374   17    2    2   11   16    2   59   51]\n [  46  286    3    5    1   17   11    2   50   40]\n [  40  175    4    3    7    8    7    4   41   39]\n [  27  175    1    1    0   12    7    1   48   39]\n [  19  118    0    0    0    7    5    0   33   25]\n [  19  110    2    3    1    3    5    1   24   31]\n [  50  351    5    4    3   15   17    6  221  170]\n [  30  247    3    0    1   21   24    2  141  373]]\n",
      "              precision    recall  f1-score   support\n\n           0       0.49      0.25      0.34      1645\n           1       0.30      0.82      0.44      1913\n           2       0.27      0.05      0.09       569\n           3       0.16      0.03      0.05       504\n           4       0.54      0.04      0.08       312\n           5       0.38      0.05      0.09       299\n           6       0.89      0.08      0.14       213\n           7       0.39      0.03      0.05       239\n           8       0.37      0.19      0.25       864\n           9       0.47      0.30      0.37       843\n\n    accuracy                           0.34      7401\n   macro avg       0.43      0.19      0.19      7401\nweighted avg       0.39      0.34      0.28      7401\n\n",
      "[[ 419 1161    9    5    1    5    0    2   15   28]\n [ 204 1573   22   17    3    6    0    1   36   51]\n [  38  441   31   11    3    0    0    0   24   21]\n [  42  386   12   14    1    6    0    0   26   17]\n [  21  217    5    7   13    1    0    4   19   25]\n [  17  206    6    4    0   16    0    1   17   32]\n [  20  138    1    4    0    2   16    0   17   15]\n [  12  167    4    1    1    0    1    7   31   15]\n [  47  530   15   12    2    3    1    3  167   84]\n [  29  438    8   11    0    3    0    0   99  255]]\n",
      "              precision    recall  f1-score   support\n\n           0       0.40      0.45      0.42      1672\n           1       0.31      0.63      0.42      1891\n           2       0.30      0.01      0.02       591\n           3       0.19      0.02      0.04       489\n           4       0.40      0.04      0.07       336\n           5       0.50      0.00      0.01       288\n           6       0.61      0.05      0.09       233\n           7       0.19      0.02      0.04       208\n           8       0.29      0.18      0.22       857\n           9       0.44      0.52      0.48       836\n\n    accuracy                           0.35      7401\n   macro avg       0.36      0.19      0.18      7401\nweighted avg       0.35      0.35      0.29      7401\n\n",
      "[[ 756  816    5    3    2    0    0    1   28   61]\n [ 487 1192    2   14    2    0    2    2   74  116]\n [ 129  362    7    5    2    0    1    3   33   49]\n [ 106  296    2   11    2    0    1    2   27   42]\n [  73  179    1    7   12    0    1    1   27   35]\n [  61  165    0    3    0    1    0    1   25   32]\n [  47  121    1    2    0    0   11    1   23   27]\n [  41  104    0    2    1    1    0    5   27   27]\n [ 135  379    4    7    7    0    2    5  152  166]\n [  51  234    1    5    2    0    0    6  100  437]]\n"
     ],
     "output_type": "stream"
    }
   ],
   "source": [
    "X = [df['cleaned_name'], df['cleaned_description'], df['cleaned_brand'], df['cleaned_category_raw']]\n",
    "\n",
    "for i in X:\n",
    "    X_train, X_test, y_train, y_test = train_test_split(i, df['labels'], test_size=0.25)\n",
    "    \n",
    "    pipeline = Pipeline([('vect', vectorizer),\n",
    "                     ('chi',  SelectKBest(chi2, k=1200)),\n",
    "                     ('clf', svm.SVC(kernel='rbf', gamma=1, C=1, decision_function_shape='ovo'))])\n",
    "\n",
    "    model = pipeline.fit(X_train, y_train)\n",
    "\n",
    "    ytest = np.array(y_test)\n",
    "\n",
    "    print(classification_report(ytest, model.predict(X_test)))\n",
    "    print(confusion_matrix(ytest, model.predict(X_test)))"
   ],
   "metadata": {
    "collapsed": false,
    "pycharm": {
     "name": "#%%\n",
     "is_executing": false
    }
   }
  },
  {
   "cell_type": "code",
   "execution_count": 9,
   "outputs": [],
   "source": [
    "# linear = svm.SVC(kernel='linear', C=1, decision_function_shape='ovo').fit(X_train, y_train)\n",
    "# rbf = svm.SVC(kernel='rbf', gamma=1, C=1, decision_function_shape='ovo').fit(X_train, y_train)\n",
    "# poly = svm.SVC(kernel='poly', degree=3, C=1, decision_function_shape='ovo').fit(X_train, y_train)\n",
    "# sig = svm.SVC(kernel='sigmoid', C=1, decision_function_shape='ovo').fit(X_train, y_train)"
   ],
   "metadata": {
    "collapsed": false,
    "pycharm": {
     "name": "#%%\n",
     "is_executing": false
    }
   }
  },
  {
   "cell_type": "code",
   "execution_count": 14,
   "outputs": [
    {
     "name": "stdout",
     "text": [
      "              precision    recall  f1-score   support\n\n           0       0.53      0.53      0.53      1635\n           1       0.36      0.69      0.47      1923\n           2       0.29      0.07      0.11       586\n           3       0.36      0.08      0.13       521\n           4       0.45      0.07      0.12       315\n           5       0.62      0.08      0.15       312\n           6       0.79      0.11      0.19       211\n           7       0.41      0.03      0.06       219\n           8       0.37      0.38      0.38       857\n           9       0.60      0.61      0.60       822\n\n    accuracy                           0.43      7401\n   macro avg       0.48      0.27      0.27      7401\nweighted avg       0.45      0.43      0.39      7401\n\n",
      "[[ 864  707   10    3    0    0    0    0   33   18]\n [ 417 1329   19    9    7    5    0    1   92   44]\n [  84  375   39   19    3    0    0    1   47   18]\n [  66  308   24   43    2    2    1    0   59   16]\n [  34  166    9    9   21    2    1    2   48   23]\n [  33  169    6    8    5   26    1    0   45   19]\n [  22   94    3    5    1    1   23    2   43   17]\n [  21   90    6    3    2    0    2    7   50   38]\n [  60  283   10   12    6    6    1    4  328  147]\n [  17  154    7    7    0    0    0    0  137  500]]\n"
     ],
     "output_type": "stream"
    }
   ],
   "source": [
    "from sklearn.compose import ColumnTransformer\n",
    "\n",
    "X = df\n",
    "X_train, X_test, y_train, y_test = train_test_split(X, df['labels'], test_size=0.25)\n",
    "column_trans = ColumnTransformer([('name', vectorizer, 'cleaned_name'),('description', vectorizer, 'cleaned_description'), \n",
    "                                  ('brand', vectorizer, 'cleaned_brand'), ('category_raw', vectorizer, 'cleaned_category_raw')],\n",
    "                                remainder='drop', verbose_feature_names_out=False)\n",
    "\n",
    "pipeline = Pipeline([('vect', column_trans),\n",
    "                     ('chi',  SelectKBest(chi2, k=7000)),\n",
    "                     ('clf', svm.SVC(kernel='rbf', gamma=1, C=1, decision_function_shape='ovo'))])\n",
    "\n",
    "model = pipeline.fit(X_train, y_train)\n",
    "\n",
    "ytest = np.array(y_test)\n",
    "\n",
    "print(classification_report(ytest, model.predict(X_test)))\n",
    "print(confusion_matrix(ytest, model.predict(X_test)))\n",
    "\n"
   ],
   "metadata": {
    "collapsed": false,
    "pycharm": {
     "name": "#%%\n",
     "is_executing": false
    }
   }
  }
 ],
 "metadata": {
  "kernelspec": {
   "display_name": "Python 3",
   "language": "python",
   "name": "python3"
  },
  "language_info": {
   "codemirror_mode": {
    "name": "ipython",
    "version": 2
   },
   "file_extension": ".py",
   "mimetype": "text/x-python",
   "name": "python",
   "nbconvert_exporter": "python",
   "pygments_lexer": "ipython2",
   "version": "2.7.6"
  },
  "pycharm": {
   "stem_cell": {
    "cell_type": "raw",
    "source": [],
    "metadata": {
     "collapsed": false
    }
   }
  }
 },
 "nbformat": 4,
 "nbformat_minor": 0
}