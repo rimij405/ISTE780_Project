{
 "cells": [
  {
   "cell_type": "markdown",
   "metadata": {},
   "source": [
    "# 0.1.3 - Preprocessing: Clean Text\n",
    "\n",
    "**Overview**: This notebook is responsible for cleaning up the raw dataset.\n",
    "\n",
    "**Actions**: This notebook performs the following actions:\n",
    "\n",
    "- Remove non-ASCII characters from the textual features.\n",
    "\n",
    "**Dependencies**: This notebook depends on the following artifact(s):\n",
    "\n",
    "- `data/interim/ecommerce_data-cleaned-0.1.2.csv`\n",
    "\n",
    "**Targets**: This notebook outputs one (1) artifact:\n",
    "\n",
    "- `data/interim/ecommerce_data-cleaned-0.1.3.csv`"
   ]
  },
  {
   "cell_type": "markdown",
   "metadata": {},
   "source": [
    "## Setup\n",
    "\n",
    "The following cells import required libraries for python analysis, import the module path to access the project's `src/` module scripts, and enable autoreloading for the hot-reloading of source files outside of the notebook. These are all optional and should be included if needed for development."
   ]
  },
  {
   "cell_type": "code",
   "execution_count": 1,
   "metadata": {},
   "outputs": [
    {
     "name": "stdout",
     "output_type": "stream",
     "text": [
      "D:\\Repositories\\rit\\ISTE780\\Project\n"
     ]
    }
   ],
   "source": [
    "# Enable hot-reloading of external scripts.\n",
    "%load_ext autoreload\n",
    "%autoreload 2\n",
    "\n",
    "# Set project directory to project root.\n",
    "from pathlib import Path\n",
    "PROJECT_DIR = Path.cwd().resolve().parents[0]\n",
    "%cd {PROJECT_DIR}\n",
    "\n",
    "# Import utilities.\n",
    "from src.data import *\n",
    "from src.features import *"
   ]
  },
  {
   "cell_type": "markdown",
   "metadata": {},
   "source": [
    "## Load Data"
   ]
  },
  {
   "cell_type": "code",
   "execution_count": 2,
   "metadata": {},
   "outputs": [
    {
     "data": {
      "text/plain": [
       "WindowsPath('D:/Repositories/rit/ISTE780/Project/data/interim/ecommerce_data-cleaned-0.1.2.csv')"
      ]
     },
     "execution_count": 2,
     "metadata": {},
     "output_type": "execute_result"
    }
   ],
   "source": [
    "# Read dataset into pandas dataframe.\n",
    "input_filepath = get_interim_filepath(\"0.1.2\", tag=\"cleaned\")\n",
    "input_filepath"
   ]
  },
  {
   "cell_type": "code",
   "execution_count": 3,
   "metadata": {},
   "outputs": [
    {
     "name": "stdout",
     "output_type": "stream",
     "text": [
      "<class 'pandas.core.frame.DataFrame'>\n",
      "Int64Index: 29604 entries, 0 to 29999\n",
      "Data columns (total 9 columns):\n",
      " #   Column        Non-Null Count  Dtype  \n",
      "---  ------        --------------  -----  \n",
      " 0   brand         29045 non-null  object \n",
      " 1   name          29604 non-null  object \n",
      " 2   description   29552 non-null  object \n",
      " 3   category_1    29604 non-null  object \n",
      " 4   category_2    29604 non-null  object \n",
      " 5   category_3    29604 non-null  object \n",
      " 6   keywords      29604 non-null  object \n",
      " 7   price_raw     29604 non-null  float64\n",
      " 8   discount_raw  29604 non-null  float64\n",
      "dtypes: float64(2), object(7)\n",
      "memory usage: 2.3+ MB\n"
     ]
    },
    {
     "data": {
      "text/html": [
       "<div>\n",
       "<style scoped>\n",
       "    .dataframe tbody tr th:only-of-type {\n",
       "        vertical-align: middle;\n",
       "    }\n",
       "\n",
       "    .dataframe tbody tr th {\n",
       "        vertical-align: top;\n",
       "    }\n",
       "\n",
       "    .dataframe thead th {\n",
       "        text-align: right;\n",
       "    }\n",
       "</style>\n",
       "<table border=\"1\" class=\"dataframe\">\n",
       "  <thead>\n",
       "    <tr style=\"text-align: right;\">\n",
       "      <th></th>\n",
       "      <th>brand</th>\n",
       "      <th>name</th>\n",
       "      <th>description</th>\n",
       "      <th>category_1</th>\n",
       "      <th>category_2</th>\n",
       "      <th>category_3</th>\n",
       "      <th>keywords</th>\n",
       "      <th>price_raw</th>\n",
       "      <th>discount_raw</th>\n",
       "    </tr>\n",
       "  </thead>\n",
       "  <tbody>\n",
       "    <tr>\n",
       "      <th>0</th>\n",
       "      <td>La Costeï¿½ï¿½a</td>\n",
       "      <td>La Costena Chipotle Peppers, 7 OZ (Pack of 12)</td>\n",
       "      <td>We aim to show you accurate product informati...</td>\n",
       "      <td>Food</td>\n",
       "      <td>Meal Solutions, Grains &amp; Pasta</td>\n",
       "      <td>Canned Goods</td>\n",
       "      <td>Canned Vegetables</td>\n",
       "      <td>31.93</td>\n",
       "      <td>31.93</td>\n",
       "    </tr>\n",
       "    <tr>\n",
       "      <th>1</th>\n",
       "      <td>Equate</td>\n",
       "      <td>Equate Triamcinolone Acetonide Nasal Allergy S...</td>\n",
       "      <td>We aim to show you accurate product informati...</td>\n",
       "      <td>Health</td>\n",
       "      <td>Equate</td>\n",
       "      <td>Equate Allergy</td>\n",
       "      <td>Equate Sinus Congestion &amp; Nasal Care</td>\n",
       "      <td>10.48</td>\n",
       "      <td>10.48</td>\n",
       "    </tr>\n",
       "    <tr>\n",
       "      <th>2</th>\n",
       "      <td>AduroSmart ERIA</td>\n",
       "      <td>AduroSmart ERIA Soft White Smart A19 Light Bul...</td>\n",
       "      <td>We aim to show you accurate product informati...</td>\n",
       "      <td>Electronics</td>\n",
       "      <td>Smart Home</td>\n",
       "      <td>Smart Energy and Lighting</td>\n",
       "      <td>Smart Lighting   Smart Light Bulbs</td>\n",
       "      <td>10.99</td>\n",
       "      <td>10.99</td>\n",
       "    </tr>\n",
       "    <tr>\n",
       "      <th>3</th>\n",
       "      <td>lowrider</td>\n",
       "      <td>24\" Classic Adjustable Balloon Fender Set Chro...</td>\n",
       "      <td>We aim to show you accurate product informati...</td>\n",
       "      <td>Sports &amp; Outdoors</td>\n",
       "      <td>Bikes</td>\n",
       "      <td>Bike Accessories</td>\n",
       "      <td>Bike Fenders</td>\n",
       "      <td>38.59</td>\n",
       "      <td>38.59</td>\n",
       "    </tr>\n",
       "    <tr>\n",
       "      <th>4</th>\n",
       "      <td>Anself</td>\n",
       "      <td>Elephant Shape Silicone Drinkware Portable Sil...</td>\n",
       "      <td>We aim to show you accurate product informati...</td>\n",
       "      <td>Baby</td>\n",
       "      <td>Feeding</td>\n",
       "      <td>Sippy Cups: Alternatives to Plastic</td>\n",
       "      <td>Unknown</td>\n",
       "      <td>5.81</td>\n",
       "      <td>5.81</td>\n",
       "    </tr>\n",
       "  </tbody>\n",
       "</table>\n",
       "</div>"
      ],
      "text/plain": [
       "             brand                                               name  \\\n",
       "0  La Costeï¿½ï¿½a     La Costena Chipotle Peppers, 7 OZ (Pack of 12)   \n",
       "1           Equate  Equate Triamcinolone Acetonide Nasal Allergy S...   \n",
       "2  AduroSmart ERIA  AduroSmart ERIA Soft White Smart A19 Light Bul...   \n",
       "3         lowrider  24\" Classic Adjustable Balloon Fender Set Chro...   \n",
       "4           Anself  Elephant Shape Silicone Drinkware Portable Sil...   \n",
       "\n",
       "                                         description          category_1  \\\n",
       "0   We aim to show you accurate product informati...               Food    \n",
       "1   We aim to show you accurate product informati...             Health    \n",
       "2   We aim to show you accurate product informati...        Electronics    \n",
       "3   We aim to show you accurate product informati...  Sports & Outdoors    \n",
       "4   We aim to show you accurate product informati...               Baby    \n",
       "\n",
       "                         category_2                            category_3  \\\n",
       "0   Meal Solutions, Grains & Pasta                          Canned Goods    \n",
       "1                           Equate                        Equate Allergy    \n",
       "2                       Smart Home             Smart Energy and Lighting    \n",
       "3                            Bikes                      Bike Accessories    \n",
       "4                          Feeding    Sippy Cups: Alternatives to Plastic   \n",
       "\n",
       "                               keywords  price_raw  discount_raw  \n",
       "0                     Canned Vegetables      31.93         31.93  \n",
       "1  Equate Sinus Congestion & Nasal Care      10.48         10.48  \n",
       "2    Smart Lighting   Smart Light Bulbs      10.99         10.99  \n",
       "3                          Bike Fenders      38.59         38.59  \n",
       "4                               Unknown       5.81          5.81  "
      ]
     },
     "execution_count": 3,
     "metadata": {},
     "output_type": "execute_result"
    }
   ],
   "source": [
    "df_input = pd.read_csv(input_filepath, index_col = 0)\n",
    "df_input.info()\n",
    "df_input.head()"
   ]
  },
  {
   "cell_type": "markdown",
   "metadata": {},
   "source": [
    "## Text Preprocessing\n",
    "\n",
    "We preprocess our text fields using a `PorterStemmer` and punctuation-targeting regex removal pattern."
   ]
  },
  {
   "cell_type": "code",
   "execution_count": 4,
   "metadata": {},
   "outputs": [],
   "source": [
    "# Get the stopwords.\n",
    "from nltk.corpus import stopwords\n",
    "from nltk.stem import PorterStemmer\n",
    "import regex\n",
    "\n",
    "# Setup function for cleaning text fields of stop words.\n",
    "words = stopwords.words(\"english\")\n",
    "stemmer = PorterStemmer()\n",
    "def clean_text(x):\n",
    "    return \" \".join([stemmer.stem(i) for i in regex.sub(\"[^a-zA-Z0-9]\", \" \", x).split() if i not in words]).lower()\n",
    "def clean_feature(feature):\n",
    "    print(\"Cleaning {}...\".format(feature.name))\n",
    "    return feature.apply(clean_text)"
   ]
  },
  {
   "cell_type": "code",
   "execution_count": 5,
   "metadata": {},
   "outputs": [
    {
     "data": {
      "text/html": [
       "<div>\n",
       "<style scoped>\n",
       "    .dataframe tbody tr th:only-of-type {\n",
       "        vertical-align: middle;\n",
       "    }\n",
       "\n",
       "    .dataframe tbody tr th {\n",
       "        vertical-align: top;\n",
       "    }\n",
       "\n",
       "    .dataframe thead th {\n",
       "        text-align: right;\n",
       "    }\n",
       "</style>\n",
       "<table border=\"1\" class=\"dataframe\">\n",
       "  <thead>\n",
       "    <tr style=\"text-align: right;\">\n",
       "      <th></th>\n",
       "      <th>brand</th>\n",
       "      <th>name</th>\n",
       "      <th>description</th>\n",
       "      <th>category_1</th>\n",
       "      <th>category_2</th>\n",
       "      <th>category_3</th>\n",
       "      <th>keywords</th>\n",
       "    </tr>\n",
       "  </thead>\n",
       "  <tbody>\n",
       "    <tr>\n",
       "      <th>count</th>\n",
       "      <td>29045</td>\n",
       "      <td>29604</td>\n",
       "      <td>29552</td>\n",
       "      <td>29604</td>\n",
       "      <td>29604</td>\n",
       "      <td>29604</td>\n",
       "      <td>29604</td>\n",
       "    </tr>\n",
       "    <tr>\n",
       "      <th>unique</th>\n",
       "      <td>10594</td>\n",
       "      <td>29308</td>\n",
       "      <td>28748</td>\n",
       "      <td>34</td>\n",
       "      <td>312</td>\n",
       "      <td>1553</td>\n",
       "      <td>2078</td>\n",
       "    </tr>\n",
       "    <tr>\n",
       "      <th>top</th>\n",
       "      <td>Unique Bargains</td>\n",
       "      <td>FOOTBALL AMERICA YOUTH INTEGRATED FOOTBALL PAN...</td>\n",
       "      <td>We aim to show you accurate product informati...</td>\n",
       "      <td>Sports &amp; Outdoors</td>\n",
       "      <td>Sports</td>\n",
       "      <td>Bike Components</td>\n",
       "      <td>Unknown</td>\n",
       "    </tr>\n",
       "    <tr>\n",
       "      <th>freq</th>\n",
       "      <td>317</td>\n",
       "      <td>8</td>\n",
       "      <td>84</td>\n",
       "      <td>10963</td>\n",
       "      <td>3746</td>\n",
       "      <td>1284</td>\n",
       "      <td>11690</td>\n",
       "    </tr>\n",
       "  </tbody>\n",
       "</table>\n",
       "</div>"
      ],
      "text/plain": [
       "                  brand                                               name  \\\n",
       "count             29045                                              29604   \n",
       "unique            10594                                              29308   \n",
       "top     Unique Bargains  FOOTBALL AMERICA YOUTH INTEGRATED FOOTBALL PAN...   \n",
       "freq                317                                                  8   \n",
       "\n",
       "                                              description          category_1  \\\n",
       "count                                               29552               29604   \n",
       "unique                                              28748                  34   \n",
       "top      We aim to show you accurate product informati...  Sports & Outdoors    \n",
       "freq                                                   84               10963   \n",
       "\n",
       "       category_2         category_3 keywords  \n",
       "count       29604              29604    29604  \n",
       "unique        312               1553     2078  \n",
       "top       Sports    Bike Components   Unknown  \n",
       "freq         3746               1284    11690  "
      ]
     },
     "execution_count": 5,
     "metadata": {},
     "output_type": "execute_result"
    }
   ],
   "source": [
    "# Select text fields to clean.\n",
    "df_text = df_input[[\"brand\", \"name\", \"description\", \"category_1\", \"category_2\", \"category_3\", \"keywords\"]]\n",
    "df_text.describe()"
   ]
  },
  {
   "cell_type": "code",
   "execution_count": 6,
   "metadata": {
    "tags": []
   },
   "outputs": [
    {
     "data": {
      "text/html": [
       "<div>\n",
       "<style scoped>\n",
       "    .dataframe tbody tr th:only-of-type {\n",
       "        vertical-align: middle;\n",
       "    }\n",
       "\n",
       "    .dataframe tbody tr th {\n",
       "        vertical-align: top;\n",
       "    }\n",
       "\n",
       "    .dataframe thead th {\n",
       "        text-align: right;\n",
       "    }\n",
       "</style>\n",
       "<table border=\"1\" class=\"dataframe\">\n",
       "  <thead>\n",
       "    <tr style=\"text-align: right;\">\n",
       "      <th></th>\n",
       "      <th>brand</th>\n",
       "      <th>name</th>\n",
       "      <th>description</th>\n",
       "      <th>category_1</th>\n",
       "      <th>category_2</th>\n",
       "      <th>category_3</th>\n",
       "      <th>keywords</th>\n",
       "    </tr>\n",
       "  </thead>\n",
       "  <tbody>\n",
       "    <tr>\n",
       "      <th>count</th>\n",
       "      <td>29604</td>\n",
       "      <td>29604</td>\n",
       "      <td>29604</td>\n",
       "      <td>29604</td>\n",
       "      <td>29604</td>\n",
       "      <td>29604</td>\n",
       "      <td>29604</td>\n",
       "    </tr>\n",
       "    <tr>\n",
       "      <th>unique</th>\n",
       "      <td>10595</td>\n",
       "      <td>29308</td>\n",
       "      <td>28749</td>\n",
       "      <td>34</td>\n",
       "      <td>312</td>\n",
       "      <td>1553</td>\n",
       "      <td>2078</td>\n",
       "    </tr>\n",
       "    <tr>\n",
       "      <th>top</th>\n",
       "      <td></td>\n",
       "      <td>FOOTBALL AMERICA YOUTH INTEGRATED FOOTBALL PAN...</td>\n",
       "      <td>We aim to show you accurate product informati...</td>\n",
       "      <td>Sports &amp; Outdoors</td>\n",
       "      <td>Sports</td>\n",
       "      <td>Bike Components</td>\n",
       "      <td>Unknown</td>\n",
       "    </tr>\n",
       "    <tr>\n",
       "      <th>freq</th>\n",
       "      <td>559</td>\n",
       "      <td>8</td>\n",
       "      <td>84</td>\n",
       "      <td>10963</td>\n",
       "      <td>3746</td>\n",
       "      <td>1284</td>\n",
       "      <td>11690</td>\n",
       "    </tr>\n",
       "  </tbody>\n",
       "</table>\n",
       "</div>"
      ],
      "text/plain": [
       "        brand                                               name  \\\n",
       "count   29604                                              29604   \n",
       "unique  10595                                              29308   \n",
       "top            FOOTBALL AMERICA YOUTH INTEGRATED FOOTBALL PAN...   \n",
       "freq      559                                                  8   \n",
       "\n",
       "                                              description          category_1  \\\n",
       "count                                               29604               29604   \n",
       "unique                                              28749                  34   \n",
       "top      We aim to show you accurate product informati...  Sports & Outdoors    \n",
       "freq                                                   84               10963   \n",
       "\n",
       "       category_2         category_3 keywords  \n",
       "count       29604              29604    29604  \n",
       "unique        312               1553     2078  \n",
       "top       Sports    Bike Components   Unknown  \n",
       "freq         3746               1284    11690  "
      ]
     },
     "execution_count": 6,
     "metadata": {},
     "output_type": "execute_result"
    }
   ],
   "source": [
    "# Fill missing values with empty Strings.\n",
    "df_text = df_text.fillna(\"\")\n",
    "df_text.describe()"
   ]
  },
  {
   "cell_type": "code",
   "execution_count": 8,
   "metadata": {},
   "outputs": [
    {
     "name": "stdout",
     "output_type": "stream",
     "text": [
      "Cleaning brand...\n",
      "Cleaning name...\n",
      "Cleaning description...\n",
      "Cleaning category_1...\n",
      "Cleaning category_2...\n",
      "Cleaning category_3...\n",
      "Cleaning keywords...\n",
      "Wall time: 1min 18s\n"
     ]
    }
   ],
   "source": [
    "%%time\n",
    "\n",
    "# Apply the clean text function to all text fields.\n",
    "df_filtered = df_text.apply(clean_feature)"
   ]
  },
  {
   "cell_type": "code",
   "execution_count": 15,
   "metadata": {},
   "outputs": [
    {
     "name": "stdout",
     "output_type": "stream",
     "text": [
      "<class 'pandas.core.frame.DataFrame'>\n",
      "Int64Index: 29604 entries, 0 to 29999\n",
      "Data columns (total 9 columns):\n",
      " #   Column        Non-Null Count  Dtype  \n",
      "---  ------        --------------  -----  \n",
      " 0   brand         29604 non-null  object \n",
      " 1   name          29604 non-null  object \n",
      " 2   description   29604 non-null  object \n",
      " 3   category_1    29604 non-null  object \n",
      " 4   category_2    29604 non-null  object \n",
      " 5   category_3    29604 non-null  object \n",
      " 6   keywords      29604 non-null  object \n",
      " 7   price_raw     29604 non-null  float64\n",
      " 8   discount_raw  29604 non-null  float64\n",
      "dtypes: float64(2), object(7)\n",
      "memory usage: 3.3+ MB\n"
     ]
    }
   ],
   "source": [
    "df_output = df_filtered.join(df_input[[\"price_raw\", \"discount_raw\"]], how='outer')\n",
    "df_output.info()"
   ]
  },
  {
   "cell_type": "markdown",
   "metadata": {},
   "source": [
    "## Save Interim Dataset\n",
    "\n",
    "The dataset has renamed fields and is ready for the next step in the pipeline."
   ]
  },
  {
   "cell_type": "code",
   "execution_count": 16,
   "metadata": {},
   "outputs": [
    {
     "name": "stdout",
     "output_type": "stream",
     "text": [
      "Saving (cleaned) dataframe (29604, 9) to D:\\Repositories\\rit\\ISTE780\\Project\\data\\interim\\ecommerce_data-cleaned-0.1.3.csv.\n",
      "File saved.\n"
     ]
    }
   ],
   "source": [
    "# Save the file\n",
    "save_interim(df_output, \"0.1.3\")"
   ]
  }
 ],
 "metadata": {
  "interpreter": {
   "hash": "5b946e3ad701e39b274e0926621a4c5b53e2fa16d17112201a160d3918c4e637"
  },
  "kernelspec": {
   "display_name": "Python 3 (ipykernel)",
   "language": "python",
   "name": "python3"
  },
  "language_info": {
   "codemirror_mode": {
    "name": "ipython",
    "version": 3
   },
   "file_extension": ".py",
   "mimetype": "text/x-python",
   "name": "python",
   "nbconvert_exporter": "python",
   "pygments_lexer": "ipython3",
   "version": "3.9.7"
  }
 },
 "nbformat": 4,
 "nbformat_minor": 4
}
