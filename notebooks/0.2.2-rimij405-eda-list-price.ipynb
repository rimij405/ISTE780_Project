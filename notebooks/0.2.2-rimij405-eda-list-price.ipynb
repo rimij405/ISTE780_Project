{
 "cells": [
  {
   "cell_type": "markdown",
   "id": "be5e0fa2-2ae2-4662-b2bc-69721ab7b245",
   "metadata": {},
   "source": [
    "# 0.2.2 - List Price EDA\n",
    "\n",
    "## Overview\n",
    "\n",
    "This notebook reviews the `List Price` feature.\n",
    "\n",
    "### Actions\n",
    "\n",
    "- Perform EDA on the `List Price` feature.\n",
    "- Obtain a histogram of the list price distribution across all records.\n",
    "- Use binned ranges to determine response categories.\n",
    "- Add `Price` feature with the labelled list price category.\n",
    "\n",
    "### Dependencies\n",
    "\n",
    "This notebook depends on:\n",
    "\n",
    "- `data/interim/ecommerce_data-cleaned-0.2.1.csv`\n",
    "\n",
    "### Targets\n",
    "\n",
    "This notebook outputs:\n",
    "\n",
    "- `data/interim/ecommerce_data-cleaned-0.2.2.csv`"
   ]
  },
  {
   "cell_type": "markdown",
   "id": "08c76db1-9b7f-4769-9270-e798fdb59b80",
   "metadata": {},
   "source": [
    "## Setup\n",
    "\n",
    "The following cells import required libraries for python analysis, import the module path to access the project's `src/` module scripts, and enable autoreloading for the hot-reloading of source files outside of the notebook. These are all optional and should be included if needed for development."
   ]
  },
  {
   "cell_type": "code",
   "execution_count": 1,
   "id": "dd15847d-a32c-4b15-b6b3-644cca1eedf7",
   "metadata": {},
   "outputs": [
    {
     "name": "stdout",
     "output_type": "stream",
     "text": [
      "Module added to PATH: \"D:\\Repositories\\rit\\ISTE780\\Project\".\n"
     ]
    }
   ],
   "source": [
    "# Enable hot-reloading of external scripts.\n",
    "%load_ext autoreload\n",
    "%autoreload 2\n",
    "\n",
    "# Import libraries.\n",
    "import os, sys\n",
    "from pathlib import Path\n",
    "import pandas as pd\n",
    "import numpy as np\n",
    "\n",
    "# Import plotting library.\n",
    "import matplotlib.pyplot as plt\n",
    "from matplotlib import colors\n",
    "from matplotlib.ticker import PercentFormatter\n",
    "plt.style.use('ggplot')\n",
    "\n",
    "# Add project to system PATH.\n",
    "module_path = Path(\".\").resolve().parents[0]\n",
    "if str(module_path) not in sys.path:\n",
    "    sys.path.append(str(module_path))\n",
    "    print('Module added to PATH: \"{}\".'.format(module_path))\n",
    "else:\n",
    "    print('Module already accessible from PATH \"{}\".'.format(module_path))"
   ]
  },
  {
   "cell_type": "code",
   "execution_count": 2,
   "id": "bc99021d-1b4c-4375-a5b9-562f0cf4d85e",
   "metadata": {},
   "outputs": [
    {
     "name": "stdout",
     "output_type": "stream",
     "text": [
      "D:\\Repositories\\rit\\ISTE780\\Project\n"
     ]
    }
   ],
   "source": [
    "# Update the working directory to be the project root directory.\n",
    "from pathlib import Path, PurePosixPath\n",
    "PROJECT_DIR = Path.cwd().resolve().parents[0]\n",
    "%cd {PROJECT_DIR}"
   ]
  },
  {
   "cell_type": "code",
   "execution_count": 3,
   "id": "9cacc2cd-0e4e-4584-9872-a56147ef6ec3",
   "metadata": {},
   "outputs": [],
   "source": [
    "# Import utilities.\n",
    "from src.data import *\n",
    "from src.features import *"
   ]
  },
  {
   "cell_type": "code",
   "execution_count": 4,
   "id": "042de018-3e05-4c3c-a5f9-2401306ecbdb",
   "metadata": {},
   "outputs": [
    {
     "name": "stdout",
     "output_type": "stream",
     "text": [
      "<class 'pandas.core.frame.DataFrame'>\n",
      "Int64Index: 29604 entries, 0 to 29999\n",
      "Data columns (total 6 columns):\n",
      " #   Column        Non-Null Count  Dtype  \n",
      "---  ------        --------------  -----  \n",
      " 0   brand         29045 non-null  object \n",
      " 1   name          29604 non-null  object \n",
      " 2   description   29552 non-null  object \n",
      " 3   category_raw  29588 non-null  object \n",
      " 4   price_raw     29604 non-null  float64\n",
      " 5   discount_raw  29604 non-null  float64\n",
      "dtypes: float64(2), object(4)\n",
      "memory usage: 1.6+ MB\n"
     ]
    },
    {
     "data": {
      "text/html": [
       "<div>\n",
       "<style scoped>\n",
       "    .dataframe tbody tr th:only-of-type {\n",
       "        vertical-align: middle;\n",
       "    }\n",
       "\n",
       "    .dataframe tbody tr th {\n",
       "        vertical-align: top;\n",
       "    }\n",
       "\n",
       "    .dataframe thead th {\n",
       "        text-align: right;\n",
       "    }\n",
       "</style>\n",
       "<table border=\"1\" class=\"dataframe\">\n",
       "  <thead>\n",
       "    <tr style=\"text-align: right;\">\n",
       "      <th></th>\n",
       "      <th>brand</th>\n",
       "      <th>name</th>\n",
       "      <th>description</th>\n",
       "      <th>category_raw</th>\n",
       "      <th>price_raw</th>\n",
       "      <th>discount_raw</th>\n",
       "    </tr>\n",
       "  </thead>\n",
       "  <tbody>\n",
       "    <tr>\n",
       "      <th>0</th>\n",
       "      <td>La Costeï¿½ï¿½a</td>\n",
       "      <td>La Costena Chipotle Peppers, 7 OZ (Pack of 12)</td>\n",
       "      <td>We aim to show you accurate product informati...</td>\n",
       "      <td>Food | Meal Solutions, Grains &amp; Pasta | Canned...</td>\n",
       "      <td>31.93</td>\n",
       "      <td>31.93</td>\n",
       "    </tr>\n",
       "    <tr>\n",
       "      <th>1</th>\n",
       "      <td>Equate</td>\n",
       "      <td>Equate Triamcinolone Acetonide Nasal Allergy S...</td>\n",
       "      <td>We aim to show you accurate product informati...</td>\n",
       "      <td>Health | Equate | Equate Allergy | Equate Sinu...</td>\n",
       "      <td>10.48</td>\n",
       "      <td>10.48</td>\n",
       "    </tr>\n",
       "    <tr>\n",
       "      <th>2</th>\n",
       "      <td>AduroSmart ERIA</td>\n",
       "      <td>AduroSmart ERIA Soft White Smart A19 Light Bul...</td>\n",
       "      <td>We aim to show you accurate product informati...</td>\n",
       "      <td>Electronics | Smart Home | Smart Energy and Li...</td>\n",
       "      <td>10.99</td>\n",
       "      <td>10.99</td>\n",
       "    </tr>\n",
       "    <tr>\n",
       "      <th>3</th>\n",
       "      <td>lowrider</td>\n",
       "      <td>24\" Classic Adjustable Balloon Fender Set Chro...</td>\n",
       "      <td>We aim to show you accurate product informati...</td>\n",
       "      <td>Sports &amp; Outdoors | Bikes | Bike Accessories |...</td>\n",
       "      <td>38.59</td>\n",
       "      <td>38.59</td>\n",
       "    </tr>\n",
       "    <tr>\n",
       "      <th>4</th>\n",
       "      <td>Anself</td>\n",
       "      <td>Elephant Shape Silicone Drinkware Portable Sil...</td>\n",
       "      <td>We aim to show you accurate product informati...</td>\n",
       "      <td>Baby | Feeding | Sippy Cups: Alternatives to P...</td>\n",
       "      <td>5.81</td>\n",
       "      <td>5.81</td>\n",
       "    </tr>\n",
       "  </tbody>\n",
       "</table>\n",
       "</div>"
      ],
      "text/plain": [
       "             brand                                               name  \\\n",
       "0  La Costeï¿½ï¿½a     La Costena Chipotle Peppers, 7 OZ (Pack of 12)   \n",
       "1           Equate  Equate Triamcinolone Acetonide Nasal Allergy S...   \n",
       "2  AduroSmart ERIA  AduroSmart ERIA Soft White Smart A19 Light Bul...   \n",
       "3         lowrider  24\" Classic Adjustable Balloon Fender Set Chro...   \n",
       "4           Anself  Elephant Shape Silicone Drinkware Portable Sil...   \n",
       "\n",
       "                                         description  \\\n",
       "0   We aim to show you accurate product informati...   \n",
       "1   We aim to show you accurate product informati...   \n",
       "2   We aim to show you accurate product informati...   \n",
       "3   We aim to show you accurate product informati...   \n",
       "4   We aim to show you accurate product informati...   \n",
       "\n",
       "                                        category_raw  price_raw  discount_raw  \n",
       "0  Food | Meal Solutions, Grains & Pasta | Canned...      31.93         31.93  \n",
       "1  Health | Equate | Equate Allergy | Equate Sinu...      10.48         10.48  \n",
       "2  Electronics | Smart Home | Smart Energy and Li...      10.99         10.99  \n",
       "3  Sports & Outdoors | Bikes | Bike Accessories |...      38.59         38.59  \n",
       "4  Baby | Feeding | Sippy Cups: Alternatives to P...       5.81          5.81  "
      ]
     },
     "execution_count": 4,
     "metadata": {},
     "output_type": "execute_result"
    }
   ],
   "source": [
    "# Get the dependency.\n",
    "input_filepath = \"data/interim/ecommerce_data-cleaned-0.2.1.csv\" # get_interim_filepath(\"0.2.1\", tag=\"cleaned\")\n",
    "df_input = pd.read_csv(input_filepath, index_col = 0)\n",
    "df_input.info()\n",
    "df_input.head()"
   ]
  },
  {
   "cell_type": "code",
   "execution_count": 5,
   "id": "8444aa87-5f3d-457f-8c7a-95303d2d6e3c",
   "metadata": {},
   "outputs": [
    {
     "name": "stdout",
     "output_type": "stream",
     "text": [
      "There are 0 records with missing list prices.\n",
      "Quantiles: 0% [0.1], 25% [11.12], 50% [21.47], 75% [46.02], 100% [13280.81]\n",
      "Inter-quartile Range: 34.900000000000006\n",
      "Distance between Q4 and Q3: 13234.789999999999\n"
     ]
    },
    {
     "data": {
      "text/plain": [
       "count    29604.000000\n",
       "mean        72.760576\n",
       "std        319.713464\n",
       "min          0.100000\n",
       "25%         11.120000\n",
       "50%         21.470000\n",
       "75%         46.020000\n",
       "max      13280.810000\n",
       "Name: price_raw, dtype: float64"
      ]
     },
     "execution_count": 5,
     "metadata": {},
     "output_type": "execute_result"
    }
   ],
   "source": [
    "list_price = df_input['price_raw']\n",
    "describe_features.describe_price(list_price)"
   ]
  },
  {
   "cell_type": "code",
   "execution_count": 6,
   "id": "73e75d21-1155-4134-94b0-38c84e08dc4a",
   "metadata": {},
   "outputs": [
    {
     "name": "stdout",
     "output_type": "stream",
     "text": [
      "There are 47 products with prices less than or equal to 1\n",
      "There are 6578 products with prices less than or equal to 10\n",
      "There are 7406 products with prices less than or equal to 11.12\n",
      "There are 14807 products with prices less than or equal to 21.47\n"
     ]
    }
   ],
   "source": [
    "# Count below.\n",
    "describe_features.count_below(list_price, 1)\n",
    "describe_features.count_below(list_price, 10)\n",
    "describe_features.count_below(list_price, list_price.quantile(0.25))\n",
    "describe_features.count_below(list_price, list_price.quantile(0.50))"
   ]
  },
  {
   "cell_type": "code",
   "execution_count": 7,
   "id": "8d8459bc-24aa-40a0-a566-6e85d9523e36",
   "metadata": {},
   "outputs": [
    {
     "name": "stdout",
     "output_type": "stream",
     "text": [
      "There are 14797 products with prices greater than 21.47\n",
      "There are 3279 products with prices greater than 100\n",
      "There are 501 products with prices greater than 500\n",
      "There are 157 products with prices greater than 2000\n",
      "There are 2 products with prices greater than 10000\n"
     ]
    }
   ],
   "source": [
    "# Count above.\n",
    "describe_features.count_above(list_price, list_price.quantile(0.50))\n",
    "describe_features.count_above(list_price, 100)\n",
    "describe_features.count_above(list_price, 500)\n",
    "describe_features.count_above(list_price, 2000)\n",
    "describe_features.count_above(list_price, 10000)"
   ]
  },
  {
   "cell_type": "code",
   "execution_count": 8,
   "id": "1d7370e2-5be6-45e0-a585-1470d15ceae1",
   "metadata": {},
   "outputs": [
    {
     "data": {
      "image/png": "[encoded data removed]",
      "text/plain": [
       "<Figure size 432x288 with 1 Axes>"
      ]
     },
     "metadata": {},
     "output_type": "display_data"
    }
   ],
   "source": [
    "# Boxplot of outliers\n",
    "fig, ax = plt.subplots(1, 1)\n",
    "ax.boxplot(list_price)\n",
    "ax.set_xlabel(\"List Price\")\n",
    "ax.set_ylabel(\"Frequency\")\n",
    "plt.show()"
   ]
  },
  {
   "cell_type": "code",
   "execution_count": 9,
   "id": "63af528a-3032-4d2b-898c-5653f66575af",
   "metadata": {},
   "outputs": [
    {
     "data": {
      "image/png": "[encoded data removed]",
      "text/plain": [
       "<Figure size 432x288 with 1 Axes>"
      ]
     },
     "metadata": {},
     "output_type": "display_data"
    }
   ],
   "source": [
    "# Boxplot of outliers\n",
    "mask = list_price > 100\n",
    "fig, ax = plt.subplots(1, 1)\n",
    "ax.boxplot(list_price[~mask])\n",
    "ax.set_xlabel(\"List Price\")\n",
    "ax.set_ylabel(\"Frequency\")\n",
    "plt.show()"
   ]
  },
  {
   "cell_type": "markdown",
   "id": "8e0129b4-b1d2-4631-8cc2-e1ae9165cf3b",
   "metadata": {},
   "source": [
    "We can see that $\\approx \\$70$ is the threshold for where values start to become outliers."
   ]
  },
  {
   "cell_type": "code",
   "execution_count": 10,
   "id": "5baf582d-0678-4cb7-9076-e701d1ff279b",
   "metadata": {},
   "outputs": [
    {
     "data": {
      "image/png": "[encoded data removed]",
      "text/plain": [
       "<Figure size 432x288 with 1 Axes>"
      ]
     },
     "metadata": {},
     "output_type": "display_data"
    }
   ],
   "source": [
    "# Histogram of List Prices\n",
    "fig, ax = plt.subplots(1, 1)\n",
    "ax.hist(list_price, bins=30)\n",
    "ax.set_title(\"Histogram of List Prices (All Prices) (n = {})\".format(list_price.shape[0]))\n",
    "ax.set_xlabel(\"List Price\")\n",
    "ax.set_ylabel(\"Frequency\")\n",
    "plt.show()"
   ]
  },
  {
   "cell_type": "code",
   "execution_count": 11,
   "id": "efc22d15-43b1-4b9e-8ce8-8e5d70ed6ae6",
   "metadata": {},
   "outputs": [
    {
     "data": {
      "image/png": "[encoded data removed]",
      "text/plain": [
       "<Figure size 432x288 with 1 Axes>"
      ]
     },
     "metadata": {},
     "output_type": "display_data"
    }
   ],
   "source": [
    "# Filtering out the outliers.\n",
    "mask = list_price > 100\n",
    "fig, ax = plt.subplots(1, 1)\n",
    "ax.hist(list_price[~mask], bins=10, range=(0, 100))\n",
    "ax.set_title(\"Histogram of List Prices (Under $100) (n = {})\".format(list_price[~mask].shape[0]))\n",
    "ax.set_xlabel(\"List Price\")\n",
    "ax.set_ylabel(\"Frequency\")\n",
    "plt.show()"
   ]
  },
  {
   "cell_type": "markdown",
   "id": "5d8e764a-ff50-4e6e-9d51-c4ab6fc0ff50",
   "metadata": {},
   "source": [
    "A vast majority ($n = 26325$) of the dataset is above $\\$100$."
   ]
  },
  {
   "cell_type": "code",
   "execution_count": 12,
   "id": "eb550eb9-02fe-471d-ac82-6e5b6432f3fc",
   "metadata": {},
   "outputs": [
    {
     "name": "stdout",
     "output_type": "stream",
     "text": [
      "There are 0 products with missing labels.\n"
     ]
    }
   ],
   "source": [
    "# Encode the prices into a price label.\n",
    "price_range = build_features.encode_price(df_input['price_raw'])\n",
    "print(\"There are {} products with missing labels.\".format(price_range.isna().sum()))"
   ]
  },
  {
   "cell_type": "code",
   "execution_count": 13,
   "id": "a586331a-c474-424e-8270-ff506ca66eb4",
   "metadata": {},
   "outputs": [
    {
     "name": "stdout",
     "output_type": "stream",
     "text": [
      "<class 'pandas.core.frame.DataFrame'>\n",
      "Int64Index: 29604 entries, 0 to 29999\n",
      "Data columns (total 7 columns):\n",
      " #   Column        Non-Null Count  Dtype   \n",
      "---  ------        --------------  -----   \n",
      " 0   brand         29045 non-null  object  \n",
      " 1   name          29604 non-null  object  \n",
      " 2   description   29552 non-null  object  \n",
      " 3   category_raw  29588 non-null  object  \n",
      " 4   price_raw     29604 non-null  float64 \n",
      " 5   discount_raw  29604 non-null  float64 \n",
      " 6   price_range   29604 non-null  category\n",
      "dtypes: category(1), float64(2), object(4)\n",
      "memory usage: 1.6+ MB\n"
     ]
    }
   ],
   "source": [
    "df_labelled = pd.concat([df_input, price_range], axis=1)\n",
    "df_labelled.info()"
   ]
  },
  {
   "cell_type": "markdown",
   "id": "a46f50f1-4f26-43b2-97fd-abd6d68b7578",
   "metadata": {},
   "source": [
    "## Save Interim Dataset\n",
    "\n",
    "The dataset has now been labelled appropriately."
   ]
  },
  {
   "cell_type": "code",
   "execution_count": 14,
   "id": "4d6d9cb1-c6a9-4c5d-ac0f-8eda35be31a7",
   "metadata": {},
   "outputs": [
    {
     "name": "stdout",
     "output_type": "stream",
     "text": [
      "Saving (cleaned) dataframe (29604, 7) to D:\\Repositories\\rit\\ISTE780\\Project\\data\\interim\\ecommerce_data-cleaned-0.2.2.csv.\n",
      "File saved.\n"
     ]
    }
   ],
   "source": [
    "# Save the file\n",
    "df_output = df_labelled\n",
    "save_interim(df_output, \"0.2.2\")"
   ]
  }
 ],
 "metadata": {
  "kernelspec": {
   "display_name": "Python 3 (ipykernel)",
   "language": "python",
   "name": "python3"
  },
  "language_info": {
   "codemirror_mode": {
    "name": "ipython",
    "version": 3
   },
   "file_extension": ".py",
   "mimetype": "text/x-python",
   "name": "python",
   "nbconvert_exporter": "python",
   "pygments_lexer": "ipython3",
   "version": "3.9.7"
  }
 },
 "nbformat": 4,
 "nbformat_minor": 5
}
